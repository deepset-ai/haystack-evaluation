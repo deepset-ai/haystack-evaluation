{
 "cells": [
  {
   "cell_type": "markdown",
   "id": "de766774-9542-4798-987f-60ede7e7e9ca",
   "metadata": {
    "id": "de766774-9542-4798-987f-60ede7e7e9ca"
   },
   "source": [
    "In this tutorial, we will show you how to use Haystack to evaluate the performance of a RAG pipeline.\n",
    "\n",
    "We will use the dataset from the [ARAGOG - Advanced Retrieval Augmented Generation Output Grading (ARAGOG)](https://arxiv.org/pdf/2404.01037) paper.\n",
    "The dataset is composed of a collection of 13 public AI/LLM-ArXiv research papers and 107 question-answer (QA) pairs. The (QA) pairs generated with the assistance of GPT-4, and then each pair was validated/corrected by humans.\n",
    "\n",
    "We will use the following Haystack components to evaluate the performance of a RAG pipeline:\n",
    "\n",
    "- [ContextRelevance](https://docs.haystack.deepset.ai/docs/contextrelevanceevaluator)\n",
    "- [Faithfulness](https://docs.haystack.deepset.ai/docs/faithfulnessevaluator)\n",
    "- [Semantic Answer Similarity](https://docs.haystack.deepset.ai/docs/sasevaluator)\n",
    "\n",
    "\n",
    "We will build a RAG pipeline and then evaluate it using the ARAGOG dataset by varying three parameters:\n",
    "\n",
    "- `top_k`: the maximum number of documents returned by the retriever\n",
    "- `embedding_model`: the model used to encode the documents and the question\n",
    "- `chunk_size`: the number of tokens in the input text that the model can process at once"
   ]
  },
  {
   "cell_type": "markdown",
   "id": "e05053f9-c325-4efd-9413-e2301f896b5b",
   "metadata": {},
   "source": [
    "# Let's first install haystack and the needed dependencies"
   ]
  },
  {
   "cell_type": "code",
   "execution_count": null,
   "id": "765f0a29-c385-475b-951e-780bf08252e2",
   "metadata": {},
   "outputs": [],
   "source": [
    "%%bash\n",
    "\n",
    "pip install haystack-ai \"git+https://github.com/deepset-ai/haystack.git@main\"\n",
    "pip install \"sentence-transformers>=2.2.0\"\n",
    "pip install pypdf\n",
    "git clone https://github.com/deepset-ai/haystack-evaluation"
   ]
  },
  {
   "cell_type": "markdown",
   "id": "e1b3ad1b-cadf-4815-ae2f-ef1aa40b8c77",
   "metadata": {},
   "source": [
    "# Let's define a base path for the dataset"
   ]
  },
  {
   "cell_type": "code",
   "execution_count": 43,
   "id": "sIPvc4YAr3PB",
   "metadata": {
    "id": "sIPvc4YAr3PB"
   },
   "outputs": [],
   "source": [
    "base_path = \"haystack-evaluation/datasets/ARAGOG\""
   ]
  },
  {
   "cell_type": "markdown",
   "id": "262a3ed6-8a7b-47e7-b550-211d7a3511d2",
   "metadata": {
    "id": "262a3ed6-8a7b-47e7-b550-211d7a3511d2"
   },
   "source": [
    "## We need to define a function to load the dataset the questions and answers"
   ]
  },
  {
   "cell_type": "code",
   "execution_count": 44,
   "id": "c981a088-e2bf-4ca5-b846-5e926874492a",
   "metadata": {
    "id": "c981a088-e2bf-4ca5-b846-5e926874492a"
   },
   "outputs": [],
   "source": [
    "import json\n",
    "from typing import Tuple, List\n",
    "\n",
    "def read_question_answers() -> Tuple[List[str], List[str]]:\n",
    "    with open(base_path+\"/eval_questions.json\", \"r\") as f:\n",
    "        data = json.load(f)\n",
    "        questions = data[\"questions\"]\n",
    "        answers = data[\"ground_truths\"]\n",
    "    return questions, answers"
   ]
  },
  {
   "cell_type": "markdown",
   "id": "b4558007-0416-4902-99d6-e6834ec28255",
   "metadata": {
    "id": "b4558007-0416-4902-99d6-e6834ec28255"
   },
   "source": [
    "## We will define an indexing pipeline which depend on two parameters `embedding_model` and the `chunk_size`"
   ]
  },
  {
   "cell_type": "code",
   "execution_count": 45,
   "id": "85a74f47-f3e0-4ee3-855e-ab0e70c584a4",
   "metadata": {
    "id": "85a74f47-f3e0-4ee3-855e-ab0e70c584a4"
   },
   "outputs": [],
   "source": [
    "from haystack import Pipeline\n",
    "from haystack.document_stores.in_memory import InMemoryDocumentStore\n",
    "from haystack.components.converters import PyPDFToDocument\n",
    "from haystack.components.embedders import SentenceTransformersDocumentEmbedder\n",
    "from haystack.components.preprocessors import DocumentCleaner, DocumentSplitter\n",
    "from haystack.components.writers import DocumentWriter\n",
    "from haystack.document_stores.types import DuplicatePolicy\n",
    "\n",
    "def indexing(embedding_model: str, chunk_size: int):\n",
    "    files_path = base_path+\"/papers_for_questions\"\n",
    "    document_store = InMemoryDocumentStore()\n",
    "    pipeline = Pipeline()\n",
    "    pipeline.add_component(\"converter\", PyPDFToDocument())\n",
    "    pipeline.add_component(\"cleaner\", DocumentCleaner())\n",
    "    pipeline.add_component(\"splitter\", DocumentSplitter(split_length=chunk_size))  # splitting by word\n",
    "    pipeline.add_component(\"writer\", DocumentWriter(document_store=document_store, policy=DuplicatePolicy.SKIP))\n",
    "    pipeline.add_component(\"embedder\", SentenceTransformersDocumentEmbedder(embedding_model))\n",
    "    pipeline.connect(\"converter\", \"cleaner\")\n",
    "    pipeline.connect(\"cleaner\", \"splitter\")\n",
    "    pipeline.connect(\"splitter\", \"embedder\")\n",
    "    pipeline.connect(\"embedder\", \"writer\")\n",
    "    pdf_files = [files_path+\"/\"+f_name for f_name in os.listdir(files_path)]\n",
    "    pipeline.run({\"converter\": {\"sources\": pdf_files}})\n",
    "\n",
    "    return document_store"
   ]
  },
  {
   "cell_type": "markdown",
   "id": "5f28209a-c9e8-4646-9c6d-62654cb84dbd",
   "metadata": {
    "id": "5f28209a-c9e8-4646-9c6d-62654cb84dbd"
   },
   "source": [
    "## We will define a function to run each query over a RAG architecture.\n",
    "\n",
    "## Notice that we run the RAG pipeline wrapped within a try/except, to avoid breaking the whole process if at some point there's an error while communicating with OpenAI API."
   ]
  },
  {
   "cell_type": "code",
   "execution_count": 46,
   "id": "bKLvCVk6sYXL",
   "metadata": {
    "id": "bKLvCVk6sYXL"
   },
   "outputs": [],
   "source": [
    "from haystack import Pipeline\n",
    "from haystack.components.builders import PromptBuilder, AnswerBuilder\n",
    "from haystack.components.embedders import SentenceTransformersTextEmbedder\n",
    "from haystack.components.generators import OpenAIGenerator\n",
    "from haystack.components.retrievers import InMemoryEmbeddingRetriever\n",
    "\n",
    "\n",
    "def basic_rag(document_store, embedding_model, top_k=2):\n",
    "    template = \"\"\"\n",
    "        You have to answer the following question based on the given context information only.\n",
    "        If the context is empty or just a '\\n' answer with None, example: \"None\".\n",
    "\n",
    "        Context:\n",
    "        {% for document in documents %}\n",
    "            {{ document.content }}\n",
    "        {% endfor %}\n",
    "\n",
    "        Question: {{question}}\n",
    "        Answer:\n",
    "        \"\"\"\n",
    "\n",
    "    basic_rag = Pipeline()\n",
    "    basic_rag.add_component(\"query_embedder\", SentenceTransformersTextEmbedder(\n",
    "        model=embedding_model, progress_bar=False\n",
    "    ))\n",
    "    basic_rag.add_component(\"retriever\", InMemoryEmbeddingRetriever(document_store, top_k=top_k))\n",
    "    basic_rag.add_component(\"prompt_builder\", PromptBuilder(template=template))\n",
    "    basic_rag.add_component(\"llm\", OpenAIGenerator(model=\"gpt-3.5-turbo\"))\n",
    "    basic_rag.add_component(\"answer_builder\", AnswerBuilder())\n",
    "\n",
    "    basic_rag.connect(\"query_embedder\", \"retriever.query_embedding\")\n",
    "    basic_rag.connect(\"retriever\", \"prompt_builder.documents\")\n",
    "    basic_rag.connect(\"prompt_builder\", \"llm\")\n",
    "    basic_rag.connect(\"llm.replies\", \"answer_builder.replies\")\n",
    "    basic_rag.connect(\"llm.meta\", \"answer_builder.meta\")\n",
    "    basic_rag.connect(\"retriever\", \"answer_builder.documents\")\n",
    "\n",
    "    return basic_rag"
   ]
  },
  {
   "cell_type": "code",
   "execution_count": 47,
   "id": "2a7e8e57-0242-4517-8b8b-f4fab1b58cae",
   "metadata": {
    "id": "2a7e8e57-0242-4517-8b8b-f4fab1b58cae"
   },
   "outputs": [],
   "source": [
    "from tqdm import tqdm\n",
    "from pathlib import Path\n",
    "from openai import BadRequestError\n",
    "\n",
    "def run_basic_rag(doc_store, sample_questions, embedding_model, top_k):\n",
    "    \"\"\"\n",
    "    A function to run the basic rag model on a set of sample questions and answers\n",
    "    \"\"\"\n",
    "\n",
    "    rag = basic_rag(document_store=doc_store, embedding_model=embedding_model, top_k=top_k)\n",
    "\n",
    "    predicted_answers = []\n",
    "    retrieved_contexts = []\n",
    "    for q in tqdm(sample_questions):\n",
    "        try:\n",
    "            response = rag.run(\n",
    "                data={\"query_embedder\": {\"text\": q}, \"prompt_builder\": {\"question\": q}, \"answer_builder\": {\"query\": q}})\n",
    "            predicted_answers.append(response[\"answer_builder\"][\"answers\"][0].data)\n",
    "            retrieved_contexts.append([d.content for d in response['answer_builder']['answers'][0].documents])\n",
    "        except BadRequestError as e:\n",
    "            print(f\"Error with question: {q}\")\n",
    "            print(e)\n",
    "            predicted_answers.append(\"error\")\n",
    "            retrieved_contexts.append(retrieved_contexts)\n",
    "\n",
    "    return retrieved_contexts, predicted_answers"
   ]
  },
  {
   "cell_type": "markdown",
   "id": "da584c81-b248-4126-9f04-66c9cb3f49a4",
   "metadata": {
    "id": "da584c81-b248-4126-9f04-66c9cb3f49a4"
   },
   "source": [
    "## We will define another function to run every predicted answer and ground truth labels through the Evaluators"
   ]
  },
  {
   "cell_type": "code",
   "execution_count": 48,
   "id": "19214799-c50d-4124-b83c-8c379ba85cdf",
   "metadata": {
    "id": "19214799-c50d-4124-b83c-8c379ba85cdf"
   },
   "outputs": [],
   "source": [
    "from haystack.components.evaluators import ContextRelevanceEvaluator, FaithfulnessEvaluator, SASEvaluator\n",
    "from haystack.evaluation import EvaluationRunResult\n",
    "\n",
    "def run_evaluation(sample_questions, sample_answers, retrieved_contexts, predicted_answers, embedding_model):\n",
    "    context_relevance = ContextRelevanceEvaluator(raise_on_failure=False)\n",
    "    faithfulness = FaithfulnessEvaluator(raise_on_failure=False)\n",
    "    sas = SASEvaluator(model=embedding_model)\n",
    "    sas.warm_up()\n",
    "\n",
    "    results = {\n",
    "        \"context_relevance\": context_relevance.run(sample_questions, retrieved_contexts),\n",
    "        \"faithfulness\": faithfulness.run(sample_questions, retrieved_contexts, predicted_answers),\n",
    "        \"sas\": sas.run(predicted_answers, sample_answers),\n",
    "    }\n",
    "\n",
    "    inputs = {'questions': sample_questions, \"true_answers\": sample_answers, \"predicted_answers\": predicted_answers}\n",
    "\n",
    "    return results, inputs"
   ]
  },
  {
   "cell_type": "markdown",
   "id": "8375ccde-a654-4583-a720-75b0f3354482",
   "metadata": {
    "id": "8375ccde-a654-4583-a720-75b0f3354482"
   },
   "source": [
    "## We also need a function to orchestrate everything, indexing, running the dataset over the RAG for each possible parameter combination, and running the evaluation.\n",
    "## Notice that for each parameter combination, two `.csv` files are generated:\n",
    "- one containing the aggregated scores, starting with: `score_report_*`\n",
    "- another with the full detailed scores for each query, stating with: `detailed_report_*`"
   ]
  },
  {
   "cell_type": "code",
   "execution_count": 49,
   "id": "9c72ee36-914e-4f26-9527-c54320159d88",
   "metadata": {
    "id": "9c72ee36-914e-4f26-9527-c54320159d88"
   },
   "outputs": [],
   "source": [
    "def parameter_tuning(questions, answers, out_path: str):\n",
    "    \"\"\"\n",
    "    Run the basic RAG model with different parameters, and evaluate the results.\n",
    "\n",
    "    The parameters to be tuned are: embedding model, top_k, and chunk_size.\n",
    "    \"\"\"\n",
    "    embedding_models = {\n",
    "        \"sentence-transformers/all-MiniLM-L6-v2\",\n",
    "        \"sentence-transformers/msmarco-distilroberta-base-v2\",\n",
    "        \"sentence-transformers/all-mpnet-base-v2\"\n",
    "    }\n",
    "    top_k_values = [1, 2, 3]\n",
    "    chunk_sizes = [64, 128, 256]\n",
    "\n",
    "    # create results directory if it does not exist using Pathlib\n",
    "    out_path = Path(out_path)\n",
    "    out_path.mkdir(exist_ok=True)\n",
    "\n",
    "    for embedding_model in embedding_models:\n",
    "        for chunk_size in chunk_sizes:\n",
    "            print(f\"Indexing documents with {embedding_model} model with a chunk_size={chunk_size}\")\n",
    "            doc_store = indexing(embedding_model, chunk_size)\n",
    "            for top_k in top_k_values:\n",
    "                name_params = f\"{embedding_model.split('/')[-1]}__top_k:{top_k}__chunk_size:{chunk_size}\"\n",
    "                print(name_params)\n",
    "                print(\"Running RAG pipeline\")\n",
    "                retrieved_contexts, predicted_answers = run_basic_rag(doc_store, questions, embedding_model, top_k)\n",
    "                print(f\"Running evaluation\")\n",
    "                results, inputs = run_evaluation(questions, answers, retrieved_contexts, predicted_answers, embedding_model)\n",
    "                eval_results = EvaluationRunResult(run_name=name_params, inputs=inputs, results=results)\n",
    "                eval_results.score_report().to_csv(f\"{out_path}/score_report_{name_params}.csv\",index=False)\n",
    "                eval_results.to_pandas().to_csv(f\"{out_path}/detailed_{name_params}.csv\",index=False)"
   ]
  },
  {
   "cell_type": "markdown",
   "id": "2306a16e-4cba-4c30-b271-0050560353f2",
   "metadata": {
    "id": "2306a16e-4cba-4c30-b271-0050560353f2"
   },
   "source": [
    "# We can then start the whole process:\n",
    "  1. Running the RAG pipeline for each query, collecting the generated answers and the retrieved contexts\n",
    "  2. Call the Haystack Evaluators to compute the performance based on RAG pipeline output and the ground truth data\n",
    "\n",
    "NOTE: this can take some time due to the parameter search, because of this, we will run the evaluation only for the first 10 questions of the dataset"
   ]
  },
  {
   "cell_type": "code",
   "execution_count": 50,
   "id": "JO78M99rt-Ry",
   "metadata": {
    "id": "JO78M99rt-Ry"
   },
   "outputs": [],
   "source": [
    "sample_size = 10\n",
    "all_questions, all_answers = read_question_answers()\n",
    "questions = all_questions[0:sample_size]\n",
    "answers = all_answers[0:sample_size]"
   ]
  },
  {
   "cell_type": "code",
   "execution_count": 51,
   "id": "gOKPk5rqyigu",
   "metadata": {
    "colab": {
     "base_uri": "https://localhost:8080/"
    },
    "id": "gOKPk5rqyigu",
    "outputId": "38fc93bf-2e28-4136-9e87-9629418b31f0"
   },
   "outputs": [
    {
     "data": {
      "text/plain": [
       "['What are the two main tasks BERT is pre-trained on?',\n",
       " 'What model sizes are reported for BERT, and what are their specifications?',\n",
       " \"How does BERT's architecture facilitate the use of a unified model across diverse NLP tasks?\",\n",
       " 'Can you describe the modifications LLaMA makes to the transformer architecture for improved performance?',\n",
       " \"How does LLaMA's approach to embedding layer optimization differ from traditional transformer models, and what are the specific benefits of these modifications?\",\n",
       " 'How were the questions for the multitask test sourced, and what was the criteria for their inclusion?',\n",
       " \"How does BERT's performance on the GLUE benchmark compare to previous state-of-the-art models?\",\n",
       " 'What significant improvements does BERT bring to the SQuAD v1.1,v2.0 and v13.5 tasks compared to prior models?',\n",
       " 'What unique aspect of the LLaMA training dataset distinguishes it from datasets used by models like GPT-3, Chinchilla, and PaLM?',\n",
       " 'What detailed methodology does LLaMA utilize to ensure the diversity of its pre-training data, particularly in the context of filtering and language identification?']"
      ]
     },
     "execution_count": 51,
     "metadata": {},
     "output_type": "execute_result"
    }
   ],
   "source": [
    "questions"
   ]
  },
  {
   "cell_type": "code",
   "execution_count": 52,
   "id": "ItWrTCZTyklZ",
   "metadata": {
    "colab": {
     "base_uri": "https://localhost:8080/"
    },
    "id": "ItWrTCZTyklZ",
    "outputId": "8b63a318-b511-44a3-a0a2-cb28b7beab74"
   },
   "outputs": [
    {
     "data": {
      "text/plain": [
       "['Masked LM (MLM) and Next Sentence Prediction (NSP).',\n",
       " 'BERTBASE (L=12, H=768, A=12, Total Parameters=110M) and BERTLARGE (L=24, H=1024, A=16, Total Parameters=340M).',\n",
       " 'BERT uses a multi-layer bidirectional Transformer encoder architecture, allowing for minimal task-specific architecture modifications in fine-tuning.',\n",
       " ' LLaMA incorporates pre-normalization (using RMSNorm), the SwiGLU activation function, and rotary embeddings (RoPE) into its transformer architecture for enhanced training stability and performance.',\n",
       " 'LLaMA introduces optimizations in its embedding layer through techniques like factorized embeddings and the use of advanced activation functions, such as SwiGLU, for efficient computation and memory usage. These modifications benefit the model by enhancing learning efficiency and enabling the scaling of model parameters without a proportional increase in computational demand.',\n",
       " 'Questions were manually collected by graduate and undergraduate students from freely available online sources, including practice questions for standardized tests and undergraduate courses, ensuring a wide representation of difficulty levels and subjects.',\n",
       " 'BERT achieved new state-of-the-art on the GLUE benchmark (80.5%), surpassing the previous best models.',\n",
       " \"BERT set new records on SQuAD v1.1 and v2.0, significantly outperforming the top leaderboard systems at the time. Version 13.5 doesn't exist. \",\n",
       " \" LLaMA's training dataset is distinctive for being composed exclusively of publicly available data, unlike the datasets used for GPT-3, Chinchilla, and PaLM, which include proprietary or undocumented data.\",\n",
       " \"LLaMA's methodology for ensuring data diversity includes comprehensive filtering criteria to remove low-quality content, language identification to support multilingual capabilities, and a balanced inclusion of various data sources such as Wikipedia, web text, and books, emphasizing the representation of a wide range of topics and languages.\"]"
      ]
     },
     "execution_count": 52,
     "metadata": {},
     "output_type": "execute_result"
    }
   ],
   "source": [
    "answers"
   ]
  },
  {
   "cell_type": "markdown",
   "id": "5095d2c8-87fe-418f-bd98-8e4a8cf0fbfe",
   "metadata": {},
   "source": [
    "# We also need to define our OpenAI API credentials"
   ]
  },
  {
   "cell_type": "code",
   "execution_count": 18,
   "id": "qwguAn-i3rsJ",
   "metadata": {
    "id": "qwguAn-i3rsJ"
   },
   "outputs": [],
   "source": [
    "import os\n",
    "from getpass import getpass\n",
    "from haystack.components.generators import OpenAIGenerator\n",
    "\n",
    "if \"OPENAI_API_KEY\" not in os.environ:\n",
    "    os.environ[\"OPENAI_API_KEY\"] = getpass(\"Enter OpenAI API key:\")\n",
    "generator = OpenAIGenerator(model=\"gpt-3.5-turbo\")"
   ]
  },
  {
   "cell_type": "markdown",
   "id": "df32e084-c4d8-416e-97ae-3e372020780a",
   "metadata": {},
   "source": [
    "# Let's start the process"
   ]
  },
  {
   "cell_type": "code",
   "execution_count": 19,
   "id": "db18ab18-93d9-483f-85e0-76d9c6b348e9",
   "metadata": {
    "colab": {
     "base_uri": "https://localhost:8080/",
     "height": 1000,
     "referenced_widgets": [
      "0a10ef001ffd48c69538f2e9afe3378e",
      "009708c1d74543cbad8053ad8eb55214",
      "4c2339c18f5f4515bbccaa4ce29fea16",
      "8ea3b859c3dd4a60b0c464b0686cdd28",
      "d3173dd939e748d2b833302a66ce0857",
      "f03ed14988744135ab37d2cecf4b2b25",
      "b9c7f3efa8bf421087423cac9ec0f0dd",
      "a4c9114ba4f840a8b544c1202029256e",
      "acf7b7296c39460ebf7e4c48b836eab6",
      "094dfeabed62460f84a57a0c21620dbc",
      "ebaedec294bc471fb36a1af79b926683",
      "3a18b08ff7de4db1947203a78ee668eb",
      "fe85d7a35e9141d29cc1ae2b7b87bf56",
      "ac12923fbfd54d16a7279869a147a224",
      "d4a03c53d0df4dc58549f33b47c80465",
      "baebe39257b14050bf3f71bcd78f24dc",
      "c3f4037c35d549058b33218db616fc52",
      "2de3cb545d414e44b846ed7785d29437",
      "a9a51730493d416a9969cc52334e21eb",
      "f6eec8f8a9904491ae09fb6594214b12",
      "66ca59a9be2c4b1c9c1ab0691c9d4868",
      "87eff0f760cb409e9a685518177071f1",
      "147d4f1e56bf4e689cccbd35a68e4233",
      "267c237780974e6cac66d6ea7c0090a8",
      "d883b77c2ddf4882b81ebef5597f1175",
      "8e4a33e030ea49d386c3739d337e93ef",
      "89c5c44dc46c41d284c56c0476b3ffd6",
      "a52e125685db44e6b1a69002affa2cd5",
      "a37819606a9940d6993d755579769d28",
      "aa30e5755dde4fb8b03e0e17904b5170",
      "22224594bb8f4c2c81f863141935edbe",
      "25e32ffacaa94c1fbffd5a5a655ab5bd",
      "2f371b5b3e294c7b97e2ca5bed64af69",
      "8d77d2c503c54a3c8486b6ed5d3d40ce",
      "5ac8bdb0938e4ae2b9dd1790b3f2c26f",
      "ab1c24afdd8849f8a9c1ed5c026cfce5",
      "6f52c9b25b0f459588d8569721d044a6",
      "90887224021947dfa09ea5de9d76822f",
      "df0614acfbf948cb8eddf78d5013062d",
      "d4507dc1dc394f49abc13dad17fb0df0",
      "01d6f1edd2f94707be9cc827e47405f0",
      "93efc0804c5e4f5cbcfc8df0ec1462bd",
      "3b5071a1f04b4eff96f6b8be799bea09",
      "18628c1ea834421983fd5334a04300b3",
      "5cf2eef452f040cd90c05e096a00f657",
      "994eb100d21c4fdb867e7c2628ed794b",
      "49f68d18718e46ee87388a313caf87c3",
      "0c3aeea866864f259bf77aab92da44b1",
      "85c0ccc3f5fa455ca1122cd8d950c2f2",
      "87f818ef9c52425ba72763285283759f",
      "a878b828b68142c28bdc8c286746f7e6",
      "acc48b3440c04b05b7a2af353229f84f",
      "a6b0ac40a7e34e868857d2d5282b7a65",
      "51f9dd4ce4db432a952d4c4c2ffaa51a",
      "939f870d352a4e708c3ba97606e2919d",
      "3abca720fbf045cb87624fe9b57e9938",
      "c64a4d7a1cc045f7bd52faa71c62e877",
      "65046aef16484008ae7cb49fcb1600d7",
      "c02482682b28491087a08a1f3e4d59c6",
      "ef3c66df23c040bd806ab0ae5a454a6f",
      "364c3dcef653431a9b93864908dfff93",
      "1a0cc0f2101e4f3e93e652e9f85beaea",
      "6d525a59a7464ff0ae0a6223b798b046",
      "5a71b96de36144b6925ef96ac7c6d9cc",
      "41f93af555644e7e8e8e1bc731e50cfc",
      "ac072338d3b044f19d74511210729a25",
      "46796736eb784578a44d76af4991597f",
      "18a44ad356124ae8834cae95c00e2198",
      "aa789ccaac1c4ae6b434d09aa9552d16",
      "94896ce46bae4c4199b0d1417520587e",
      "fb01c74fc2b14aba8bdbbf11776368ff",
      "11f1b1ee01624186a58ea5fda332e2a0",
      "374662c16c8e4668bd0abb0916b300c1",
      "eafff1682e364444a2c858eeb8dc5ccd",
      "7ccc57691d594790ae77044760faf724",
      "15aa37a40e0b4af1bda7fb577e662219",
      "bed5567aae93490ba31ea93fa23e7833",
      "636d6088a7ed468791205cf0bd313096",
      "1f01d6cc90654147b5a6e960aa11234c",
      "dd8590b1d3114d79bb8c5f593429391f",
      "8f74df524b13404987fb05f3781bea68",
      "983a0430afc44f489ca6a694faf4e304",
      "eb8a629b9d18417b91d626d71aa6576b",
      "5fa60a48f29c42b788757c90d0362df8",
      "dc3f7e3f091c437f899a8218ce4f8005",
      "10cf7bfcf3174e19a5c43c4bbbe33bdf",
      "aacddbc1e61847a086b569cbc47b3fd6",
      "f7c3f1504c1e419290efcf9d21f1f6e8",
      "257c6b0daa964d2a9cc818082f93d48a",
      "9d1150ca64d4486bb139b2a3479a1244",
      "095d673d457c4144b5cd86013d745174",
      "a4ffe598e1e14ed5bdb4a75cccdd7aa0",
      "ca9d236d2e104e0f84b0ea5c0d00fb27",
      "a3e9b6da5ae0475fb6e41021ffca67e8",
      "687e86b0be2c4f8f85e16edd92354930",
      "853b61df7d9a40eeb0088a098b5ceafb",
      "768d10dffb874b83894b1ae17edce6c5",
      "4a752af52bba452b85c05f2a7725d3fd",
      "3337e3d7eb2a4a56bf38b47ecd149589"
     ]
    },
    "id": "db18ab18-93d9-483f-85e0-76d9c6b348e9",
    "outputId": "fa28112d-b3eb-4341-a5c7-3a8521868692"
   },
   "outputs": [
    {
     "name": "stdout",
     "output_type": "stream",
     "text": [
      "Indexing documents with sentence-transformers/msmarco-distilroberta-base-v2 model with a chunk_size=64\n"
     ]
    },
    {
     "name": "stderr",
     "output_type": "stream",
     "text": [
      "Batches: 100%|███████████████████████████████████████████████████████████████████████████████████████████████████████████████████████████████████████████████████████████████████████████████████████████████████████████████████████████████| 82/82 [00:19<00:00,  4.13it/s]\n"
     ]
    },
    {
     "name": "stdout",
     "output_type": "stream",
     "text": [
      "msmarco-distilroberta-base-v2__top_k:1__chunk_size:64\n",
      "Running RAG pipeline\n"
     ]
    },
    {
     "name": "stderr",
     "output_type": "stream",
     "text": [
      "  0%|                                                                                                                                                                                                                                                 | 0/10 [00:00<?, ?it/s]huggingface/tokenizers: The current process just got forked, after parallelism has already been used. Disabling parallelism to avoid deadlocks...\n",
      "To disable this warning, you can either:\n",
      "\t- Avoid using `tokenizers` before the fork if possible\n",
      "\t- Explicitly set the environment variable TOKENIZERS_PARALLELISM=(true | false)\n",
      "100%|████████████████████████████████████████████████████████████████████████████████████████████████████████████████████████████████████████████████████████████████████████████████████████████████████████████████████████████████████████| 10/10 [00:13<00:00,  1.34s/it]\n"
     ]
    },
    {
     "name": "stdout",
     "output_type": "stream",
     "text": [
      "Running evaluation\n"
     ]
    },
    {
     "name": "stderr",
     "output_type": "stream",
     "text": [
      "100%|████████████████████████████████████████████████████████████████████████████████████████████████████████████████████████████████████████████████████████████████████████████████████████████████████████████████████████████████████████| 10/10 [00:17<00:00,  1.75s/it]\n",
      "100%|████████████████████████████████████████████████████████████████████████████████████████████████████████████████████████████████████████████████████████████████████████████████████████████████████████████████████████████████████████| 10/10 [00:13<00:00,  1.34s/it]\n"
     ]
    },
    {
     "name": "stdout",
     "output_type": "stream",
     "text": [
      "msmarco-distilroberta-base-v2__top_k:2__chunk_size:64\n",
      "Running RAG pipeline\n"
     ]
    },
    {
     "name": "stderr",
     "output_type": "stream",
     "text": [
      "100%|████████████████████████████████████████████████████████████████████████████████████████████████████████████████████████████████████████████████████████████████████████████████████████████████████████████████████████████████████████| 10/10 [00:11<00:00,  1.19s/it]\n"
     ]
    },
    {
     "name": "stdout",
     "output_type": "stream",
     "text": [
      "Running evaluation\n"
     ]
    },
    {
     "name": "stderr",
     "output_type": "stream",
     "text": [
      "100%|████████████████████████████████████████████████████████████████████████████████████████████████████████████████████████████████████████████████████████████████████████████████████████████████████████████████████████████████████████| 10/10 [00:23<00:00,  2.38s/it]\n",
      "100%|████████████████████████████████████████████████████████████████████████████████████████████████████████████████████████████████████████████████████████████████████████████████████████████████████████████████████████████████████████| 10/10 [00:16<00:00,  1.67s/it]\n"
     ]
    },
    {
     "name": "stdout",
     "output_type": "stream",
     "text": [
      "msmarco-distilroberta-base-v2__top_k:3__chunk_size:64\n",
      "Running RAG pipeline\n"
     ]
    },
    {
     "name": "stderr",
     "output_type": "stream",
     "text": [
      "100%|████████████████████████████████████████████████████████████████████████████████████████████████████████████████████████████████████████████████████████████████████████████████████████████████████████████████████████████████████████| 10/10 [00:16<00:00,  1.67s/it]\n"
     ]
    },
    {
     "name": "stdout",
     "output_type": "stream",
     "text": [
      "Running evaluation\n"
     ]
    },
    {
     "name": "stderr",
     "output_type": "stream",
     "text": [
      "100%|████████████████████████████████████████████████████████████████████████████████████████████████████████████████████████████████████████████████████████████████████████████████████████████████████████████████████████████████████████| 10/10 [00:27<00:00,  2.75s/it]\n",
      "100%|████████████████████████████████████████████████████████████████████████████████████████████████████████████████████████████████████████████████████████████████████████████████████████████████████████████████████████████████████████| 10/10 [00:15<00:00,  1.60s/it]\n"
     ]
    },
    {
     "name": "stdout",
     "output_type": "stream",
     "text": [
      "Indexing documents with sentence-transformers/msmarco-distilroberta-base-v2 model with a chunk_size=128\n"
     ]
    },
    {
     "name": "stderr",
     "output_type": "stream",
     "text": [
      "Batches: 100%|███████████████████████████████████████████████████████████████████████████████████████████████████████████████████████████████████████████████████████████████████████████████████████████████████████████████████████████████| 41/41 [00:15<00:00,  2.69it/s]\n"
     ]
    },
    {
     "name": "stdout",
     "output_type": "stream",
     "text": [
      "msmarco-distilroberta-base-v2__top_k:1__chunk_size:128\n",
      "Running RAG pipeline\n"
     ]
    },
    {
     "name": "stderr",
     "output_type": "stream",
     "text": [
      "100%|████████████████████████████████████████████████████████████████████████████████████████████████████████████████████████████████████████████████████████████████████████████████████████████████████████████████████████████████████████| 10/10 [00:15<00:00,  1.53s/it]\n"
     ]
    },
    {
     "name": "stdout",
     "output_type": "stream",
     "text": [
      "Running evaluation\n"
     ]
    },
    {
     "name": "stderr",
     "output_type": "stream",
     "text": [
      "100%|████████████████████████████████████████████████████████████████████████████████████████████████████████████████████████████████████████████████████████████████████████████████████████████████████████████████████████████████████████| 10/10 [00:37<00:00,  3.72s/it]\n",
      "100%|████████████████████████████████████████████████████████████████████████████████████████████████████████████████████████████████████████████████████████████████████████████████████████████████████████████████████████████████████████| 10/10 [00:17<00:00,  1.72s/it]\n"
     ]
    },
    {
     "name": "stdout",
     "output_type": "stream",
     "text": [
      "msmarco-distilroberta-base-v2__top_k:2__chunk_size:128\n",
      "Running RAG pipeline\n"
     ]
    },
    {
     "name": "stderr",
     "output_type": "stream",
     "text": [
      "100%|████████████████████████████████████████████████████████████████████████████████████████████████████████████████████████████████████████████████████████████████████████████████████████████████████████████████████████████████████████| 10/10 [00:16<00:00,  1.69s/it]\n"
     ]
    },
    {
     "name": "stdout",
     "output_type": "stream",
     "text": [
      "Running evaluation\n"
     ]
    },
    {
     "name": "stderr",
     "output_type": "stream",
     "text": [
      "100%|████████████████████████████████████████████████████████████████████████████████████████████████████████████████████████████████████████████████████████████████████████████████████████████████████████████████████████████████████████| 10/10 [00:25<00:00,  2.51s/it]\n",
      "100%|████████████████████████████████████████████████████████████████████████████████████████████████████████████████████████████████████████████████████████████████████████████████████████████████████████████████████████████████████████| 10/10 [00:15<00:00,  1.51s/it]\n"
     ]
    },
    {
     "name": "stdout",
     "output_type": "stream",
     "text": [
      "msmarco-distilroberta-base-v2__top_k:3__chunk_size:128\n",
      "Running RAG pipeline\n"
     ]
    },
    {
     "name": "stderr",
     "output_type": "stream",
     "text": [
      "100%|████████████████████████████████████████████████████████████████████████████████████████████████████████████████████████████████████████████████████████████████████████████████████████████████████████████████████████████████████████| 10/10 [00:12<00:00,  1.27s/it]\n"
     ]
    },
    {
     "name": "stdout",
     "output_type": "stream",
     "text": [
      "Running evaluation\n"
     ]
    },
    {
     "name": "stderr",
     "output_type": "stream",
     "text": [
      "100%|████████████████████████████████████████████████████████████████████████████████████████████████████████████████████████████████████████████████████████████████████████████████████████████████████████████████████████████████████████| 10/10 [00:23<00:00,  2.39s/it]\n",
      "100%|████████████████████████████████████████████████████████████████████████████████████████████████████████████████████████████████████████████████████████████████████████████████████████████████████████████████████████████████████████| 10/10 [00:18<00:00,  1.88s/it]\n"
     ]
    },
    {
     "name": "stdout",
     "output_type": "stream",
     "text": [
      "Indexing documents with sentence-transformers/msmarco-distilroberta-base-v2 model with a chunk_size=256\n"
     ]
    },
    {
     "name": "stderr",
     "output_type": "stream",
     "text": [
      "Batches: 100%|███████████████████████████████████████████████████████████████████████████████████████████████████████████████████████████████████████████████████████████████████████████████████████████████████████████████████████████████| 21/21 [00:07<00:00,  2.66it/s]\n"
     ]
    },
    {
     "name": "stdout",
     "output_type": "stream",
     "text": [
      "msmarco-distilroberta-base-v2__top_k:1__chunk_size:256\n",
      "Running RAG pipeline\n"
     ]
    },
    {
     "name": "stderr",
     "output_type": "stream",
     "text": [
      "100%|████████████████████████████████████████████████████████████████████████████████████████████████████████████████████████████████████████████████████████████████████████████████████████████████████████████████████████████████████████| 10/10 [00:10<00:00,  1.06s/it]\n"
     ]
    },
    {
     "name": "stdout",
     "output_type": "stream",
     "text": [
      "Running evaluation\n"
     ]
    },
    {
     "name": "stderr",
     "output_type": "stream",
     "text": [
      "100%|████████████████████████████████████████████████████████████████████████████████████████████████████████████████████████████████████████████████████████████████████████████████████████████████████████████████████████████████████████| 10/10 [00:21<00:00,  2.19s/it]\n",
      "100%|████████████████████████████████████████████████████████████████████████████████████████████████████████████████████████████████████████████████████████████████████████████████████████████████████████████████████████████████████████| 10/10 [00:13<00:00,  1.38s/it]\n"
     ]
    },
    {
     "name": "stdout",
     "output_type": "stream",
     "text": [
      "msmarco-distilroberta-base-v2__top_k:2__chunk_size:256\n",
      "Running RAG pipeline\n"
     ]
    },
    {
     "name": "stderr",
     "output_type": "stream",
     "text": [
      "100%|████████████████████████████████████████████████████████████████████████████████████████████████████████████████████████████████████████████████████████████████████████████████████████████████████████████████████████████████████████| 10/10 [00:15<00:00,  1.52s/it]\n"
     ]
    },
    {
     "name": "stdout",
     "output_type": "stream",
     "text": [
      "Running evaluation\n"
     ]
    },
    {
     "name": "stderr",
     "output_type": "stream",
     "text": [
      "100%|████████████████████████████████████████████████████████████████████████████████████████████████████████████████████████████████████████████████████████████████████████████████████████████████████████████████████████████████████████| 10/10 [00:30<00:00,  3.05s/it]\n",
      "100%|████████████████████████████████████████████████████████████████████████████████████████████████████████████████████████████████████████████████████████████████████████████████████████████████████████████████████████████████████████| 10/10 [00:16<00:00,  1.65s/it]\n"
     ]
    },
    {
     "name": "stdout",
     "output_type": "stream",
     "text": [
      "msmarco-distilroberta-base-v2__top_k:3__chunk_size:256\n",
      "Running RAG pipeline\n"
     ]
    },
    {
     "name": "stderr",
     "output_type": "stream",
     "text": [
      "100%|████████████████████████████████████████████████████████████████████████████████████████████████████████████████████████████████████████████████████████████████████████████████████████████████████████████████████████████████████████| 10/10 [00:13<00:00,  1.40s/it]\n"
     ]
    },
    {
     "name": "stdout",
     "output_type": "stream",
     "text": [
      "Running evaluation\n"
     ]
    },
    {
     "name": "stderr",
     "output_type": "stream",
     "text": [
      "100%|████████████████████████████████████████████████████████████████████████████████████████████████████████████████████████████████████████████████████████████████████████████████████████████████████████████████████████████████████████| 10/10 [00:34<00:00,  3.42s/it]\n",
      "100%|████████████████████████████████████████████████████████████████████████████████████████████████████████████████████████████████████████████████████████████████████████████████████████████████████████████████████████████████████████| 10/10 [00:21<00:00,  2.12s/it]\n"
     ]
    },
    {
     "name": "stdout",
     "output_type": "stream",
     "text": [
      "Indexing documents with sentence-transformers/all-MiniLM-L6-v2 model with a chunk_size=64\n"
     ]
    },
    {
     "name": "stderr",
     "output_type": "stream",
     "text": [
      "Batches: 100%|███████████████████████████████████████████████████████████████████████████████████████████████████████████████████████████████████████████████████████████████████████████████████████████████████████████████████████████████| 82/82 [00:12<00:00,  6.46it/s]\n"
     ]
    },
    {
     "name": "stdout",
     "output_type": "stream",
     "text": [
      "all-MiniLM-L6-v2__top_k:1__chunk_size:64\n",
      "Running RAG pipeline\n"
     ]
    },
    {
     "name": "stderr",
     "output_type": "stream",
     "text": [
      "100%|████████████████████████████████████████████████████████████████████████████████████████████████████████████████████████████████████████████████████████████████████████████████████████████████████████████████████████████████████████| 10/10 [00:09<00:00,  1.07it/s]\n"
     ]
    },
    {
     "name": "stdout",
     "output_type": "stream",
     "text": [
      "Running evaluation\n"
     ]
    },
    {
     "name": "stderr",
     "output_type": "stream",
     "text": [
      "100%|████████████████████████████████████████████████████████████████████████████████████████████████████████████████████████████████████████████████████████████████████████████████████████████████████████████████████████████████████████| 10/10 [00:19<00:00,  1.97s/it]\n",
      "100%|████████████████████████████████████████████████████████████████████████████████████████████████████████████████████████████████████████████████████████████████████████████████████████████████████████████████████████████████████████| 10/10 [00:09<00:00,  1.06it/s]\n"
     ]
    },
    {
     "name": "stdout",
     "output_type": "stream",
     "text": [
      "all-MiniLM-L6-v2__top_k:2__chunk_size:64\n",
      "Running RAG pipeline\n"
     ]
    },
    {
     "name": "stderr",
     "output_type": "stream",
     "text": [
      "100%|████████████████████████████████████████████████████████████████████████████████████████████████████████████████████████████████████████████████████████████████████████████████████████████████████████████████████████████████████████| 10/10 [00:09<00:00,  1.07it/s]\n"
     ]
    },
    {
     "name": "stdout",
     "output_type": "stream",
     "text": [
      "Running evaluation\n"
     ]
    },
    {
     "name": "stderr",
     "output_type": "stream",
     "text": [
      "100%|████████████████████████████████████████████████████████████████████████████████████████████████████████████████████████████████████████████████████████████████████████████████████████████████████████████████████████████████████████| 10/10 [00:17<00:00,  1.70s/it]\n",
      "100%|████████████████████████████████████████████████████████████████████████████████████████████████████████████████████████████████████████████████████████████████████████████████████████████████████████████████████████████████████████| 10/10 [00:11<00:00,  1.11s/it]\n"
     ]
    },
    {
     "name": "stdout",
     "output_type": "stream",
     "text": [
      "all-MiniLM-L6-v2__top_k:3__chunk_size:64\n",
      "Running RAG pipeline\n"
     ]
    },
    {
     "name": "stderr",
     "output_type": "stream",
     "text": [
      "100%|████████████████████████████████████████████████████████████████████████████████████████████████████████████████████████████████████████████████████████████████████████████████████████████████████████████████████████████████████████| 10/10 [00:10<00:00,  1.04s/it]\n"
     ]
    },
    {
     "name": "stdout",
     "output_type": "stream",
     "text": [
      "Running evaluation\n"
     ]
    },
    {
     "name": "stderr",
     "output_type": "stream",
     "text": [
      "100%|████████████████████████████████████████████████████████████████████████████████████████████████████████████████████████████████████████████████████████████████████████████████████████████████████████████████████████████████████████| 10/10 [00:23<00:00,  2.37s/it]\n",
      "100%|████████████████████████████████████████████████████████████████████████████████████████████████████████████████████████████████████████████████████████████████████████████████████████████████████████████████████████████████████████| 10/10 [00:14<00:00,  1.42s/it]\n"
     ]
    },
    {
     "name": "stdout",
     "output_type": "stream",
     "text": [
      "Indexing documents with sentence-transformers/all-MiniLM-L6-v2 model with a chunk_size=128\n"
     ]
    },
    {
     "name": "stderr",
     "output_type": "stream",
     "text": [
      "Batches: 100%|███████████████████████████████████████████████████████████████████████████████████████████████████████████████████████████████████████████████████████████████████████████████████████████████████████████████████████████████| 41/41 [00:04<00:00,  8.37it/s]\n"
     ]
    },
    {
     "name": "stdout",
     "output_type": "stream",
     "text": [
      "all-MiniLM-L6-v2__top_k:1__chunk_size:128\n",
      "Running RAG pipeline\n"
     ]
    },
    {
     "name": "stderr",
     "output_type": "stream",
     "text": [
      "100%|████████████████████████████████████████████████████████████████████████████████████████████████████████████████████████████████████████████████████████████████████████████████████████████████████████████████████████████████████████| 10/10 [00:10<00:00,  1.08s/it]\n"
     ]
    },
    {
     "name": "stdout",
     "output_type": "stream",
     "text": [
      "Running evaluation\n"
     ]
    },
    {
     "name": "stderr",
     "output_type": "stream",
     "text": [
      "100%|████████████████████████████████████████████████████████████████████████████████████████████████████████████████████████████████████████████████████████████████████████████████████████████████████████████████████████████████████████| 10/10 [00:15<00:00,  1.60s/it]\n",
      "100%|████████████████████████████████████████████████████████████████████████████████████████████████████████████████████████████████████████████████████████████████████████████████████████████████████████████████████████████████████████| 10/10 [00:11<00:00,  1.20s/it]\n"
     ]
    },
    {
     "name": "stdout",
     "output_type": "stream",
     "text": [
      "all-MiniLM-L6-v2__top_k:2__chunk_size:128\n",
      "Running RAG pipeline\n"
     ]
    },
    {
     "name": "stderr",
     "output_type": "stream",
     "text": [
      "100%|████████████████████████████████████████████████████████████████████████████████████████████████████████████████████████████████████████████████████████████████████████████████████████████████████████████████████████████████████████| 10/10 [00:11<00:00,  1.11s/it]\n"
     ]
    },
    {
     "name": "stdout",
     "output_type": "stream",
     "text": [
      "Running evaluation\n"
     ]
    },
    {
     "name": "stderr",
     "output_type": "stream",
     "text": [
      "100%|████████████████████████████████████████████████████████████████████████████████████████████████████████████████████████████████████████████████████████████████████████████████████████████████████████████████████████████████████████| 10/10 [00:20<00:00,  2.03s/it]\n",
      "100%|████████████████████████████████████████████████████████████████████████████████████████████████████████████████████████████████████████████████████████████████████████████████████████████████████████████████████████████████████████| 10/10 [00:14<00:00,  1.44s/it]\n"
     ]
    },
    {
     "name": "stdout",
     "output_type": "stream",
     "text": [
      "all-MiniLM-L6-v2__top_k:3__chunk_size:128\n",
      "Running RAG pipeline\n"
     ]
    },
    {
     "name": "stderr",
     "output_type": "stream",
     "text": [
      "100%|████████████████████████████████████████████████████████████████████████████████████████████████████████████████████████████████████████████████████████████████████████████████████████████████████████████████████████████████████████| 10/10 [00:14<00:00,  1.41s/it]\n"
     ]
    },
    {
     "name": "stdout",
     "output_type": "stream",
     "text": [
      "Running evaluation\n"
     ]
    },
    {
     "name": "stderr",
     "output_type": "stream",
     "text": [
      "100%|████████████████████████████████████████████████████████████████████████████████████████████████████████████████████████████████████████████████████████████████████████████████████████████████████████████████████████████████████████| 10/10 [00:22<00:00,  2.30s/it]\n",
      "100%|████████████████████████████████████████████████████████████████████████████████████████████████████████████████████████████████████████████████████████████████████████████████████████████████████████████████████████████████████████| 10/10 [00:16<00:00,  1.67s/it]\n"
     ]
    },
    {
     "name": "stdout",
     "output_type": "stream",
     "text": [
      "Indexing documents with sentence-transformers/all-MiniLM-L6-v2 model with a chunk_size=256\n"
     ]
    },
    {
     "name": "stderr",
     "output_type": "stream",
     "text": [
      "Batches: 100%|███████████████████████████████████████████████████████████████████████████████████████████████████████████████████████████████████████████████████████████████████████████████████████████████████████████████████████████████| 21/21 [00:02<00:00,  7.99it/s]\n"
     ]
    },
    {
     "name": "stdout",
     "output_type": "stream",
     "text": [
      "all-MiniLM-L6-v2__top_k:1__chunk_size:256\n",
      "Running RAG pipeline\n"
     ]
    },
    {
     "name": "stderr",
     "output_type": "stream",
     "text": [
      "100%|████████████████████████████████████████████████████████████████████████████████████████████████████████████████████████████████████████████████████████████████████████████████████████████████████████████████████████████████████████| 10/10 [00:10<00:00,  1.09s/it]\n"
     ]
    },
    {
     "name": "stdout",
     "output_type": "stream",
     "text": [
      "Running evaluation\n"
     ]
    },
    {
     "name": "stderr",
     "output_type": "stream",
     "text": [
      "100%|████████████████████████████████████████████████████████████████████████████████████████████████████████████████████████████████████████████████████████████████████████████████████████████████████████████████████████████████████████| 10/10 [00:26<00:00,  2.69s/it]\n",
      "100%|████████████████████████████████████████████████████████████████████████████████████████████████████████████████████████████████████████████████████████████████████████████████████████████████████████████████████████████████████████| 10/10 [00:13<00:00,  1.38s/it]\n"
     ]
    },
    {
     "name": "stdout",
     "output_type": "stream",
     "text": [
      "all-MiniLM-L6-v2__top_k:2__chunk_size:256\n",
      "Running RAG pipeline\n"
     ]
    },
    {
     "name": "stderr",
     "output_type": "stream",
     "text": [
      "100%|████████████████████████████████████████████████████████████████████████████████████████████████████████████████████████████████████████████████████████████████████████████████████████████████████████████████████████████████████████| 10/10 [00:14<00:00,  1.44s/it]\n"
     ]
    },
    {
     "name": "stdout",
     "output_type": "stream",
     "text": [
      "Running evaluation\n"
     ]
    },
    {
     "name": "stderr",
     "output_type": "stream",
     "text": [
      "100%|████████████████████████████████████████████████████████████████████████████████████████████████████████████████████████████████████████████████████████████████████████████████████████████████████████████████████████████████████████| 10/10 [00:34<00:00,  3.46s/it]\n",
      "100%|████████████████████████████████████████████████████████████████████████████████████████████████████████████████████████████████████████████████████████████████████████████████████████████████████████████████████████████████████████| 10/10 [00:19<00:00,  1.91s/it]\n"
     ]
    },
    {
     "name": "stdout",
     "output_type": "stream",
     "text": [
      "all-MiniLM-L6-v2__top_k:3__chunk_size:256\n",
      "Running RAG pipeline\n"
     ]
    },
    {
     "name": "stderr",
     "output_type": "stream",
     "text": [
      "100%|████████████████████████████████████████████████████████████████████████████████████████████████████████████████████████████████████████████████████████████████████████████████████████████████████████████████████████████████████████| 10/10 [00:14<00:00,  1.43s/it]\n"
     ]
    },
    {
     "name": "stdout",
     "output_type": "stream",
     "text": [
      "Running evaluation\n"
     ]
    },
    {
     "name": "stderr",
     "output_type": "stream",
     "text": [
      "100%|████████████████████████████████████████████████████████████████████████████████████████████████████████████████████████████████████████████████████████████████████████████████████████████████████████████████████████████████████████| 10/10 [00:28<00:00,  2.82s/it]\n",
      "100%|████████████████████████████████████████████████████████████████████████████████████████████████████████████████████████████████████████████████████████████████████████████████████████████████████████████████████████████████████████| 10/10 [00:23<00:00,  2.36s/it]\n"
     ]
    },
    {
     "name": "stdout",
     "output_type": "stream",
     "text": [
      "Indexing documents with sentence-transformers/all-mpnet-base-v2 model with a chunk_size=64\n"
     ]
    },
    {
     "name": "stderr",
     "output_type": "stream",
     "text": [
      "Batches: 100%|███████████████████████████████████████████████████████████████████████████████████████████████████████████████████████████████████████████████████████████████████████████████████████████████████████████████████████████████| 82/82 [00:39<00:00,  2.09it/s]\n"
     ]
    },
    {
     "name": "stdout",
     "output_type": "stream",
     "text": [
      "all-mpnet-base-v2__top_k:1__chunk_size:64\n",
      "Running RAG pipeline\n"
     ]
    },
    {
     "name": "stderr",
     "output_type": "stream",
     "text": [
      "100%|████████████████████████████████████████████████████████████████████████████████████████████████████████████████████████████████████████████████████████████████████████████████████████████████████████████████████████████████████████| 10/10 [00:13<00:00,  1.30s/it]\n"
     ]
    },
    {
     "name": "stdout",
     "output_type": "stream",
     "text": [
      "Running evaluation\n"
     ]
    },
    {
     "name": "stderr",
     "output_type": "stream",
     "text": [
      "100%|████████████████████████████████████████████████████████████████████████████████████████████████████████████████████████████████████████████████████████████████████████████████████████████████████████████████████████████████████████| 10/10 [00:14<00:00,  1.48s/it]\n",
      "100%|████████████████████████████████████████████████████████████████████████████████████████████████████████████████████████████████████████████████████████████████████████████████████████████████████████████████████████████████████████| 10/10 [00:09<00:00,  1.03it/s]\n"
     ]
    },
    {
     "name": "stdout",
     "output_type": "stream",
     "text": [
      "all-mpnet-base-v2__top_k:2__chunk_size:64\n",
      "Running RAG pipeline\n"
     ]
    },
    {
     "name": "stderr",
     "output_type": "stream",
     "text": [
      "100%|████████████████████████████████████████████████████████████████████████████████████████████████████████████████████████████████████████████████████████████████████████████████████████████████████████████████████████████████████████| 10/10 [00:11<00:00,  1.13s/it]\n"
     ]
    },
    {
     "name": "stdout",
     "output_type": "stream",
     "text": [
      "Running evaluation\n"
     ]
    },
    {
     "name": "stderr",
     "output_type": "stream",
     "text": [
      "100%|████████████████████████████████████████████████████████████████████████████████████████████████████████████████████████████████████████████████████████████████████████████████████████████████████████████████████████████████████████| 10/10 [00:22<00:00,  2.25s/it]\n",
      "100%|████████████████████████████████████████████████████████████████████████████████████████████████████████████████████████████████████████████████████████████████████████████████████████████████████████████████████████████████████████| 10/10 [00:14<00:00,  1.43s/it]\n"
     ]
    },
    {
     "name": "stdout",
     "output_type": "stream",
     "text": [
      "all-mpnet-base-v2__top_k:3__chunk_size:64\n",
      "Running RAG pipeline\n"
     ]
    },
    {
     "name": "stderr",
     "output_type": "stream",
     "text": [
      "100%|████████████████████████████████████████████████████████████████████████████████████████████████████████████████████████████████████████████████████████████████████████████████████████████████████████████████████████████████████████| 10/10 [00:18<00:00,  1.88s/it]\n"
     ]
    },
    {
     "name": "stdout",
     "output_type": "stream",
     "text": [
      "Running evaluation\n"
     ]
    },
    {
     "name": "stderr",
     "output_type": "stream",
     "text": [
      "100%|████████████████████████████████████████████████████████████████████████████████████████████████████████████████████████████████████████████████████████████████████████████████████████████████████████████████████████████████████████| 10/10 [00:23<00:00,  2.39s/it]\n",
      "100%|████████████████████████████████████████████████████████████████████████████████████████████████████████████████████████████████████████████████████████████████████████████████████████████████████████████████████████████████████████| 10/10 [00:15<00:00,  1.51s/it]\n"
     ]
    },
    {
     "name": "stdout",
     "output_type": "stream",
     "text": [
      "Indexing documents with sentence-transformers/all-mpnet-base-v2 model with a chunk_size=128\n"
     ]
    },
    {
     "name": "stderr",
     "output_type": "stream",
     "text": [
      "Batches: 100%|███████████████████████████████████████████████████████████████████████████████████████████████████████████████████████████████████████████████████████████████████████████████████████████████████████████████████████████████| 41/41 [00:49<00:00,  1.21s/it]\n"
     ]
    },
    {
     "name": "stdout",
     "output_type": "stream",
     "text": [
      "all-mpnet-base-v2__top_k:1__chunk_size:128\n",
      "Running RAG pipeline\n"
     ]
    },
    {
     "name": "stderr",
     "output_type": "stream",
     "text": [
      "100%|████████████████████████████████████████████████████████████████████████████████████████████████████████████████████████████████████████████████████████████████████████████████████████████████████████████████████████████████████████| 10/10 [00:11<00:00,  1.15s/it]\n"
     ]
    },
    {
     "name": "stdout",
     "output_type": "stream",
     "text": [
      "Running evaluation\n"
     ]
    },
    {
     "name": "stderr",
     "output_type": "stream",
     "text": [
      "100%|████████████████████████████████████████████████████████████████████████████████████████████████████████████████████████████████████████████████████████████████████████████████████████████████████████████████████████████████████████| 10/10 [00:21<00:00,  2.17s/it]\n",
      "100%|████████████████████████████████████████████████████████████████████████████████████████████████████████████████████████████████████████████████████████████████████████████████████████████████████████████████████████████████████████| 10/10 [00:13<00:00,  1.34s/it]\n"
     ]
    },
    {
     "name": "stdout",
     "output_type": "stream",
     "text": [
      "all-mpnet-base-v2__top_k:2__chunk_size:128\n",
      "Running RAG pipeline\n"
     ]
    },
    {
     "name": "stderr",
     "output_type": "stream",
     "text": [
      "100%|████████████████████████████████████████████████████████████████████████████████████████████████████████████████████████████████████████████████████████████████████████████████████████████████████████████████████████████████████████| 10/10 [00:12<00:00,  1.28s/it]\n"
     ]
    },
    {
     "name": "stdout",
     "output_type": "stream",
     "text": [
      "Running evaluation\n"
     ]
    },
    {
     "name": "stderr",
     "output_type": "stream",
     "text": [
      "100%|████████████████████████████████████████████████████████████████████████████████████████████████████████████████████████████████████████████████████████████████████████████████████████████████████████████████████████████████████████| 10/10 [00:23<00:00,  2.36s/it]\n",
      "100%|████████████████████████████████████████████████████████████████████████████████████████████████████████████████████████████████████████████████████████████████████████████████████████████████████████████████████████████████████████| 10/10 [00:13<00:00,  1.36s/it]\n"
     ]
    },
    {
     "name": "stdout",
     "output_type": "stream",
     "text": [
      "all-mpnet-base-v2__top_k:3__chunk_size:128\n",
      "Running RAG pipeline\n"
     ]
    },
    {
     "name": "stderr",
     "output_type": "stream",
     "text": [
      "100%|████████████████████████████████████████████████████████████████████████████████████████████████████████████████████████████████████████████████████████████████████████████████████████████████████████████████████████████████████████| 10/10 [00:11<00:00,  1.20s/it]\n"
     ]
    },
    {
     "name": "stdout",
     "output_type": "stream",
     "text": [
      "Running evaluation\n"
     ]
    },
    {
     "name": "stderr",
     "output_type": "stream",
     "text": [
      "100%|████████████████████████████████████████████████████████████████████████████████████████████████████████████████████████████████████████████████████████████████████████████████████████████████████████████████████████████████████████| 10/10 [00:37<00:00,  3.79s/it]\n",
      "100%|████████████████████████████████████████████████████████████████████████████████████████████████████████████████████████████████████████████████████████████████████████████████████████████████████████████████████████████████████████| 10/10 [00:15<00:00,  1.54s/it]\n"
     ]
    },
    {
     "name": "stdout",
     "output_type": "stream",
     "text": [
      "Indexing documents with sentence-transformers/all-mpnet-base-v2 model with a chunk_size=256\n"
     ]
    },
    {
     "name": "stderr",
     "output_type": "stream",
     "text": [
      "Batches: 100%|███████████████████████████████████████████████████████████████████████████████████████████████████████████████████████████████████████████████████████████████████████████████████████████████████████████████████████████████| 21/21 [00:19<00:00,  1.05it/s]\n"
     ]
    },
    {
     "name": "stdout",
     "output_type": "stream",
     "text": [
      "all-mpnet-base-v2__top_k:1__chunk_size:256\n",
      "Running RAG pipeline\n"
     ]
    },
    {
     "name": "stderr",
     "output_type": "stream",
     "text": [
      "100%|████████████████████████████████████████████████████████████████████████████████████████████████████████████████████████████████████████████████████████████████████████████████████████████████████████████████████████████████████████| 10/10 [00:16<00:00,  1.60s/it]\n"
     ]
    },
    {
     "name": "stdout",
     "output_type": "stream",
     "text": [
      "Running evaluation\n"
     ]
    },
    {
     "name": "stderr",
     "output_type": "stream",
     "text": [
      "100%|████████████████████████████████████████████████████████████████████████████████████████████████████████████████████████████████████████████████████████████████████████████████████████████████████████████████████████████████████████| 10/10 [00:20<00:00,  2.06s/it]\n",
      "100%|████████████████████████████████████████████████████████████████████████████████████████████████████████████████████████████████████████████████████████████████████████████████████████████████████████████████████████████████████████| 10/10 [00:16<00:00,  1.70s/it]\n"
     ]
    },
    {
     "name": "stdout",
     "output_type": "stream",
     "text": [
      "all-mpnet-base-v2__top_k:2__chunk_size:256\n",
      "Running RAG pipeline\n"
     ]
    },
    {
     "name": "stderr",
     "output_type": "stream",
     "text": [
      "100%|████████████████████████████████████████████████████████████████████████████████████████████████████████████████████████████████████████████████████████████████████████████████████████████████████████████████████████████████████████| 10/10 [00:15<00:00,  1.55s/it]\n"
     ]
    },
    {
     "name": "stdout",
     "output_type": "stream",
     "text": [
      "Running evaluation\n"
     ]
    },
    {
     "name": "stderr",
     "output_type": "stream",
     "text": [
      "100%|████████████████████████████████████████████████████████████████████████████████████████████████████████████████████████████████████████████████████████████████████████████████████████████████████████████████████████████████████████| 10/10 [00:25<00:00,  2.52s/it]\n",
      "100%|████████████████████████████████████████████████████████████████████████████████████████████████████████████████████████████████████████████████████████████████████████████████████████████████████████████████████████████████████████| 10/10 [00:19<00:00,  1.95s/it]\n"
     ]
    },
    {
     "name": "stdout",
     "output_type": "stream",
     "text": [
      "all-mpnet-base-v2__top_k:3__chunk_size:256\n",
      "Running RAG pipeline\n"
     ]
    },
    {
     "name": "stderr",
     "output_type": "stream",
     "text": [
      "100%|████████████████████████████████████████████████████████████████████████████████████████████████████████████████████████████████████████████████████████████████████████████████████████████████████████████████████████████████████████| 10/10 [00:12<00:00,  1.24s/it]\n"
     ]
    },
    {
     "name": "stdout",
     "output_type": "stream",
     "text": [
      "Running evaluation\n"
     ]
    },
    {
     "name": "stderr",
     "output_type": "stream",
     "text": [
      "100%|████████████████████████████████████████████████████████████████████████████████████████████████████████████████████████████████████████████████████████████████████████████████████████████████████████████████████████████████████████| 10/10 [00:27<00:00,  2.73s/it]\n",
      "100%|████████████████████████████████████████████████████████████████████████████████████████████████████████████████████████████████████████████████████████████████████████████████████████████████████████████████████████████████████████| 10/10 [00:20<00:00,  2.07s/it]\n"
     ]
    }
   ],
   "source": [
    "parameter_tuning(questions, answers, \"results\")"
   ]
  },
  {
   "cell_type": "markdown",
   "id": "00660aae-32be-4ff8-8c03-9de0df9dc1d3",
   "metadata": {
    "id": "00660aae-32be-4ff8-8c03-9de0df9dc1d3"
   },
   "source": [
    "## After the process finished we can analyse de results. Let's read the aggregated scores into a single DataFrame"
   ]
  },
  {
   "cell_type": "code",
   "execution_count": 1,
   "id": "013450e2-a49b-4111-8f04-6999376484f1",
   "metadata": {
    "id": "013450e2-a49b-4111-8f04-6999376484f1"
   },
   "outputs": [],
   "source": [
    "import re\n",
    "\n",
    "def parse_results(f_name: str):\n",
    "    pattern = r\"score_report_(.*?)__top_k:(\\d+)__chunk_size:(\\d+)\\.csv\"\n",
    "    match = re.search(pattern, f_name)\n",
    "    if match:\n",
    "        embeddings_model = match.group(1)\n",
    "        top_k = int(match.group(2))\n",
    "        chunk_size = int(match.group(3))\n",
    "        return embeddings_model, top_k, chunk_size\n",
    "    else:\n",
    "        print(\"No match found\")"
   ]
  },
  {
   "cell_type": "code",
   "execution_count": 2,
   "id": "67d86ea5-5d39-4cb8-90d2-470471571ac5",
   "metadata": {
    "id": "67d86ea5-5d39-4cb8-90d2-470471571ac5"
   },
   "outputs": [],
   "source": [
    "import pandas as pd\n",
    "\n",
    "def read_scores(path: str):\n",
    "    all_scores = []\n",
    "    for root, dirs, files in os.walk(path):\n",
    "        for f_name in files:\n",
    "            if not f_name.startswith(\"score_report\"):\n",
    "                continue\n",
    "\n",
    "            embeddings_model, top_k, chunk_size = parse_results(f_name)\n",
    "            df = pd.read_csv(path+\"/\"+f_name)\n",
    "            df_transposed = df.T\n",
    "            df_transposed.columns = df_transposed.iloc[0]\n",
    "            df_transposed = df_transposed[1:]\n",
    "\n",
    "            # Add new columns\n",
    "            df_transposed['embeddings'] = embeddings_model\n",
    "            df_transposed['top_k'] = top_k\n",
    "            df_transposed['chunk_size'] = chunk_size\n",
    "\n",
    "            all_scores.append(df_transposed)\n",
    "\n",
    "    df = pd.concat(all_scores)\n",
    "    df.reset_index(drop=True, inplace=True)\n",
    "    df.rename_axis(None, axis=1, inplace=True)\n",
    "\n",
    "    return df"
   ]
  },
  {
   "cell_type": "code",
   "execution_count": 7,
   "id": "a03966eb-658d-4e16-bce0-e198886eca35",
   "metadata": {
    "id": "a03966eb-658d-4e16-bce0-e198886eca35"
   },
   "outputs": [],
   "source": [
    "import os\n",
    "df = read_scores('experiment_a/')"
   ]
  },
  {
   "cell_type": "code",
   "execution_count": 8,
   "id": "a018bfb3-755b-4a4f-9f2d-cf69201f9f6d",
   "metadata": {
    "colab": {
     "base_uri": "https://localhost:8080/",
     "height": 913
    },
    "id": "a018bfb3-755b-4a4f-9f2d-cf69201f9f6d",
    "outputId": "8ed45d7d-be8c-4187-9860-eb85ec9e016f"
   },
   "outputs": [
    {
     "data": {
      "text/html": [
       "<div>\n",
       "<style scoped>\n",
       "    .dataframe tbody tr th:only-of-type {\n",
       "        vertical-align: middle;\n",
       "    }\n",
       "\n",
       "    .dataframe tbody tr th {\n",
       "        vertical-align: top;\n",
       "    }\n",
       "\n",
       "    .dataframe thead th {\n",
       "        text-align: right;\n",
       "    }\n",
       "</style>\n",
       "<table border=\"1\" class=\"dataframe\">\n",
       "  <thead>\n",
       "    <tr style=\"text-align: right;\">\n",
       "      <th></th>\n",
       "      <th>0</th>\n",
       "      <th>1</th>\n",
       "      <th>2</th>\n",
       "      <th>embeddings</th>\n",
       "      <th>top_k</th>\n",
       "      <th>chunk_size</th>\n",
       "    </tr>\n",
       "  </thead>\n",
       "  <tbody>\n",
       "    <tr>\n",
       "      <th>0</th>\n",
       "      <td>context_relevance</td>\n",
       "      <td>faithfulness</td>\n",
       "      <td>sas</td>\n",
       "      <td>all-mpnet-base-v2</td>\n",
       "      <td>1</td>\n",
       "      <td>64</td>\n",
       "    </tr>\n",
       "    <tr>\n",
       "      <th>1</th>\n",
       "      <td>0.966667</td>\n",
       "      <td>0.7</td>\n",
       "      <td>0.439324</td>\n",
       "      <td>all-mpnet-base-v2</td>\n",
       "      <td>1</td>\n",
       "      <td>64</td>\n",
       "    </tr>\n",
       "    <tr>\n",
       "      <th>2</th>\n",
       "      <td>context_relevance</td>\n",
       "      <td>faithfulness</td>\n",
       "      <td>sas</td>\n",
       "      <td>all-mpnet-base-v2</td>\n",
       "      <td>3</td>\n",
       "      <td>256</td>\n",
       "    </tr>\n",
       "    <tr>\n",
       "      <th>3</th>\n",
       "      <td>0.96</td>\n",
       "      <td>1.0</td>\n",
       "      <td>0.547931</td>\n",
       "      <td>all-mpnet-base-v2</td>\n",
       "      <td>3</td>\n",
       "      <td>256</td>\n",
       "    </tr>\n",
       "    <tr>\n",
       "      <th>4</th>\n",
       "      <td>context_relevance</td>\n",
       "      <td>faithfulness</td>\n",
       "      <td>sas</td>\n",
       "      <td>all-mpnet-base-v2</td>\n",
       "      <td>2</td>\n",
       "      <td>256</td>\n",
       "    </tr>\n",
       "    <tr>\n",
       "      <th>5</th>\n",
       "      <td>1.0</td>\n",
       "      <td>0.966667</td>\n",
       "      <td>0.75655</td>\n",
       "      <td>all-mpnet-base-v2</td>\n",
       "      <td>2</td>\n",
       "      <td>256</td>\n",
       "    </tr>\n",
       "    <tr>\n",
       "      <th>6</th>\n",
       "      <td>context_relevance</td>\n",
       "      <td>faithfulness</td>\n",
       "      <td>sas</td>\n",
       "      <td>msmarco-distilroberta-base-v2</td>\n",
       "      <td>1</td>\n",
       "      <td>256</td>\n",
       "    </tr>\n",
       "    <tr>\n",
       "      <th>7</th>\n",
       "      <td>0.966667</td>\n",
       "      <td>0.85</td>\n",
       "      <td>0.689751</td>\n",
       "      <td>msmarco-distilroberta-base-v2</td>\n",
       "      <td>1</td>\n",
       "      <td>256</td>\n",
       "    </tr>\n",
       "    <tr>\n",
       "      <th>8</th>\n",
       "      <td>context_relevance</td>\n",
       "      <td>faithfulness</td>\n",
       "      <td>sas</td>\n",
       "      <td>all-MiniLM-L6-v2</td>\n",
       "      <td>3</td>\n",
       "      <td>64</td>\n",
       "    </tr>\n",
       "    <tr>\n",
       "      <th>9</th>\n",
       "      <td>0.89</td>\n",
       "      <td>0.766667</td>\n",
       "      <td>0.530388</td>\n",
       "      <td>all-MiniLM-L6-v2</td>\n",
       "      <td>3</td>\n",
       "      <td>64</td>\n",
       "    </tr>\n",
       "    <tr>\n",
       "      <th>10</th>\n",
       "      <td>context_relevance</td>\n",
       "      <td>faithfulness</td>\n",
       "      <td>sas</td>\n",
       "      <td>msmarco-distilroberta-base-v2</td>\n",
       "      <td>2</td>\n",
       "      <td>256</td>\n",
       "    </tr>\n",
       "    <tr>\n",
       "      <th>11</th>\n",
       "      <td>0.916667</td>\n",
       "      <td>0.9</td>\n",
       "      <td>0.66795</td>\n",
       "      <td>msmarco-distilroberta-base-v2</td>\n",
       "      <td>2</td>\n",
       "      <td>256</td>\n",
       "    </tr>\n",
       "    <tr>\n",
       "      <th>12</th>\n",
       "      <td>context_relevance</td>\n",
       "      <td>faithfulness</td>\n",
       "      <td>sas</td>\n",
       "      <td>all-mpnet-base-v2</td>\n",
       "      <td>1</td>\n",
       "      <td>256</td>\n",
       "    </tr>\n",
       "    <tr>\n",
       "      <th>13</th>\n",
       "      <td>1.0</td>\n",
       "      <td>0.8</td>\n",
       "      <td>0.494299</td>\n",
       "      <td>all-mpnet-base-v2</td>\n",
       "      <td>1</td>\n",
       "      <td>256</td>\n",
       "    </tr>\n",
       "    <tr>\n",
       "      <th>14</th>\n",
       "      <td>context_relevance</td>\n",
       "      <td>faithfulness</td>\n",
       "      <td>sas</td>\n",
       "      <td>msmarco-distilroberta-base-v2</td>\n",
       "      <td>3</td>\n",
       "      <td>256</td>\n",
       "    </tr>\n",
       "    <tr>\n",
       "      <th>15</th>\n",
       "      <td>0.966667</td>\n",
       "      <td>1.0</td>\n",
       "      <td>0.657013</td>\n",
       "      <td>msmarco-distilroberta-base-v2</td>\n",
       "      <td>3</td>\n",
       "      <td>256</td>\n",
       "    </tr>\n",
       "    <tr>\n",
       "      <th>16</th>\n",
       "      <td>context_relevance</td>\n",
       "      <td>faithfulness</td>\n",
       "      <td>sas</td>\n",
       "      <td>msmarco-distilroberta-base-v2</td>\n",
       "      <td>2</td>\n",
       "      <td>64</td>\n",
       "    </tr>\n",
       "    <tr>\n",
       "      <th>17</th>\n",
       "      <td>0.801667</td>\n",
       "      <td>0.9</td>\n",
       "      <td>0.616155</td>\n",
       "      <td>msmarco-distilroberta-base-v2</td>\n",
       "      <td>2</td>\n",
       "      <td>64</td>\n",
       "    </tr>\n",
       "    <tr>\n",
       "      <th>18</th>\n",
       "      <td>context_relevance</td>\n",
       "      <td>faithfulness</td>\n",
       "      <td>sas</td>\n",
       "      <td>msmarco-distilroberta-base-v2</td>\n",
       "      <td>1</td>\n",
       "      <td>64</td>\n",
       "    </tr>\n",
       "    <tr>\n",
       "      <th>19</th>\n",
       "      <td>0.633333</td>\n",
       "      <td>0.6</td>\n",
       "      <td>0.47005</td>\n",
       "      <td>msmarco-distilroberta-base-v2</td>\n",
       "      <td>1</td>\n",
       "      <td>64</td>\n",
       "    </tr>\n",
       "    <tr>\n",
       "      <th>20</th>\n",
       "      <td>context_relevance</td>\n",
       "      <td>faithfulness</td>\n",
       "      <td>sas</td>\n",
       "      <td>all-MiniLM-L6-v2</td>\n",
       "      <td>1</td>\n",
       "      <td>128</td>\n",
       "    </tr>\n",
       "    <tr>\n",
       "      <th>21</th>\n",
       "      <td>0.9</td>\n",
       "      <td>0.8</td>\n",
       "      <td>0.46599</td>\n",
       "      <td>all-MiniLM-L6-v2</td>\n",
       "      <td>1</td>\n",
       "      <td>128</td>\n",
       "    </tr>\n",
       "    <tr>\n",
       "      <th>22</th>\n",
       "      <td>context_relevance</td>\n",
       "      <td>faithfulness</td>\n",
       "      <td>sas</td>\n",
       "      <td>all-MiniLM-L6-v2</td>\n",
       "      <td>3</td>\n",
       "      <td>128</td>\n",
       "    </tr>\n",
       "    <tr>\n",
       "      <th>23</th>\n",
       "      <td>0.983333</td>\n",
       "      <td>0.8</td>\n",
       "      <td>0.456353</td>\n",
       "      <td>all-MiniLM-L6-v2</td>\n",
       "      <td>3</td>\n",
       "      <td>128</td>\n",
       "    </tr>\n",
       "    <tr>\n",
       "      <th>24</th>\n",
       "      <td>context_relevance</td>\n",
       "      <td>faithfulness</td>\n",
       "      <td>sas</td>\n",
       "      <td>all-MiniLM-L6-v2</td>\n",
       "      <td>2</td>\n",
       "      <td>128</td>\n",
       "    </tr>\n",
       "    <tr>\n",
       "      <th>25</th>\n",
       "      <td>0.9</td>\n",
       "      <td>0.8</td>\n",
       "      <td>0.574064</td>\n",
       "      <td>all-MiniLM-L6-v2</td>\n",
       "      <td>2</td>\n",
       "      <td>128</td>\n",
       "    </tr>\n",
       "    <tr>\n",
       "      <th>26</th>\n",
       "      <td>context_relevance</td>\n",
       "      <td>faithfulness</td>\n",
       "      <td>sas</td>\n",
       "      <td>all-mpnet-base-v2</td>\n",
       "      <td>2</td>\n",
       "      <td>64</td>\n",
       "    </tr>\n",
       "    <tr>\n",
       "      <th>27</th>\n",
       "      <td>0.916667</td>\n",
       "      <td>0.9</td>\n",
       "      <td>0.516484</td>\n",
       "      <td>all-mpnet-base-v2</td>\n",
       "      <td>2</td>\n",
       "      <td>64</td>\n",
       "    </tr>\n",
       "    <tr>\n",
       "      <th>28</th>\n",
       "      <td>context_relevance</td>\n",
       "      <td>faithfulness</td>\n",
       "      <td>sas</td>\n",
       "      <td>all-mpnet-base-v2</td>\n",
       "      <td>2</td>\n",
       "      <td>128</td>\n",
       "    </tr>\n",
       "    <tr>\n",
       "      <th>29</th>\n",
       "      <td>0.920076</td>\n",
       "      <td>0.9</td>\n",
       "      <td>0.481968</td>\n",
       "      <td>all-mpnet-base-v2</td>\n",
       "      <td>2</td>\n",
       "      <td>128</td>\n",
       "    </tr>\n",
       "    <tr>\n",
       "      <th>30</th>\n",
       "      <td>context_relevance</td>\n",
       "      <td>faithfulness</td>\n",
       "      <td>sas</td>\n",
       "      <td>msmarco-distilroberta-base-v2</td>\n",
       "      <td>1</td>\n",
       "      <td>128</td>\n",
       "    </tr>\n",
       "    <tr>\n",
       "      <th>31</th>\n",
       "      <td>0.816667</td>\n",
       "      <td>0.8</td>\n",
       "      <td>0.564078</td>\n",
       "      <td>msmarco-distilroberta-base-v2</td>\n",
       "      <td>1</td>\n",
       "      <td>128</td>\n",
       "    </tr>\n",
       "    <tr>\n",
       "      <th>32</th>\n",
       "      <td>context_relevance</td>\n",
       "      <td>faithfulness</td>\n",
       "      <td>sas</td>\n",
       "      <td>all-mpnet-base-v2</td>\n",
       "      <td>3</td>\n",
       "      <td>128</td>\n",
       "    </tr>\n",
       "    <tr>\n",
       "      <th>33</th>\n",
       "      <td>0.766667</td>\n",
       "      <td>0.7</td>\n",
       "      <td>0.529425</td>\n",
       "      <td>all-mpnet-base-v2</td>\n",
       "      <td>3</td>\n",
       "      <td>128</td>\n",
       "    </tr>\n",
       "    <tr>\n",
       "      <th>34</th>\n",
       "      <td>context_relevance</td>\n",
       "      <td>faithfulness</td>\n",
       "      <td>sas</td>\n",
       "      <td>msmarco-distilroberta-base-v2</td>\n",
       "      <td>3</td>\n",
       "      <td>128</td>\n",
       "    </tr>\n",
       "    <tr>\n",
       "      <th>35</th>\n",
       "      <td>0.958333</td>\n",
       "      <td>1.0</td>\n",
       "      <td>0.703846</td>\n",
       "      <td>msmarco-distilroberta-base-v2</td>\n",
       "      <td>3</td>\n",
       "      <td>128</td>\n",
       "    </tr>\n",
       "    <tr>\n",
       "      <th>36</th>\n",
       "      <td>context_relevance</td>\n",
       "      <td>faithfulness</td>\n",
       "      <td>sas</td>\n",
       "      <td>all-mpnet-base-v2</td>\n",
       "      <td>3</td>\n",
       "      <td>64</td>\n",
       "    </tr>\n",
       "    <tr>\n",
       "      <th>37</th>\n",
       "      <td>0.83</td>\n",
       "      <td>0.9</td>\n",
       "      <td>0.590825</td>\n",
       "      <td>all-mpnet-base-v2</td>\n",
       "      <td>3</td>\n",
       "      <td>64</td>\n",
       "    </tr>\n",
       "    <tr>\n",
       "      <th>38</th>\n",
       "      <td>context_relevance</td>\n",
       "      <td>faithfulness</td>\n",
       "      <td>sas</td>\n",
       "      <td>msmarco-distilroberta-base-v2</td>\n",
       "      <td>2</td>\n",
       "      <td>128</td>\n",
       "    </tr>\n",
       "    <tr>\n",
       "      <th>39</th>\n",
       "      <td>0.966667</td>\n",
       "      <td>1.0</td>\n",
       "      <td>0.73797</td>\n",
       "      <td>msmarco-distilroberta-base-v2</td>\n",
       "      <td>2</td>\n",
       "      <td>128</td>\n",
       "    </tr>\n",
       "    <tr>\n",
       "      <th>40</th>\n",
       "      <td>context_relevance</td>\n",
       "      <td>faithfulness</td>\n",
       "      <td>sas</td>\n",
       "      <td>all-mpnet-base-v2</td>\n",
       "      <td>1</td>\n",
       "      <td>128</td>\n",
       "    </tr>\n",
       "    <tr>\n",
       "      <th>41</th>\n",
       "      <td>1.0</td>\n",
       "      <td>0.7</td>\n",
       "      <td>0.565901</td>\n",
       "      <td>all-mpnet-base-v2</td>\n",
       "      <td>1</td>\n",
       "      <td>128</td>\n",
       "    </tr>\n",
       "    <tr>\n",
       "      <th>42</th>\n",
       "      <td>context_relevance</td>\n",
       "      <td>faithfulness</td>\n",
       "      <td>sas</td>\n",
       "      <td>all-MiniLM-L6-v2</td>\n",
       "      <td>1</td>\n",
       "      <td>64</td>\n",
       "    </tr>\n",
       "    <tr>\n",
       "      <th>43</th>\n",
       "      <td>0.9</td>\n",
       "      <td>0.3</td>\n",
       "      <td>0.276192</td>\n",
       "      <td>all-MiniLM-L6-v2</td>\n",
       "      <td>1</td>\n",
       "      <td>64</td>\n",
       "    </tr>\n",
       "    <tr>\n",
       "      <th>44</th>\n",
       "      <td>context_relevance</td>\n",
       "      <td>faithfulness</td>\n",
       "      <td>sas</td>\n",
       "      <td>all-MiniLM-L6-v2</td>\n",
       "      <td>2</td>\n",
       "      <td>64</td>\n",
       "    </tr>\n",
       "    <tr>\n",
       "      <th>45</th>\n",
       "      <td>0.95</td>\n",
       "      <td>0.9</td>\n",
       "      <td>0.557292</td>\n",
       "      <td>all-MiniLM-L6-v2</td>\n",
       "      <td>2</td>\n",
       "      <td>64</td>\n",
       "    </tr>\n",
       "    <tr>\n",
       "      <th>46</th>\n",
       "      <td>context_relevance</td>\n",
       "      <td>faithfulness</td>\n",
       "      <td>sas</td>\n",
       "      <td>all-MiniLM-L6-v2</td>\n",
       "      <td>1</td>\n",
       "      <td>256</td>\n",
       "    </tr>\n",
       "    <tr>\n",
       "      <th>47</th>\n",
       "      <td>0.908333</td>\n",
       "      <td>0.8</td>\n",
       "      <td>0.571245</td>\n",
       "      <td>all-MiniLM-L6-v2</td>\n",
       "      <td>1</td>\n",
       "      <td>256</td>\n",
       "    </tr>\n",
       "    <tr>\n",
       "      <th>48</th>\n",
       "      <td>context_relevance</td>\n",
       "      <td>faithfulness</td>\n",
       "      <td>sas</td>\n",
       "      <td>all-MiniLM-L6-v2</td>\n",
       "      <td>2</td>\n",
       "      <td>256</td>\n",
       "    </tr>\n",
       "    <tr>\n",
       "      <th>49</th>\n",
       "      <td>0.960714</td>\n",
       "      <td>0.975</td>\n",
       "      <td>0.611022</td>\n",
       "      <td>all-MiniLM-L6-v2</td>\n",
       "      <td>2</td>\n",
       "      <td>256</td>\n",
       "    </tr>\n",
       "    <tr>\n",
       "      <th>50</th>\n",
       "      <td>context_relevance</td>\n",
       "      <td>faithfulness</td>\n",
       "      <td>sas</td>\n",
       "      <td>msmarco-distilroberta-base-v2</td>\n",
       "      <td>3</td>\n",
       "      <td>64</td>\n",
       "    </tr>\n",
       "    <tr>\n",
       "      <th>51</th>\n",
       "      <td>0.86</td>\n",
       "      <td>0.9</td>\n",
       "      <td>0.620718</td>\n",
       "      <td>msmarco-distilroberta-base-v2</td>\n",
       "      <td>3</td>\n",
       "      <td>64</td>\n",
       "    </tr>\n",
       "    <tr>\n",
       "      <th>52</th>\n",
       "      <td>context_relevance</td>\n",
       "      <td>faithfulness</td>\n",
       "      <td>sas</td>\n",
       "      <td>all-MiniLM-L6-v2</td>\n",
       "      <td>3</td>\n",
       "      <td>256</td>\n",
       "    </tr>\n",
       "    <tr>\n",
       "      <th>53</th>\n",
       "      <td>0.963333</td>\n",
       "      <td>0.9</td>\n",
       "      <td>0.590266</td>\n",
       "      <td>all-MiniLM-L6-v2</td>\n",
       "      <td>3</td>\n",
       "      <td>256</td>\n",
       "    </tr>\n",
       "  </tbody>\n",
       "</table>\n",
       "</div>"
      ],
      "text/plain": [
       "                    0             1         2                     embeddings  \\\n",
       "0   context_relevance  faithfulness       sas              all-mpnet-base-v2   \n",
       "1            0.966667           0.7  0.439324              all-mpnet-base-v2   \n",
       "2   context_relevance  faithfulness       sas              all-mpnet-base-v2   \n",
       "3                0.96           1.0  0.547931              all-mpnet-base-v2   \n",
       "4   context_relevance  faithfulness       sas              all-mpnet-base-v2   \n",
       "5                 1.0      0.966667   0.75655              all-mpnet-base-v2   \n",
       "6   context_relevance  faithfulness       sas  msmarco-distilroberta-base-v2   \n",
       "7            0.966667          0.85  0.689751  msmarco-distilroberta-base-v2   \n",
       "8   context_relevance  faithfulness       sas               all-MiniLM-L6-v2   \n",
       "9                0.89      0.766667  0.530388               all-MiniLM-L6-v2   \n",
       "10  context_relevance  faithfulness       sas  msmarco-distilroberta-base-v2   \n",
       "11           0.916667           0.9   0.66795  msmarco-distilroberta-base-v2   \n",
       "12  context_relevance  faithfulness       sas              all-mpnet-base-v2   \n",
       "13                1.0           0.8  0.494299              all-mpnet-base-v2   \n",
       "14  context_relevance  faithfulness       sas  msmarco-distilroberta-base-v2   \n",
       "15           0.966667           1.0  0.657013  msmarco-distilroberta-base-v2   \n",
       "16  context_relevance  faithfulness       sas  msmarco-distilroberta-base-v2   \n",
       "17           0.801667           0.9  0.616155  msmarco-distilroberta-base-v2   \n",
       "18  context_relevance  faithfulness       sas  msmarco-distilroberta-base-v2   \n",
       "19           0.633333           0.6   0.47005  msmarco-distilroberta-base-v2   \n",
       "20  context_relevance  faithfulness       sas               all-MiniLM-L6-v2   \n",
       "21                0.9           0.8   0.46599               all-MiniLM-L6-v2   \n",
       "22  context_relevance  faithfulness       sas               all-MiniLM-L6-v2   \n",
       "23           0.983333           0.8  0.456353               all-MiniLM-L6-v2   \n",
       "24  context_relevance  faithfulness       sas               all-MiniLM-L6-v2   \n",
       "25                0.9           0.8  0.574064               all-MiniLM-L6-v2   \n",
       "26  context_relevance  faithfulness       sas              all-mpnet-base-v2   \n",
       "27           0.916667           0.9  0.516484              all-mpnet-base-v2   \n",
       "28  context_relevance  faithfulness       sas              all-mpnet-base-v2   \n",
       "29           0.920076           0.9  0.481968              all-mpnet-base-v2   \n",
       "30  context_relevance  faithfulness       sas  msmarco-distilroberta-base-v2   \n",
       "31           0.816667           0.8  0.564078  msmarco-distilroberta-base-v2   \n",
       "32  context_relevance  faithfulness       sas              all-mpnet-base-v2   \n",
       "33           0.766667           0.7  0.529425              all-mpnet-base-v2   \n",
       "34  context_relevance  faithfulness       sas  msmarco-distilroberta-base-v2   \n",
       "35           0.958333           1.0  0.703846  msmarco-distilroberta-base-v2   \n",
       "36  context_relevance  faithfulness       sas              all-mpnet-base-v2   \n",
       "37               0.83           0.9  0.590825              all-mpnet-base-v2   \n",
       "38  context_relevance  faithfulness       sas  msmarco-distilroberta-base-v2   \n",
       "39           0.966667           1.0   0.73797  msmarco-distilroberta-base-v2   \n",
       "40  context_relevance  faithfulness       sas              all-mpnet-base-v2   \n",
       "41                1.0           0.7  0.565901              all-mpnet-base-v2   \n",
       "42  context_relevance  faithfulness       sas               all-MiniLM-L6-v2   \n",
       "43                0.9           0.3  0.276192               all-MiniLM-L6-v2   \n",
       "44  context_relevance  faithfulness       sas               all-MiniLM-L6-v2   \n",
       "45               0.95           0.9  0.557292               all-MiniLM-L6-v2   \n",
       "46  context_relevance  faithfulness       sas               all-MiniLM-L6-v2   \n",
       "47           0.908333           0.8  0.571245               all-MiniLM-L6-v2   \n",
       "48  context_relevance  faithfulness       sas               all-MiniLM-L6-v2   \n",
       "49           0.960714         0.975  0.611022               all-MiniLM-L6-v2   \n",
       "50  context_relevance  faithfulness       sas  msmarco-distilroberta-base-v2   \n",
       "51               0.86           0.9  0.620718  msmarco-distilroberta-base-v2   \n",
       "52  context_relevance  faithfulness       sas               all-MiniLM-L6-v2   \n",
       "53           0.963333           0.9  0.590266               all-MiniLM-L6-v2   \n",
       "\n",
       "    top_k  chunk_size  \n",
       "0       1          64  \n",
       "1       1          64  \n",
       "2       3         256  \n",
       "3       3         256  \n",
       "4       2         256  \n",
       "5       2         256  \n",
       "6       1         256  \n",
       "7       1         256  \n",
       "8       3          64  \n",
       "9       3          64  \n",
       "10      2         256  \n",
       "11      2         256  \n",
       "12      1         256  \n",
       "13      1         256  \n",
       "14      3         256  \n",
       "15      3         256  \n",
       "16      2          64  \n",
       "17      2          64  \n",
       "18      1          64  \n",
       "19      1          64  \n",
       "20      1         128  \n",
       "21      1         128  \n",
       "22      3         128  \n",
       "23      3         128  \n",
       "24      2         128  \n",
       "25      2         128  \n",
       "26      2          64  \n",
       "27      2          64  \n",
       "28      2         128  \n",
       "29      2         128  \n",
       "30      1         128  \n",
       "31      1         128  \n",
       "32      3         128  \n",
       "33      3         128  \n",
       "34      3         128  \n",
       "35      3         128  \n",
       "36      3          64  \n",
       "37      3          64  \n",
       "38      2         128  \n",
       "39      2         128  \n",
       "40      1         128  \n",
       "41      1         128  \n",
       "42      1          64  \n",
       "43      1          64  \n",
       "44      2          64  \n",
       "45      2          64  \n",
       "46      1         256  \n",
       "47      1         256  \n",
       "48      2         256  \n",
       "49      2         256  \n",
       "50      3          64  \n",
       "51      3          64  \n",
       "52      3         256  \n",
       "53      3         256  "
      ]
     },
     "execution_count": 8,
     "metadata": {},
     "output_type": "execute_result"
    }
   ],
   "source": [
    "df"
   ]
  },
  {
   "cell_type": "markdown",
   "id": "16cd5072-5d3c-453c-b4f9-1c285a6afe68",
   "metadata": {
    "id": "16cd5072-5d3c-453c-b4f9-1c285a6afe68"
   },
   "source": [
    "## Let's see wich parameter configuration yielded the best Semantic Similarity Answer score"
   ]
  },
  {
   "cell_type": "code",
   "execution_count": 34,
   "id": "3b4c7aa0-2607-4e4f-897f-3c3f55be78da",
   "metadata": {
    "colab": {
     "base_uri": "https://localhost:8080/",
     "height": 896
    },
    "id": "3b4c7aa0-2607-4e4f-897f-3c3f55be78da",
    "outputId": "d84005f7-fad1-46ca-8005-d3251f49540b"
   },
   "outputs": [
    {
     "data": {
      "text/html": [
       "<div>\n",
       "<style scoped>\n",
       "    .dataframe tbody tr th:only-of-type {\n",
       "        vertical-align: middle;\n",
       "    }\n",
       "\n",
       "    .dataframe tbody tr th {\n",
       "        vertical-align: top;\n",
       "    }\n",
       "\n",
       "    .dataframe thead th {\n",
       "        text-align: right;\n",
       "    }\n",
       "</style>\n",
       "<table border=\"1\" class=\"dataframe\">\n",
       "  <thead>\n",
       "    <tr style=\"text-align: right;\">\n",
       "      <th></th>\n",
       "      <th>context_relevance</th>\n",
       "      <th>faithfulness</th>\n",
       "      <th>sas</th>\n",
       "      <th>embeddings</th>\n",
       "      <th>top_k</th>\n",
       "      <th>chunk_size</th>\n",
       "    </tr>\n",
       "  </thead>\n",
       "  <tbody>\n",
       "    <tr>\n",
       "      <th>25</th>\n",
       "      <td>0.985714</td>\n",
       "      <td>1.0</td>\n",
       "      <td>0.70377</td>\n",
       "      <td>msmarco-distilroberta-base-v2</td>\n",
       "      <td>3</td>\n",
       "      <td>64</td>\n",
       "    </tr>\n",
       "    <tr>\n",
       "      <th>2</th>\n",
       "      <td>0.9</td>\n",
       "      <td>0.9</td>\n",
       "      <td>0.657304</td>\n",
       "      <td>all-mpnet-base-v2</td>\n",
       "      <td>2</td>\n",
       "      <td>256</td>\n",
       "    </tr>\n",
       "    <tr>\n",
       "      <th>26</th>\n",
       "      <td>0.94</td>\n",
       "      <td>1.0</td>\n",
       "      <td>0.62924</td>\n",
       "      <td>all-MiniLM-L6-v2</td>\n",
       "      <td>3</td>\n",
       "      <td>256</td>\n",
       "    </tr>\n",
       "    <tr>\n",
       "      <th>19</th>\n",
       "      <td>0.85</td>\n",
       "      <td>0.866667</td>\n",
       "      <td>0.622392</td>\n",
       "      <td>msmarco-distilroberta-base-v2</td>\n",
       "      <td>2</td>\n",
       "      <td>128</td>\n",
       "    </tr>\n",
       "    <tr>\n",
       "      <th>6</th>\n",
       "      <td>0.98</td>\n",
       "      <td>0.85</td>\n",
       "      <td>0.606515</td>\n",
       "      <td>all-mpnet-base-v2</td>\n",
       "      <td>1</td>\n",
       "      <td>256</td>\n",
       "    </tr>\n",
       "    <tr>\n",
       "      <th>8</th>\n",
       "      <td>0.875</td>\n",
       "      <td>1.0</td>\n",
       "      <td>0.594458</td>\n",
       "      <td>msmarco-distilroberta-base-v2</td>\n",
       "      <td>2</td>\n",
       "      <td>64</td>\n",
       "    </tr>\n",
       "    <tr>\n",
       "      <th>5</th>\n",
       "      <td>0.85</td>\n",
       "      <td>0.866667</td>\n",
       "      <td>0.582429</td>\n",
       "      <td>msmarco-distilroberta-base-v2</td>\n",
       "      <td>2</td>\n",
       "      <td>256</td>\n",
       "    </tr>\n",
       "    <tr>\n",
       "      <th>24</th>\n",
       "      <td>0.940714</td>\n",
       "      <td>0.9</td>\n",
       "      <td>0.550357</td>\n",
       "      <td>all-MiniLM-L6-v2</td>\n",
       "      <td>2</td>\n",
       "      <td>256</td>\n",
       "    </tr>\n",
       "    <tr>\n",
       "      <th>18</th>\n",
       "      <td>0.849048</td>\n",
       "      <td>0.9</td>\n",
       "      <td>0.548835</td>\n",
       "      <td>all-mpnet-base-v2</td>\n",
       "      <td>3</td>\n",
       "      <td>64</td>\n",
       "    </tr>\n",
       "    <tr>\n",
       "      <th>9</th>\n",
       "      <td>0.966667</td>\n",
       "      <td>0.8</td>\n",
       "      <td>0.548086</td>\n",
       "      <td>msmarco-distilroberta-base-v2</td>\n",
       "      <td>1</td>\n",
       "      <td>64</td>\n",
       "    </tr>\n",
       "    <tr>\n",
       "      <th>17</th>\n",
       "      <td>1.0</td>\n",
       "      <td>0.9</td>\n",
       "      <td>0.524813</td>\n",
       "      <td>msmarco-distilroberta-base-v2</td>\n",
       "      <td>3</td>\n",
       "      <td>128</td>\n",
       "    </tr>\n",
       "    <tr>\n",
       "      <th>12</th>\n",
       "      <td>0.866667</td>\n",
       "      <td>0.75</td>\n",
       "      <td>0.524706</td>\n",
       "      <td>all-MiniLM-L6-v2</td>\n",
       "      <td>2</td>\n",
       "      <td>128</td>\n",
       "    </tr>\n",
       "    <tr>\n",
       "      <th>1</th>\n",
       "      <td>0.963889</td>\n",
       "      <td>1.0</td>\n",
       "      <td>0.515557</td>\n",
       "      <td>all-mpnet-base-v2</td>\n",
       "      <td>3</td>\n",
       "      <td>256</td>\n",
       "    </tr>\n",
       "    <tr>\n",
       "      <th>16</th>\n",
       "      <td>0.812195</td>\n",
       "      <td>0.766667</td>\n",
       "      <td>0.51456</td>\n",
       "      <td>all-mpnet-base-v2</td>\n",
       "      <td>3</td>\n",
       "      <td>128</td>\n",
       "    </tr>\n",
       "    <tr>\n",
       "      <th>11</th>\n",
       "      <td>0.985714</td>\n",
       "      <td>0.8</td>\n",
       "      <td>0.503123</td>\n",
       "      <td>all-MiniLM-L6-v2</td>\n",
       "      <td>3</td>\n",
       "      <td>128</td>\n",
       "    </tr>\n",
       "    <tr>\n",
       "      <th>14</th>\n",
       "      <td>0.933333</td>\n",
       "      <td>0.8</td>\n",
       "      <td>0.494501</td>\n",
       "      <td>all-mpnet-base-v2</td>\n",
       "      <td>2</td>\n",
       "      <td>128</td>\n",
       "    </tr>\n",
       "    <tr>\n",
       "      <th>13</th>\n",
       "      <td>0.741667</td>\n",
       "      <td>0.8</td>\n",
       "      <td>0.480278</td>\n",
       "      <td>all-mpnet-base-v2</td>\n",
       "      <td>2</td>\n",
       "      <td>64</td>\n",
       "    </tr>\n",
       "    <tr>\n",
       "      <th>7</th>\n",
       "      <td>0.832381</td>\n",
       "      <td>0.8</td>\n",
       "      <td>0.476049</td>\n",
       "      <td>msmarco-distilroberta-base-v2</td>\n",
       "      <td>3</td>\n",
       "      <td>256</td>\n",
       "    </tr>\n",
       "    <tr>\n",
       "      <th>4</th>\n",
       "      <td>0.875</td>\n",
       "      <td>0.65</td>\n",
       "      <td>0.471951</td>\n",
       "      <td>all-MiniLM-L6-v2</td>\n",
       "      <td>3</td>\n",
       "      <td>64</td>\n",
       "    </tr>\n",
       "    <tr>\n",
       "      <th>22</th>\n",
       "      <td>0.706667</td>\n",
       "      <td>0.7</td>\n",
       "      <td>0.465628</td>\n",
       "      <td>all-MiniLM-L6-v2</td>\n",
       "      <td>2</td>\n",
       "      <td>64</td>\n",
       "    </tr>\n",
       "    <tr>\n",
       "      <th>3</th>\n",
       "      <td>0.9</td>\n",
       "      <td>0.6</td>\n",
       "      <td>0.423888</td>\n",
       "      <td>msmarco-distilroberta-base-v2</td>\n",
       "      <td>1</td>\n",
       "      <td>256</td>\n",
       "    </tr>\n",
       "    <tr>\n",
       "      <th>10</th>\n",
       "      <td>0.55</td>\n",
       "      <td>0.7</td>\n",
       "      <td>0.422565</td>\n",
       "      <td>all-MiniLM-L6-v2</td>\n",
       "      <td>1</td>\n",
       "      <td>128</td>\n",
       "    </tr>\n",
       "    <tr>\n",
       "      <th>20</th>\n",
       "      <td>0.9</td>\n",
       "      <td>0.75</td>\n",
       "      <td>0.408303</td>\n",
       "      <td>all-mpnet-base-v2</td>\n",
       "      <td>1</td>\n",
       "      <td>128</td>\n",
       "    </tr>\n",
       "    <tr>\n",
       "      <th>23</th>\n",
       "      <td>0.966667</td>\n",
       "      <td>0.7</td>\n",
       "      <td>0.399163</td>\n",
       "      <td>all-MiniLM-L6-v2</td>\n",
       "      <td>1</td>\n",
       "      <td>256</td>\n",
       "    </tr>\n",
       "    <tr>\n",
       "      <th>15</th>\n",
       "      <td>0.75</td>\n",
       "      <td>0.7</td>\n",
       "      <td>0.398412</td>\n",
       "      <td>msmarco-distilroberta-base-v2</td>\n",
       "      <td>1</td>\n",
       "      <td>128</td>\n",
       "    </tr>\n",
       "    <tr>\n",
       "      <th>0</th>\n",
       "      <td>0.575</td>\n",
       "      <td>0.5</td>\n",
       "      <td>0.397383</td>\n",
       "      <td>all-mpnet-base-v2</td>\n",
       "      <td>1</td>\n",
       "      <td>64</td>\n",
       "    </tr>\n",
       "    <tr>\n",
       "      <th>21</th>\n",
       "      <td>0.741667</td>\n",
       "      <td>0.6</td>\n",
       "      <td>0.383111</td>\n",
       "      <td>all-MiniLM-L6-v2</td>\n",
       "      <td>1</td>\n",
       "      <td>64</td>\n",
       "    </tr>\n",
       "  </tbody>\n",
       "</table>\n",
       "</div>"
      ],
      "text/plain": [
       "   context_relevance faithfulness       sas                     embeddings  \\\n",
       "25          0.985714          1.0   0.70377  msmarco-distilroberta-base-v2   \n",
       "2                0.9          0.9  0.657304              all-mpnet-base-v2   \n",
       "26              0.94          1.0   0.62924               all-MiniLM-L6-v2   \n",
       "19              0.85     0.866667  0.622392  msmarco-distilroberta-base-v2   \n",
       "6               0.98         0.85  0.606515              all-mpnet-base-v2   \n",
       "8              0.875          1.0  0.594458  msmarco-distilroberta-base-v2   \n",
       "5               0.85     0.866667  0.582429  msmarco-distilroberta-base-v2   \n",
       "24          0.940714          0.9  0.550357               all-MiniLM-L6-v2   \n",
       "18          0.849048          0.9  0.548835              all-mpnet-base-v2   \n",
       "9           0.966667          0.8  0.548086  msmarco-distilroberta-base-v2   \n",
       "17               1.0          0.9  0.524813  msmarco-distilroberta-base-v2   \n",
       "12          0.866667         0.75  0.524706               all-MiniLM-L6-v2   \n",
       "1           0.963889          1.0  0.515557              all-mpnet-base-v2   \n",
       "16          0.812195     0.766667   0.51456              all-mpnet-base-v2   \n",
       "11          0.985714          0.8  0.503123               all-MiniLM-L6-v2   \n",
       "14          0.933333          0.8  0.494501              all-mpnet-base-v2   \n",
       "13          0.741667          0.8  0.480278              all-mpnet-base-v2   \n",
       "7           0.832381          0.8  0.476049  msmarco-distilroberta-base-v2   \n",
       "4              0.875         0.65  0.471951               all-MiniLM-L6-v2   \n",
       "22          0.706667          0.7  0.465628               all-MiniLM-L6-v2   \n",
       "3                0.9          0.6  0.423888  msmarco-distilroberta-base-v2   \n",
       "10              0.55          0.7  0.422565               all-MiniLM-L6-v2   \n",
       "20               0.9         0.75  0.408303              all-mpnet-base-v2   \n",
       "23          0.966667          0.7  0.399163               all-MiniLM-L6-v2   \n",
       "15              0.75          0.7  0.398412  msmarco-distilroberta-base-v2   \n",
       "0              0.575          0.5  0.397383              all-mpnet-base-v2   \n",
       "21          0.741667          0.6  0.383111               all-MiniLM-L6-v2   \n",
       "\n",
       "    top_k  chunk_size  \n",
       "25      3          64  \n",
       "2       2         256  \n",
       "26      3         256  \n",
       "19      2         128  \n",
       "6       1         256  \n",
       "8       2          64  \n",
       "5       2         256  \n",
       "24      2         256  \n",
       "18      3          64  \n",
       "9       1          64  \n",
       "17      3         128  \n",
       "12      2         128  \n",
       "1       3         256  \n",
       "16      3         128  \n",
       "11      3         128  \n",
       "14      2         128  \n",
       "13      2          64  \n",
       "7       3         256  \n",
       "4       3          64  \n",
       "22      2          64  \n",
       "3       1         256  \n",
       "10      1         128  \n",
       "20      1         128  \n",
       "23      1         256  \n",
       "15      1         128  \n",
       "0       1          64  \n",
       "21      1          64  "
      ]
     },
     "execution_count": 34,
     "metadata": {},
     "output_type": "execute_result"
    }
   ],
   "source": [
    "df.sort_values(by=['sas'], ascending=[False])"
   ]
  },
  {
   "cell_type": "code",
   "execution_count": 36,
   "id": "68e4ed5e-5afe-4db2-a93e-f4232e733092",
   "metadata": {
    "id": "68e4ed5e-5afe-4db2-a93e-f4232e733092"
   },
   "outputs": [],
   "source": [
    "detailed_best_sas_df = pd.read_csv(\"results/detailed_msmarco-distilroberta-base-v2__top_k:3__chunk_size:64.csv\")"
   ]
  },
  {
   "cell_type": "code",
   "execution_count": 37,
   "id": "c7f425f4-ed35-4625-8824-f06e33622eac",
   "metadata": {
    "id": "c7f425f4-ed35-4625-8824-f06e33622eac",
    "outputId": "1cbde902-59e0-4551-d38e-11a91f65eb06"
   },
   "outputs": [
    {
     "data": {
      "text/html": [
       "<div>\n",
       "<style scoped>\n",
       "    .dataframe tbody tr th:only-of-type {\n",
       "        vertical-align: middle;\n",
       "    }\n",
       "\n",
       "    .dataframe tbody tr th {\n",
       "        vertical-align: top;\n",
       "    }\n",
       "\n",
       "    .dataframe thead th {\n",
       "        text-align: right;\n",
       "    }\n",
       "</style>\n",
       "<table border=\"1\" class=\"dataframe\">\n",
       "  <thead>\n",
       "    <tr style=\"text-align: right;\">\n",
       "      <th></th>\n",
       "      <th>questions</th>\n",
       "      <th>true_answers</th>\n",
       "      <th>predicted_answers</th>\n",
       "      <th>context_relevance</th>\n",
       "      <th>faithfulness</th>\n",
       "      <th>sas</th>\n",
       "    </tr>\n",
       "  </thead>\n",
       "  <tbody>\n",
       "    <tr>\n",
       "      <th>0</th>\n",
       "      <td>What are the two main tasks BERT is pre-traine...</td>\n",
       "      <td>Masked LM (MLM) and Next Sentence Prediction (...</td>\n",
       "      <td>question answering and language inference</td>\n",
       "      <td>1.000000</td>\n",
       "      <td>1.0</td>\n",
       "      <td>0.170214</td>\n",
       "    </tr>\n",
       "    <tr>\n",
       "      <th>1</th>\n",
       "      <td>What model sizes are reported for BERT, and wh...</td>\n",
       "      <td>BERTBASE (L=12, H=768, A=12, Total Parameters=...</td>\n",
       "      <td>BERT BASE: L=12, H=768, A=12, Total Parameters...</td>\n",
       "      <td>1.000000</td>\n",
       "      <td>1.0</td>\n",
       "      <td>0.715214</td>\n",
       "    </tr>\n",
       "    <tr>\n",
       "      <th>2</th>\n",
       "      <td>How does BERT's architecture facilitate the us...</td>\n",
       "      <td>BERT uses a multi-layer bidirectional Transfor...</td>\n",
       "      <td>BERT's architecture features a multi-layer bid...</td>\n",
       "      <td>1.000000</td>\n",
       "      <td>1.0</td>\n",
       "      <td>0.918214</td>\n",
       "    </tr>\n",
       "    <tr>\n",
       "      <th>3</th>\n",
       "      <td>Can you describe the modifications LLaMA makes...</td>\n",
       "      <td>LLaMA incorporates pre-normalization (using R...</td>\n",
       "      <td>The modifications LLaMA makes to the transform...</td>\n",
       "      <td>1.000000</td>\n",
       "      <td>1.0</td>\n",
       "      <td>0.642994</td>\n",
       "    </tr>\n",
       "    <tr>\n",
       "      <th>4</th>\n",
       "      <td>How does LLaMA's approach to embedding layer o...</td>\n",
       "      <td>LLaMA introduces optimizations in its embeddin...</td>\n",
       "      <td>LLaMA's approach to embedding layer optimizati...</td>\n",
       "      <td>1.000000</td>\n",
       "      <td>1.0</td>\n",
       "      <td>0.823751</td>\n",
       "    </tr>\n",
       "    <tr>\n",
       "      <th>5</th>\n",
       "      <td>How were the questions for the multitask test ...</td>\n",
       "      <td>Questions were manually collected by graduate ...</td>\n",
       "      <td>The questions for the multitask test were manu...</td>\n",
       "      <td>1.000000</td>\n",
       "      <td>1.0</td>\n",
       "      <td>0.545473</td>\n",
       "    </tr>\n",
       "    <tr>\n",
       "      <th>6</th>\n",
       "      <td>How does BERT's performance on the GLUE benchm...</td>\n",
       "      <td>BERT achieved new state-of-the-art on the GLUE...</td>\n",
       "      <td>On GLUE, BERT achieved a score of 80.2, which ...</td>\n",
       "      <td>1.000000</td>\n",
       "      <td>1.0</td>\n",
       "      <td>0.742998</td>\n",
       "    </tr>\n",
       "    <tr>\n",
       "      <th>7</th>\n",
       "      <td>What significant improvements does BERT bring ...</td>\n",
       "      <td>BERT set new records on SQuAD v1.1 and v2.0, s...</td>\n",
       "      <td>BERT brings significant improvements to the SQ...</td>\n",
       "      <td>0.857143</td>\n",
       "      <td>1.0</td>\n",
       "      <td>0.698571</td>\n",
       "    </tr>\n",
       "    <tr>\n",
       "      <th>8</th>\n",
       "      <td>What unique aspect of the LLaMA training datas...</td>\n",
       "      <td>LLaMA's training dataset is distinctive for b...</td>\n",
       "      <td>LLaMA training dataset uses publicly available...</td>\n",
       "      <td>1.000000</td>\n",
       "      <td>1.0</td>\n",
       "      <td>0.957776</td>\n",
       "    </tr>\n",
       "    <tr>\n",
       "      <th>9</th>\n",
       "      <td>What detailed methodology does LLaMA utilize t...</td>\n",
       "      <td>LLaMA's methodology for ensuring data diversit...</td>\n",
       "      <td>LLaMA utilizes a detailed methodology to ensur...</td>\n",
       "      <td>1.000000</td>\n",
       "      <td>1.0</td>\n",
       "      <td>0.822498</td>\n",
       "    </tr>\n",
       "  </tbody>\n",
       "</table>\n",
       "</div>"
      ],
      "text/plain": [
       "                                           questions  \\\n",
       "0  What are the two main tasks BERT is pre-traine...   \n",
       "1  What model sizes are reported for BERT, and wh...   \n",
       "2  How does BERT's architecture facilitate the us...   \n",
       "3  Can you describe the modifications LLaMA makes...   \n",
       "4  How does LLaMA's approach to embedding layer o...   \n",
       "5  How were the questions for the multitask test ...   \n",
       "6  How does BERT's performance on the GLUE benchm...   \n",
       "7  What significant improvements does BERT bring ...   \n",
       "8  What unique aspect of the LLaMA training datas...   \n",
       "9  What detailed methodology does LLaMA utilize t...   \n",
       "\n",
       "                                        true_answers  \\\n",
       "0  Masked LM (MLM) and Next Sentence Prediction (...   \n",
       "1  BERTBASE (L=12, H=768, A=12, Total Parameters=...   \n",
       "2  BERT uses a multi-layer bidirectional Transfor...   \n",
       "3   LLaMA incorporates pre-normalization (using R...   \n",
       "4  LLaMA introduces optimizations in its embeddin...   \n",
       "5  Questions were manually collected by graduate ...   \n",
       "6  BERT achieved new state-of-the-art on the GLUE...   \n",
       "7  BERT set new records on SQuAD v1.1 and v2.0, s...   \n",
       "8   LLaMA's training dataset is distinctive for b...   \n",
       "9  LLaMA's methodology for ensuring data diversit...   \n",
       "\n",
       "                                   predicted_answers  context_relevance  \\\n",
       "0          question answering and language inference           1.000000   \n",
       "1  BERT BASE: L=12, H=768, A=12, Total Parameters...           1.000000   \n",
       "2  BERT's architecture features a multi-layer bid...           1.000000   \n",
       "3  The modifications LLaMA makes to the transform...           1.000000   \n",
       "4  LLaMA's approach to embedding layer optimizati...           1.000000   \n",
       "5  The questions for the multitask test were manu...           1.000000   \n",
       "6  On GLUE, BERT achieved a score of 80.2, which ...           1.000000   \n",
       "7  BERT brings significant improvements to the SQ...           0.857143   \n",
       "8  LLaMA training dataset uses publicly available...           1.000000   \n",
       "9  LLaMA utilizes a detailed methodology to ensur...           1.000000   \n",
       "\n",
       "   faithfulness       sas  \n",
       "0           1.0  0.170214  \n",
       "1           1.0  0.715214  \n",
       "2           1.0  0.918214  \n",
       "3           1.0  0.642994  \n",
       "4           1.0  0.823751  \n",
       "5           1.0  0.545473  \n",
       "6           1.0  0.742998  \n",
       "7           1.0  0.698571  \n",
       "8           1.0  0.957776  \n",
       "9           1.0  0.822498  "
      ]
     },
     "execution_count": 37,
     "metadata": {},
     "output_type": "execute_result"
    }
   ],
   "source": [
    "detailed_best_sas_df"
   ]
  },
  {
   "cell_type": "code",
   "execution_count": 38,
   "id": "0e2da651-7843-4dab-bc55-7f51d9965901",
   "metadata": {
    "id": "0e2da651-7843-4dab-bc55-7f51d9965901"
   },
   "outputs": [],
   "source": [
    "def inspect(idx):\n",
    "    print(\"Question: \")\n",
    "    print(detailed_best_sas_df.loc[idx]['questions'])\n",
    "    print(\"\\nTrue Answer:\")\n",
    "    print(detailed_best_sas_df.loc[idx]['true_answers'])\n",
    "    print()\n",
    "    print(\"Generated Answer:\")\n",
    "    print(detailed_best_sas_df.loc[idx]['predicted_answers'])\n",
    "    print()\n",
    "    print(f\"Context Relevance  : {detailed_best_sas_df.loc[idx]['context_relevance']}\")\n",
    "    print(f\"Faithfulness       : {detailed_best_sas_df.loc[idx]['faithfulness']}\")\n",
    "    print(f\"Semantic Similarity: {detailed_best_sas_df.loc[idx]['sas']}\")"
   ]
  },
  {
   "cell_type": "code",
   "execution_count": 39,
   "id": "3d7e17ed-cbce-4dd6-a69d-ad217630fa23",
   "metadata": {
    "id": "3d7e17ed-cbce-4dd6-a69d-ad217630fa23",
    "outputId": "ba0a5d28-c52c-46b2-834b-2e11bbb15732"
   },
   "outputs": [
    {
     "name": "stdout",
     "output_type": "stream",
     "text": [
      "Question: \n",
      "What detailed methodology does LLaMA utilize to ensure the diversity of its pre-training data, particularly in the context of filtering and language identification?\n",
      "\n",
      "True Answer:\n",
      "LLaMA's methodology for ensuring data diversity includes comprehensive filtering criteria to remove low-quality content, language identification to support multilingual capabilities, and a balanced inclusion of various data sources such as Wikipedia, web text, and books, emphasizing the representation of a wide range of topics and languages.\n",
      "\n",
      "Generated Answer:\n",
      "LLaMA utilizes a detailed methodology to ensure the diversity of its pre-training data by ensuring that the training data contains a substantial proportion of diverse, high-quality corpora from various languages and cultures. This is achieved by filtering the training data to include a wide range of languages and cultures, and also by implementing language identification techniques to identify the languages present in the data. This helps to overcome biases and ensure that the model is trained on a diverse set of input data, leading to more inclusive and accurate predictions.\n",
      "\n",
      "Context Relevance  : 1.0\n",
      "Faithfulness       : 1.0\n",
      "Semantic Similarity: 0.822498083114624\n"
     ]
    }
   ],
   "source": [
    "inspect(9)"
   ]
  },
  {
   "cell_type": "code",
   "execution_count": 40,
   "id": "a0406fe9-2ead-4b43-8250-c86c85e51938",
   "metadata": {
    "id": "a0406fe9-2ead-4b43-8250-c86c85e51938",
    "outputId": "0a38921e-735e-43a4-f0fa-0df198f35279"
   },
   "outputs": [
    {
     "name": "stdout",
     "output_type": "stream",
     "text": [
      "Question: \n",
      "What model sizes are reported for BERT, and what are their specifications?\n",
      "\n",
      "True Answer:\n",
      "BERTBASE (L=12, H=768, A=12, Total Parameters=110M) and BERTLARGE (L=24, H=1024, A=16, Total Parameters=340M).\n",
      "\n",
      "Generated Answer:\n",
      "BERT BASE: L=12, H=768, A=12, Total Parameters=110M\n",
      "BERT LARGE: L=24, H=1024, A=16, Total Parameters=340M\n",
      "\n",
      "Context Relevance  : 1.0\n",
      "Faithfulness       : 1.0\n",
      "Semantic Similarity: 0.7152135372161865\n"
     ]
    }
   ],
   "source": [
    "inspect(1)"
   ]
  }
 ],
 "metadata": {
  "accelerator": "GPU",
  "colab": {
   "gpuType": "T4",
   "provenance": []
  },
  "kernelspec": {
   "display_name": "Python 3 (ipykernel)",
   "language": "python",
   "name": "python3"
  },
  "language_info": {
   "codemirror_mode": {
    "name": "ipython",
    "version": 3
   },
   "file_extension": ".py",
   "mimetype": "text/x-python",
   "name": "python",
   "nbconvert_exporter": "python",
   "pygments_lexer": "ipython3",
   "version": "3.9.6"
  },
  "widgets": {
   "application/vnd.jupyter.widget-state+json": {
    "009708c1d74543cbad8053ad8eb55214": {
     "model_module": "@jupyter-widgets/controls",
     "model_module_version": "1.5.0",
     "model_name": "HTMLModel",
     "state": {
      "_dom_classes": [],
      "_model_module": "@jupyter-widgets/controls",
      "_model_module_version": "1.5.0",
      "_model_name": "HTMLModel",
      "_view_count": null,
      "_view_module": "@jupyter-widgets/controls",
      "_view_module_version": "1.5.0",
      "_view_name": "HTMLView",
      "description": "",
      "description_tooltip": null,
      "layout": "IPY_MODEL_f03ed14988744135ab37d2cecf4b2b25",
      "placeholder": "​",
      "style": "IPY_MODEL_b9c7f3efa8bf421087423cac9ec0f0dd",
      "value": "Batches: 100%"
     }
    },
    "01d6f1edd2f94707be9cc827e47405f0": {
     "model_module": "@jupyter-widgets/base",
     "model_module_version": "1.2.0",
     "model_name": "LayoutModel",
     "state": {
      "_model_module": "@jupyter-widgets/base",
      "_model_module_version": "1.2.0",
      "_model_name": "LayoutModel",
      "_view_count": null,
      "_view_module": "@jupyter-widgets/base",
      "_view_module_version": "1.2.0",
      "_view_name": "LayoutView",
      "align_content": null,
      "align_items": null,
      "align_self": null,
      "border": null,
      "bottom": null,
      "display": null,
      "flex": null,
      "flex_flow": null,
      "grid_area": null,
      "grid_auto_columns": null,
      "grid_auto_flow": null,
      "grid_auto_rows": null,
      "grid_column": null,
      "grid_gap": null,
      "grid_row": null,
      "grid_template_areas": null,
      "grid_template_columns": null,
      "grid_template_rows": null,
      "height": null,
      "justify_content": null,
      "justify_items": null,
      "left": null,
      "margin": null,
      "max_height": null,
      "max_width": null,
      "min_height": null,
      "min_width": null,
      "object_fit": null,
      "object_position": null,
      "order": null,
      "overflow": null,
      "overflow_x": null,
      "overflow_y": null,
      "padding": null,
      "right": null,
      "top": null,
      "visibility": null,
      "width": null
     }
    },
    "094dfeabed62460f84a57a0c21620dbc": {
     "model_module": "@jupyter-widgets/base",
     "model_module_version": "1.2.0",
     "model_name": "LayoutModel",
     "state": {
      "_model_module": "@jupyter-widgets/base",
      "_model_module_version": "1.2.0",
      "_model_name": "LayoutModel",
      "_view_count": null,
      "_view_module": "@jupyter-widgets/base",
      "_view_module_version": "1.2.0",
      "_view_name": "LayoutView",
      "align_content": null,
      "align_items": null,
      "align_self": null,
      "border": null,
      "bottom": null,
      "display": null,
      "flex": null,
      "flex_flow": null,
      "grid_area": null,
      "grid_auto_columns": null,
      "grid_auto_flow": null,
      "grid_auto_rows": null,
      "grid_column": null,
      "grid_gap": null,
      "grid_row": null,
      "grid_template_areas": null,
      "grid_template_columns": null,
      "grid_template_rows": null,
      "height": null,
      "justify_content": null,
      "justify_items": null,
      "left": null,
      "margin": null,
      "max_height": null,
      "max_width": null,
      "min_height": null,
      "min_width": null,
      "object_fit": null,
      "object_position": null,
      "order": null,
      "overflow": null,
      "overflow_x": null,
      "overflow_y": null,
      "padding": null,
      "right": null,
      "top": null,
      "visibility": null,
      "width": null
     }
    },
    "095d673d457c4144b5cd86013d745174": {
     "model_module": "@jupyter-widgets/controls",
     "model_module_version": "1.5.0",
     "model_name": "FloatProgressModel",
     "state": {
      "_dom_classes": [],
      "_model_module": "@jupyter-widgets/controls",
      "_model_module_version": "1.5.0",
      "_model_name": "FloatProgressModel",
      "_view_count": null,
      "_view_module": "@jupyter-widgets/controls",
      "_view_module_version": "1.5.0",
      "_view_name": "ProgressView",
      "bar_style": "success",
      "description": "",
      "description_tooltip": null,
      "layout": "IPY_MODEL_853b61df7d9a40eeb0088a098b5ceafb",
      "max": 21,
      "min": 0,
      "orientation": "horizontal",
      "style": "IPY_MODEL_768d10dffb874b83894b1ae17edce6c5",
      "value": 21
     }
    },
    "0a10ef001ffd48c69538f2e9afe3378e": {
     "model_module": "@jupyter-widgets/controls",
     "model_module_version": "1.5.0",
     "model_name": "HBoxModel",
     "state": {
      "_dom_classes": [],
      "_model_module": "@jupyter-widgets/controls",
      "_model_module_version": "1.5.0",
      "_model_name": "HBoxModel",
      "_view_count": null,
      "_view_module": "@jupyter-widgets/controls",
      "_view_module_version": "1.5.0",
      "_view_name": "HBoxView",
      "box_style": "",
      "children": [
       "IPY_MODEL_009708c1d74543cbad8053ad8eb55214",
       "IPY_MODEL_4c2339c18f5f4515bbccaa4ce29fea16",
       "IPY_MODEL_8ea3b859c3dd4a60b0c464b0686cdd28"
      ],
      "layout": "IPY_MODEL_d3173dd939e748d2b833302a66ce0857"
     }
    },
    "0c3aeea866864f259bf77aab92da44b1": {
     "model_module": "@jupyter-widgets/controls",
     "model_module_version": "1.5.0",
     "model_name": "HTMLModel",
     "state": {
      "_dom_classes": [],
      "_model_module": "@jupyter-widgets/controls",
      "_model_module_version": "1.5.0",
      "_model_name": "HTMLModel",
      "_view_count": null,
      "_view_module": "@jupyter-widgets/controls",
      "_view_module_version": "1.5.0",
      "_view_name": "HTMLView",
      "description": "",
      "description_tooltip": null,
      "layout": "IPY_MODEL_51f9dd4ce4db432a952d4c4c2ffaa51a",
      "placeholder": "​",
      "style": "IPY_MODEL_939f870d352a4e708c3ba97606e2919d",
      "value": " 41/41 [00:12&lt;00:00,  3.87it/s]"
     }
    },
    "10cf7bfcf3174e19a5c43c4bbbe33bdf": {
     "model_module": "@jupyter-widgets/controls",
     "model_module_version": "1.5.0",
     "model_name": "ProgressStyleModel",
     "state": {
      "_model_module": "@jupyter-widgets/controls",
      "_model_module_version": "1.5.0",
      "_model_name": "ProgressStyleModel",
      "_view_count": null,
      "_view_module": "@jupyter-widgets/base",
      "_view_module_version": "1.2.0",
      "_view_name": "StyleView",
      "bar_color": null,
      "description_width": ""
     }
    },
    "11f1b1ee01624186a58ea5fda332e2a0": {
     "model_module": "@jupyter-widgets/base",
     "model_module_version": "1.2.0",
     "model_name": "LayoutModel",
     "state": {
      "_model_module": "@jupyter-widgets/base",
      "_model_module_version": "1.2.0",
      "_model_name": "LayoutModel",
      "_view_count": null,
      "_view_module": "@jupyter-widgets/base",
      "_view_module_version": "1.2.0",
      "_view_name": "LayoutView",
      "align_content": null,
      "align_items": null,
      "align_self": null,
      "border": null,
      "bottom": null,
      "display": null,
      "flex": null,
      "flex_flow": null,
      "grid_area": null,
      "grid_auto_columns": null,
      "grid_auto_flow": null,
      "grid_auto_rows": null,
      "grid_column": null,
      "grid_gap": null,
      "grid_row": null,
      "grid_template_areas": null,
      "grid_template_columns": null,
      "grid_template_rows": null,
      "height": null,
      "justify_content": null,
      "justify_items": null,
      "left": null,
      "margin": null,
      "max_height": null,
      "max_width": null,
      "min_height": null,
      "min_width": null,
      "object_fit": null,
      "object_position": null,
      "order": null,
      "overflow": null,
      "overflow_x": null,
      "overflow_y": null,
      "padding": null,
      "right": null,
      "top": null,
      "visibility": null,
      "width": null
     }
    },
    "147d4f1e56bf4e689cccbd35a68e4233": {
     "model_module": "@jupyter-widgets/controls",
     "model_module_version": "1.5.0",
     "model_name": "HBoxModel",
     "state": {
      "_dom_classes": [],
      "_model_module": "@jupyter-widgets/controls",
      "_model_module_version": "1.5.0",
      "_model_name": "HBoxModel",
      "_view_count": null,
      "_view_module": "@jupyter-widgets/controls",
      "_view_module_version": "1.5.0",
      "_view_name": "HBoxView",
      "box_style": "",
      "children": [
       "IPY_MODEL_267c237780974e6cac66d6ea7c0090a8",
       "IPY_MODEL_d883b77c2ddf4882b81ebef5597f1175",
       "IPY_MODEL_8e4a33e030ea49d386c3739d337e93ef"
      ],
      "layout": "IPY_MODEL_89c5c44dc46c41d284c56c0476b3ffd6"
     }
    },
    "15aa37a40e0b4af1bda7fb577e662219": {
     "model_module": "@jupyter-widgets/base",
     "model_module_version": "1.2.0",
     "model_name": "LayoutModel",
     "state": {
      "_model_module": "@jupyter-widgets/base",
      "_model_module_version": "1.2.0",
      "_model_name": "LayoutModel",
      "_view_count": null,
      "_view_module": "@jupyter-widgets/base",
      "_view_module_version": "1.2.0",
      "_view_name": "LayoutView",
      "align_content": null,
      "align_items": null,
      "align_self": null,
      "border": null,
      "bottom": null,
      "display": null,
      "flex": null,
      "flex_flow": null,
      "grid_area": null,
      "grid_auto_columns": null,
      "grid_auto_flow": null,
      "grid_auto_rows": null,
      "grid_column": null,
      "grid_gap": null,
      "grid_row": null,
      "grid_template_areas": null,
      "grid_template_columns": null,
      "grid_template_rows": null,
      "height": null,
      "justify_content": null,
      "justify_items": null,
      "left": null,
      "margin": null,
      "max_height": null,
      "max_width": null,
      "min_height": null,
      "min_width": null,
      "object_fit": null,
      "object_position": null,
      "order": null,
      "overflow": null,
      "overflow_x": null,
      "overflow_y": null,
      "padding": null,
      "right": null,
      "top": null,
      "visibility": null,
      "width": null
     }
    },
    "18628c1ea834421983fd5334a04300b3": {
     "model_module": "@jupyter-widgets/controls",
     "model_module_version": "1.5.0",
     "model_name": "DescriptionStyleModel",
     "state": {
      "_model_module": "@jupyter-widgets/controls",
      "_model_module_version": "1.5.0",
      "_model_name": "DescriptionStyleModel",
      "_view_count": null,
      "_view_module": "@jupyter-widgets/base",
      "_view_module_version": "1.2.0",
      "_view_name": "StyleView",
      "description_width": ""
     }
    },
    "18a44ad356124ae8834cae95c00e2198": {
     "model_module": "@jupyter-widgets/controls",
     "model_module_version": "1.5.0",
     "model_name": "HTMLModel",
     "state": {
      "_dom_classes": [],
      "_model_module": "@jupyter-widgets/controls",
      "_model_module_version": "1.5.0",
      "_model_name": "HTMLModel",
      "_view_count": null,
      "_view_module": "@jupyter-widgets/controls",
      "_view_module_version": "1.5.0",
      "_view_name": "HTMLView",
      "description": "",
      "description_tooltip": null,
      "layout": "IPY_MODEL_11f1b1ee01624186a58ea5fda332e2a0",
      "placeholder": "​",
      "style": "IPY_MODEL_374662c16c8e4668bd0abb0916b300c1",
      "value": "Batches: 100%"
     }
    },
    "1a0cc0f2101e4f3e93e652e9f85beaea": {
     "model_module": "@jupyter-widgets/controls",
     "model_module_version": "1.5.0",
     "model_name": "DescriptionStyleModel",
     "state": {
      "_model_module": "@jupyter-widgets/controls",
      "_model_module_version": "1.5.0",
      "_model_name": "DescriptionStyleModel",
      "_view_count": null,
      "_view_module": "@jupyter-widgets/base",
      "_view_module_version": "1.2.0",
      "_view_name": "StyleView",
      "description_width": ""
     }
    },
    "1f01d6cc90654147b5a6e960aa11234c": {
     "model_module": "@jupyter-widgets/controls",
     "model_module_version": "1.5.0",
     "model_name": "HTMLModel",
     "state": {
      "_dom_classes": [],
      "_model_module": "@jupyter-widgets/controls",
      "_model_module_version": "1.5.0",
      "_model_name": "HTMLModel",
      "_view_count": null,
      "_view_module": "@jupyter-widgets/controls",
      "_view_module_version": "1.5.0",
      "_view_name": "HTMLView",
      "description": "",
      "description_tooltip": null,
      "layout": "IPY_MODEL_eb8a629b9d18417b91d626d71aa6576b",
      "placeholder": "​",
      "style": "IPY_MODEL_5fa60a48f29c42b788757c90d0362df8",
      "value": "Batches: 100%"
     }
    },
    "22224594bb8f4c2c81f863141935edbe": {
     "model_module": "@jupyter-widgets/controls",
     "model_module_version": "1.5.0",
     "model_name": "ProgressStyleModel",
     "state": {
      "_model_module": "@jupyter-widgets/controls",
      "_model_module_version": "1.5.0",
      "_model_name": "ProgressStyleModel",
      "_view_count": null,
      "_view_module": "@jupyter-widgets/base",
      "_view_module_version": "1.2.0",
      "_view_name": "StyleView",
      "bar_color": null,
      "description_width": ""
     }
    },
    "257c6b0daa964d2a9cc818082f93d48a": {
     "model_module": "@jupyter-widgets/controls",
     "model_module_version": "1.5.0",
     "model_name": "HBoxModel",
     "state": {
      "_dom_classes": [],
      "_model_module": "@jupyter-widgets/controls",
      "_model_module_version": "1.5.0",
      "_model_name": "HBoxModel",
      "_view_count": null,
      "_view_module": "@jupyter-widgets/controls",
      "_view_module_version": "1.5.0",
      "_view_name": "HBoxView",
      "box_style": "",
      "children": [
       "IPY_MODEL_9d1150ca64d4486bb139b2a3479a1244",
       "IPY_MODEL_095d673d457c4144b5cd86013d745174",
       "IPY_MODEL_a4ffe598e1e14ed5bdb4a75cccdd7aa0"
      ],
      "layout": "IPY_MODEL_ca9d236d2e104e0f84b0ea5c0d00fb27"
     }
    },
    "25e32ffacaa94c1fbffd5a5a655ab5bd": {
     "model_module": "@jupyter-widgets/base",
     "model_module_version": "1.2.0",
     "model_name": "LayoutModel",
     "state": {
      "_model_module": "@jupyter-widgets/base",
      "_model_module_version": "1.2.0",
      "_model_name": "LayoutModel",
      "_view_count": null,
      "_view_module": "@jupyter-widgets/base",
      "_view_module_version": "1.2.0",
      "_view_name": "LayoutView",
      "align_content": null,
      "align_items": null,
      "align_self": null,
      "border": null,
      "bottom": null,
      "display": null,
      "flex": null,
      "flex_flow": null,
      "grid_area": null,
      "grid_auto_columns": null,
      "grid_auto_flow": null,
      "grid_auto_rows": null,
      "grid_column": null,
      "grid_gap": null,
      "grid_row": null,
      "grid_template_areas": null,
      "grid_template_columns": null,
      "grid_template_rows": null,
      "height": null,
      "justify_content": null,
      "justify_items": null,
      "left": null,
      "margin": null,
      "max_height": null,
      "max_width": null,
      "min_height": null,
      "min_width": null,
      "object_fit": null,
      "object_position": null,
      "order": null,
      "overflow": null,
      "overflow_x": null,
      "overflow_y": null,
      "padding": null,
      "right": null,
      "top": null,
      "visibility": null,
      "width": null
     }
    },
    "267c237780974e6cac66d6ea7c0090a8": {
     "model_module": "@jupyter-widgets/controls",
     "model_module_version": "1.5.0",
     "model_name": "HTMLModel",
     "state": {
      "_dom_classes": [],
      "_model_module": "@jupyter-widgets/controls",
      "_model_module_version": "1.5.0",
      "_model_name": "HTMLModel",
      "_view_count": null,
      "_view_module": "@jupyter-widgets/controls",
      "_view_module_version": "1.5.0",
      "_view_name": "HTMLView",
      "description": "",
      "description_tooltip": null,
      "layout": "IPY_MODEL_a52e125685db44e6b1a69002affa2cd5",
      "placeholder": "​",
      "style": "IPY_MODEL_a37819606a9940d6993d755579769d28",
      "value": "Batches: 100%"
     }
    },
    "2de3cb545d414e44b846ed7785d29437": {
     "model_module": "@jupyter-widgets/controls",
     "model_module_version": "1.5.0",
     "model_name": "DescriptionStyleModel",
     "state": {
      "_model_module": "@jupyter-widgets/controls",
      "_model_module_version": "1.5.0",
      "_model_name": "DescriptionStyleModel",
      "_view_count": null,
      "_view_module": "@jupyter-widgets/base",
      "_view_module_version": "1.2.0",
      "_view_name": "StyleView",
      "description_width": ""
     }
    },
    "2f371b5b3e294c7b97e2ca5bed64af69": {
     "model_module": "@jupyter-widgets/controls",
     "model_module_version": "1.5.0",
     "model_name": "DescriptionStyleModel",
     "state": {
      "_model_module": "@jupyter-widgets/controls",
      "_model_module_version": "1.5.0",
      "_model_name": "DescriptionStyleModel",
      "_view_count": null,
      "_view_module": "@jupyter-widgets/base",
      "_view_module_version": "1.2.0",
      "_view_name": "StyleView",
      "description_width": ""
     }
    },
    "3337e3d7eb2a4a56bf38b47ecd149589": {
     "model_module": "@jupyter-widgets/controls",
     "model_module_version": "1.5.0",
     "model_name": "DescriptionStyleModel",
     "state": {
      "_model_module": "@jupyter-widgets/controls",
      "_model_module_version": "1.5.0",
      "_model_name": "DescriptionStyleModel",
      "_view_count": null,
      "_view_module": "@jupyter-widgets/base",
      "_view_module_version": "1.2.0",
      "_view_name": "StyleView",
      "description_width": ""
     }
    },
    "364c3dcef653431a9b93864908dfff93": {
     "model_module": "@jupyter-widgets/base",
     "model_module_version": "1.2.0",
     "model_name": "LayoutModel",
     "state": {
      "_model_module": "@jupyter-widgets/base",
      "_model_module_version": "1.2.0",
      "_model_name": "LayoutModel",
      "_view_count": null,
      "_view_module": "@jupyter-widgets/base",
      "_view_module_version": "1.2.0",
      "_view_name": "LayoutView",
      "align_content": null,
      "align_items": null,
      "align_self": null,
      "border": null,
      "bottom": null,
      "display": null,
      "flex": null,
      "flex_flow": null,
      "grid_area": null,
      "grid_auto_columns": null,
      "grid_auto_flow": null,
      "grid_auto_rows": null,
      "grid_column": null,
      "grid_gap": null,
      "grid_row": null,
      "grid_template_areas": null,
      "grid_template_columns": null,
      "grid_template_rows": null,
      "height": null,
      "justify_content": null,
      "justify_items": null,
      "left": null,
      "margin": null,
      "max_height": null,
      "max_width": null,
      "min_height": null,
      "min_width": null,
      "object_fit": null,
      "object_position": null,
      "order": null,
      "overflow": null,
      "overflow_x": null,
      "overflow_y": null,
      "padding": null,
      "right": null,
      "top": null,
      "visibility": null,
      "width": null
     }
    },
    "374662c16c8e4668bd0abb0916b300c1": {
     "model_module": "@jupyter-widgets/controls",
     "model_module_version": "1.5.0",
     "model_name": "DescriptionStyleModel",
     "state": {
      "_model_module": "@jupyter-widgets/controls",
      "_model_module_version": "1.5.0",
      "_model_name": "DescriptionStyleModel",
      "_view_count": null,
      "_view_module": "@jupyter-widgets/base",
      "_view_module_version": "1.2.0",
      "_view_name": "StyleView",
      "description_width": ""
     }
    },
    "3a18b08ff7de4db1947203a78ee668eb": {
     "model_module": "@jupyter-widgets/controls",
     "model_module_version": "1.5.0",
     "model_name": "HBoxModel",
     "state": {
      "_dom_classes": [],
      "_model_module": "@jupyter-widgets/controls",
      "_model_module_version": "1.5.0",
      "_model_name": "HBoxModel",
      "_view_count": null,
      "_view_module": "@jupyter-widgets/controls",
      "_view_module_version": "1.5.0",
      "_view_name": "HBoxView",
      "box_style": "",
      "children": [
       "IPY_MODEL_fe85d7a35e9141d29cc1ae2b7b87bf56",
       "IPY_MODEL_ac12923fbfd54d16a7279869a147a224",
       "IPY_MODEL_d4a03c53d0df4dc58549f33b47c80465"
      ],
      "layout": "IPY_MODEL_baebe39257b14050bf3f71bcd78f24dc"
     }
    },
    "3abca720fbf045cb87624fe9b57e9938": {
     "model_module": "@jupyter-widgets/controls",
     "model_module_version": "1.5.0",
     "model_name": "HBoxModel",
     "state": {
      "_dom_classes": [],
      "_model_module": "@jupyter-widgets/controls",
      "_model_module_version": "1.5.0",
      "_model_name": "HBoxModel",
      "_view_count": null,
      "_view_module": "@jupyter-widgets/controls",
      "_view_module_version": "1.5.0",
      "_view_name": "HBoxView",
      "box_style": "",
      "children": [
       "IPY_MODEL_c64a4d7a1cc045f7bd52faa71c62e877",
       "IPY_MODEL_65046aef16484008ae7cb49fcb1600d7",
       "IPY_MODEL_c02482682b28491087a08a1f3e4d59c6"
      ],
      "layout": "IPY_MODEL_ef3c66df23c040bd806ab0ae5a454a6f"
     }
    },
    "3b5071a1f04b4eff96f6b8be799bea09": {
     "model_module": "@jupyter-widgets/base",
     "model_module_version": "1.2.0",
     "model_name": "LayoutModel",
     "state": {
      "_model_module": "@jupyter-widgets/base",
      "_model_module_version": "1.2.0",
      "_model_name": "LayoutModel",
      "_view_count": null,
      "_view_module": "@jupyter-widgets/base",
      "_view_module_version": "1.2.0",
      "_view_name": "LayoutView",
      "align_content": null,
      "align_items": null,
      "align_self": null,
      "border": null,
      "bottom": null,
      "display": null,
      "flex": null,
      "flex_flow": null,
      "grid_area": null,
      "grid_auto_columns": null,
      "grid_auto_flow": null,
      "grid_auto_rows": null,
      "grid_column": null,
      "grid_gap": null,
      "grid_row": null,
      "grid_template_areas": null,
      "grid_template_columns": null,
      "grid_template_rows": null,
      "height": null,
      "justify_content": null,
      "justify_items": null,
      "left": null,
      "margin": null,
      "max_height": null,
      "max_width": null,
      "min_height": null,
      "min_width": null,
      "object_fit": null,
      "object_position": null,
      "order": null,
      "overflow": null,
      "overflow_x": null,
      "overflow_y": null,
      "padding": null,
      "right": null,
      "top": null,
      "visibility": null,
      "width": null
     }
    },
    "41f93af555644e7e8e8e1bc731e50cfc": {
     "model_module": "@jupyter-widgets/base",
     "model_module_version": "1.2.0",
     "model_name": "LayoutModel",
     "state": {
      "_model_module": "@jupyter-widgets/base",
      "_model_module_version": "1.2.0",
      "_model_name": "LayoutModel",
      "_view_count": null,
      "_view_module": "@jupyter-widgets/base",
      "_view_module_version": "1.2.0",
      "_view_name": "LayoutView",
      "align_content": null,
      "align_items": null,
      "align_self": null,
      "border": null,
      "bottom": null,
      "display": null,
      "flex": null,
      "flex_flow": null,
      "grid_area": null,
      "grid_auto_columns": null,
      "grid_auto_flow": null,
      "grid_auto_rows": null,
      "grid_column": null,
      "grid_gap": null,
      "grid_row": null,
      "grid_template_areas": null,
      "grid_template_columns": null,
      "grid_template_rows": null,
      "height": null,
      "justify_content": null,
      "justify_items": null,
      "left": null,
      "margin": null,
      "max_height": null,
      "max_width": null,
      "min_height": null,
      "min_width": null,
      "object_fit": null,
      "object_position": null,
      "order": null,
      "overflow": null,
      "overflow_x": null,
      "overflow_y": null,
      "padding": null,
      "right": null,
      "top": null,
      "visibility": null,
      "width": null
     }
    },
    "46796736eb784578a44d76af4991597f": {
     "model_module": "@jupyter-widgets/controls",
     "model_module_version": "1.5.0",
     "model_name": "HBoxModel",
     "state": {
      "_dom_classes": [],
      "_model_module": "@jupyter-widgets/controls",
      "_model_module_version": "1.5.0",
      "_model_name": "HBoxModel",
      "_view_count": null,
      "_view_module": "@jupyter-widgets/controls",
      "_view_module_version": "1.5.0",
      "_view_name": "HBoxView",
      "box_style": "",
      "children": [
       "IPY_MODEL_18a44ad356124ae8834cae95c00e2198",
       "IPY_MODEL_aa789ccaac1c4ae6b434d09aa9552d16",
       "IPY_MODEL_94896ce46bae4c4199b0d1417520587e"
      ],
      "layout": "IPY_MODEL_fb01c74fc2b14aba8bdbbf11776368ff"
     }
    },
    "49f68d18718e46ee87388a313caf87c3": {
     "model_module": "@jupyter-widgets/controls",
     "model_module_version": "1.5.0",
     "model_name": "FloatProgressModel",
     "state": {
      "_dom_classes": [],
      "_model_module": "@jupyter-widgets/controls",
      "_model_module_version": "1.5.0",
      "_model_name": "FloatProgressModel",
      "_view_count": null,
      "_view_module": "@jupyter-widgets/controls",
      "_view_module_version": "1.5.0",
      "_view_name": "ProgressView",
      "bar_style": "success",
      "description": "",
      "description_tooltip": null,
      "layout": "IPY_MODEL_acc48b3440c04b05b7a2af353229f84f",
      "max": 41,
      "min": 0,
      "orientation": "horizontal",
      "style": "IPY_MODEL_a6b0ac40a7e34e868857d2d5282b7a65",
      "value": 41
     }
    },
    "4a752af52bba452b85c05f2a7725d3fd": {
     "model_module": "@jupyter-widgets/base",
     "model_module_version": "1.2.0",
     "model_name": "LayoutModel",
     "state": {
      "_model_module": "@jupyter-widgets/base",
      "_model_module_version": "1.2.0",
      "_model_name": "LayoutModel",
      "_view_count": null,
      "_view_module": "@jupyter-widgets/base",
      "_view_module_version": "1.2.0",
      "_view_name": "LayoutView",
      "align_content": null,
      "align_items": null,
      "align_self": null,
      "border": null,
      "bottom": null,
      "display": null,
      "flex": null,
      "flex_flow": null,
      "grid_area": null,
      "grid_auto_columns": null,
      "grid_auto_flow": null,
      "grid_auto_rows": null,
      "grid_column": null,
      "grid_gap": null,
      "grid_row": null,
      "grid_template_areas": null,
      "grid_template_columns": null,
      "grid_template_rows": null,
      "height": null,
      "justify_content": null,
      "justify_items": null,
      "left": null,
      "margin": null,
      "max_height": null,
      "max_width": null,
      "min_height": null,
      "min_width": null,
      "object_fit": null,
      "object_position": null,
      "order": null,
      "overflow": null,
      "overflow_x": null,
      "overflow_y": null,
      "padding": null,
      "right": null,
      "top": null,
      "visibility": null,
      "width": null
     }
    },
    "4c2339c18f5f4515bbccaa4ce29fea16": {
     "model_module": "@jupyter-widgets/controls",
     "model_module_version": "1.5.0",
     "model_name": "FloatProgressModel",
     "state": {
      "_dom_classes": [],
      "_model_module": "@jupyter-widgets/controls",
      "_model_module_version": "1.5.0",
      "_model_name": "FloatProgressModel",
      "_view_count": null,
      "_view_module": "@jupyter-widgets/controls",
      "_view_module_version": "1.5.0",
      "_view_name": "ProgressView",
      "bar_style": "success",
      "description": "",
      "description_tooltip": null,
      "layout": "IPY_MODEL_a4c9114ba4f840a8b544c1202029256e",
      "max": 82,
      "min": 0,
      "orientation": "horizontal",
      "style": "IPY_MODEL_acf7b7296c39460ebf7e4c48b836eab6",
      "value": 82
     }
    },
    "51f9dd4ce4db432a952d4c4c2ffaa51a": {
     "model_module": "@jupyter-widgets/base",
     "model_module_version": "1.2.0",
     "model_name": "LayoutModel",
     "state": {
      "_model_module": "@jupyter-widgets/base",
      "_model_module_version": "1.2.0",
      "_model_name": "LayoutModel",
      "_view_count": null,
      "_view_module": "@jupyter-widgets/base",
      "_view_module_version": "1.2.0",
      "_view_name": "LayoutView",
      "align_content": null,
      "align_items": null,
      "align_self": null,
      "border": null,
      "bottom": null,
      "display": null,
      "flex": null,
      "flex_flow": null,
      "grid_area": null,
      "grid_auto_columns": null,
      "grid_auto_flow": null,
      "grid_auto_rows": null,
      "grid_column": null,
      "grid_gap": null,
      "grid_row": null,
      "grid_template_areas": null,
      "grid_template_columns": null,
      "grid_template_rows": null,
      "height": null,
      "justify_content": null,
      "justify_items": null,
      "left": null,
      "margin": null,
      "max_height": null,
      "max_width": null,
      "min_height": null,
      "min_width": null,
      "object_fit": null,
      "object_position": null,
      "order": null,
      "overflow": null,
      "overflow_x": null,
      "overflow_y": null,
      "padding": null,
      "right": null,
      "top": null,
      "visibility": null,
      "width": null
     }
    },
    "5a71b96de36144b6925ef96ac7c6d9cc": {
     "model_module": "@jupyter-widgets/controls",
     "model_module_version": "1.5.0",
     "model_name": "ProgressStyleModel",
     "state": {
      "_model_module": "@jupyter-widgets/controls",
      "_model_module_version": "1.5.0",
      "_model_name": "ProgressStyleModel",
      "_view_count": null,
      "_view_module": "@jupyter-widgets/base",
      "_view_module_version": "1.2.0",
      "_view_name": "StyleView",
      "bar_color": null,
      "description_width": ""
     }
    },
    "5ac8bdb0938e4ae2b9dd1790b3f2c26f": {
     "model_module": "@jupyter-widgets/controls",
     "model_module_version": "1.5.0",
     "model_name": "HTMLModel",
     "state": {
      "_dom_classes": [],
      "_model_module": "@jupyter-widgets/controls",
      "_model_module_version": "1.5.0",
      "_model_name": "HTMLModel",
      "_view_count": null,
      "_view_module": "@jupyter-widgets/controls",
      "_view_module_version": "1.5.0",
      "_view_name": "HTMLView",
      "description": "",
      "description_tooltip": null,
      "layout": "IPY_MODEL_df0614acfbf948cb8eddf78d5013062d",
      "placeholder": "​",
      "style": "IPY_MODEL_d4507dc1dc394f49abc13dad17fb0df0",
      "value": "Batches: 100%"
     }
    },
    "5cf2eef452f040cd90c05e096a00f657": {
     "model_module": "@jupyter-widgets/controls",
     "model_module_version": "1.5.0",
     "model_name": "HBoxModel",
     "state": {
      "_dom_classes": [],
      "_model_module": "@jupyter-widgets/controls",
      "_model_module_version": "1.5.0",
      "_model_name": "HBoxModel",
      "_view_count": null,
      "_view_module": "@jupyter-widgets/controls",
      "_view_module_version": "1.5.0",
      "_view_name": "HBoxView",
      "box_style": "",
      "children": [
       "IPY_MODEL_994eb100d21c4fdb867e7c2628ed794b",
       "IPY_MODEL_49f68d18718e46ee87388a313caf87c3",
       "IPY_MODEL_0c3aeea866864f259bf77aab92da44b1"
      ],
      "layout": "IPY_MODEL_85c0ccc3f5fa455ca1122cd8d950c2f2"
     }
    },
    "5fa60a48f29c42b788757c90d0362df8": {
     "model_module": "@jupyter-widgets/controls",
     "model_module_version": "1.5.0",
     "model_name": "DescriptionStyleModel",
     "state": {
      "_model_module": "@jupyter-widgets/controls",
      "_model_module_version": "1.5.0",
      "_model_name": "DescriptionStyleModel",
      "_view_count": null,
      "_view_module": "@jupyter-widgets/base",
      "_view_module_version": "1.2.0",
      "_view_name": "StyleView",
      "description_width": ""
     }
    },
    "636d6088a7ed468791205cf0bd313096": {
     "model_module": "@jupyter-widgets/controls",
     "model_module_version": "1.5.0",
     "model_name": "HBoxModel",
     "state": {
      "_dom_classes": [],
      "_model_module": "@jupyter-widgets/controls",
      "_model_module_version": "1.5.0",
      "_model_name": "HBoxModel",
      "_view_count": null,
      "_view_module": "@jupyter-widgets/controls",
      "_view_module_version": "1.5.0",
      "_view_name": "HBoxView",
      "box_style": "",
      "children": [
       "IPY_MODEL_1f01d6cc90654147b5a6e960aa11234c",
       "IPY_MODEL_dd8590b1d3114d79bb8c5f593429391f",
       "IPY_MODEL_8f74df524b13404987fb05f3781bea68"
      ],
      "layout": "IPY_MODEL_983a0430afc44f489ca6a694faf4e304"
     }
    },
    "65046aef16484008ae7cb49fcb1600d7": {
     "model_module": "@jupyter-widgets/controls",
     "model_module_version": "1.5.0",
     "model_name": "FloatProgressModel",
     "state": {
      "_dom_classes": [],
      "_model_module": "@jupyter-widgets/controls",
      "_model_module_version": "1.5.0",
      "_model_name": "FloatProgressModel",
      "_view_count": null,
      "_view_module": "@jupyter-widgets/controls",
      "_view_module_version": "1.5.0",
      "_view_name": "ProgressView",
      "bar_style": "success",
      "description": "",
      "description_tooltip": null,
      "layout": "IPY_MODEL_6d525a59a7464ff0ae0a6223b798b046",
      "max": 21,
      "min": 0,
      "orientation": "horizontal",
      "style": "IPY_MODEL_5a71b96de36144b6925ef96ac7c6d9cc",
      "value": 21
     }
    },
    "66ca59a9be2c4b1c9c1ab0691c9d4868": {
     "model_module": "@jupyter-widgets/base",
     "model_module_version": "1.2.0",
     "model_name": "LayoutModel",
     "state": {
      "_model_module": "@jupyter-widgets/base",
      "_model_module_version": "1.2.0",
      "_model_name": "LayoutModel",
      "_view_count": null,
      "_view_module": "@jupyter-widgets/base",
      "_view_module_version": "1.2.0",
      "_view_name": "LayoutView",
      "align_content": null,
      "align_items": null,
      "align_self": null,
      "border": null,
      "bottom": null,
      "display": null,
      "flex": null,
      "flex_flow": null,
      "grid_area": null,
      "grid_auto_columns": null,
      "grid_auto_flow": null,
      "grid_auto_rows": null,
      "grid_column": null,
      "grid_gap": null,
      "grid_row": null,
      "grid_template_areas": null,
      "grid_template_columns": null,
      "grid_template_rows": null,
      "height": null,
      "justify_content": null,
      "justify_items": null,
      "left": null,
      "margin": null,
      "max_height": null,
      "max_width": null,
      "min_height": null,
      "min_width": null,
      "object_fit": null,
      "object_position": null,
      "order": null,
      "overflow": null,
      "overflow_x": null,
      "overflow_y": null,
      "padding": null,
      "right": null,
      "top": null,
      "visibility": null,
      "width": null
     }
    },
    "687e86b0be2c4f8f85e16edd92354930": {
     "model_module": "@jupyter-widgets/controls",
     "model_module_version": "1.5.0",
     "model_name": "DescriptionStyleModel",
     "state": {
      "_model_module": "@jupyter-widgets/controls",
      "_model_module_version": "1.5.0",
      "_model_name": "DescriptionStyleModel",
      "_view_count": null,
      "_view_module": "@jupyter-widgets/base",
      "_view_module_version": "1.2.0",
      "_view_name": "StyleView",
      "description_width": ""
     }
    },
    "6d525a59a7464ff0ae0a6223b798b046": {
     "model_module": "@jupyter-widgets/base",
     "model_module_version": "1.2.0",
     "model_name": "LayoutModel",
     "state": {
      "_model_module": "@jupyter-widgets/base",
      "_model_module_version": "1.2.0",
      "_model_name": "LayoutModel",
      "_view_count": null,
      "_view_module": "@jupyter-widgets/base",
      "_view_module_version": "1.2.0",
      "_view_name": "LayoutView",
      "align_content": null,
      "align_items": null,
      "align_self": null,
      "border": null,
      "bottom": null,
      "display": null,
      "flex": null,
      "flex_flow": null,
      "grid_area": null,
      "grid_auto_columns": null,
      "grid_auto_flow": null,
      "grid_auto_rows": null,
      "grid_column": null,
      "grid_gap": null,
      "grid_row": null,
      "grid_template_areas": null,
      "grid_template_columns": null,
      "grid_template_rows": null,
      "height": null,
      "justify_content": null,
      "justify_items": null,
      "left": null,
      "margin": null,
      "max_height": null,
      "max_width": null,
      "min_height": null,
      "min_width": null,
      "object_fit": null,
      "object_position": null,
      "order": null,
      "overflow": null,
      "overflow_x": null,
      "overflow_y": null,
      "padding": null,
      "right": null,
      "top": null,
      "visibility": null,
      "width": null
     }
    },
    "6f52c9b25b0f459588d8569721d044a6": {
     "model_module": "@jupyter-widgets/controls",
     "model_module_version": "1.5.0",
     "model_name": "HTMLModel",
     "state": {
      "_dom_classes": [],
      "_model_module": "@jupyter-widgets/controls",
      "_model_module_version": "1.5.0",
      "_model_name": "HTMLModel",
      "_view_count": null,
      "_view_module": "@jupyter-widgets/controls",
      "_view_module_version": "1.5.0",
      "_view_name": "HTMLView",
      "description": "",
      "description_tooltip": null,
      "layout": "IPY_MODEL_3b5071a1f04b4eff96f6b8be799bea09",
      "placeholder": "​",
      "style": "IPY_MODEL_18628c1ea834421983fd5334a04300b3",
      "value": " 82/82 [00:14&lt;00:00,  8.28it/s]"
     }
    },
    "768d10dffb874b83894b1ae17edce6c5": {
     "model_module": "@jupyter-widgets/controls",
     "model_module_version": "1.5.0",
     "model_name": "ProgressStyleModel",
     "state": {
      "_model_module": "@jupyter-widgets/controls",
      "_model_module_version": "1.5.0",
      "_model_name": "ProgressStyleModel",
      "_view_count": null,
      "_view_module": "@jupyter-widgets/base",
      "_view_module_version": "1.2.0",
      "_view_name": "StyleView",
      "bar_color": null,
      "description_width": ""
     }
    },
    "7ccc57691d594790ae77044760faf724": {
     "model_module": "@jupyter-widgets/controls",
     "model_module_version": "1.5.0",
     "model_name": "ProgressStyleModel",
     "state": {
      "_model_module": "@jupyter-widgets/controls",
      "_model_module_version": "1.5.0",
      "_model_name": "ProgressStyleModel",
      "_view_count": null,
      "_view_module": "@jupyter-widgets/base",
      "_view_module_version": "1.2.0",
      "_view_name": "StyleView",
      "bar_color": null,
      "description_width": ""
     }
    },
    "853b61df7d9a40eeb0088a098b5ceafb": {
     "model_module": "@jupyter-widgets/base",
     "model_module_version": "1.2.0",
     "model_name": "LayoutModel",
     "state": {
      "_model_module": "@jupyter-widgets/base",
      "_model_module_version": "1.2.0",
      "_model_name": "LayoutModel",
      "_view_count": null,
      "_view_module": "@jupyter-widgets/base",
      "_view_module_version": "1.2.0",
      "_view_name": "LayoutView",
      "align_content": null,
      "align_items": null,
      "align_self": null,
      "border": null,
      "bottom": null,
      "display": null,
      "flex": null,
      "flex_flow": null,
      "grid_area": null,
      "grid_auto_columns": null,
      "grid_auto_flow": null,
      "grid_auto_rows": null,
      "grid_column": null,
      "grid_gap": null,
      "grid_row": null,
      "grid_template_areas": null,
      "grid_template_columns": null,
      "grid_template_rows": null,
      "height": null,
      "justify_content": null,
      "justify_items": null,
      "left": null,
      "margin": null,
      "max_height": null,
      "max_width": null,
      "min_height": null,
      "min_width": null,
      "object_fit": null,
      "object_position": null,
      "order": null,
      "overflow": null,
      "overflow_x": null,
      "overflow_y": null,
      "padding": null,
      "right": null,
      "top": null,
      "visibility": null,
      "width": null
     }
    },
    "85c0ccc3f5fa455ca1122cd8d950c2f2": {
     "model_module": "@jupyter-widgets/base",
     "model_module_version": "1.2.0",
     "model_name": "LayoutModel",
     "state": {
      "_model_module": "@jupyter-widgets/base",
      "_model_module_version": "1.2.0",
      "_model_name": "LayoutModel",
      "_view_count": null,
      "_view_module": "@jupyter-widgets/base",
      "_view_module_version": "1.2.0",
      "_view_name": "LayoutView",
      "align_content": null,
      "align_items": null,
      "align_self": null,
      "border": null,
      "bottom": null,
      "display": null,
      "flex": null,
      "flex_flow": null,
      "grid_area": null,
      "grid_auto_columns": null,
      "grid_auto_flow": null,
      "grid_auto_rows": null,
      "grid_column": null,
      "grid_gap": null,
      "grid_row": null,
      "grid_template_areas": null,
      "grid_template_columns": null,
      "grid_template_rows": null,
      "height": null,
      "justify_content": null,
      "justify_items": null,
      "left": null,
      "margin": null,
      "max_height": null,
      "max_width": null,
      "min_height": null,
      "min_width": null,
      "object_fit": null,
      "object_position": null,
      "order": null,
      "overflow": null,
      "overflow_x": null,
      "overflow_y": null,
      "padding": null,
      "right": null,
      "top": null,
      "visibility": null,
      "width": null
     }
    },
    "87eff0f760cb409e9a685518177071f1": {
     "model_module": "@jupyter-widgets/controls",
     "model_module_version": "1.5.0",
     "model_name": "DescriptionStyleModel",
     "state": {
      "_model_module": "@jupyter-widgets/controls",
      "_model_module_version": "1.5.0",
      "_model_name": "DescriptionStyleModel",
      "_view_count": null,
      "_view_module": "@jupyter-widgets/base",
      "_view_module_version": "1.2.0",
      "_view_name": "StyleView",
      "description_width": ""
     }
    },
    "87f818ef9c52425ba72763285283759f": {
     "model_module": "@jupyter-widgets/base",
     "model_module_version": "1.2.0",
     "model_name": "LayoutModel",
     "state": {
      "_model_module": "@jupyter-widgets/base",
      "_model_module_version": "1.2.0",
      "_model_name": "LayoutModel",
      "_view_count": null,
      "_view_module": "@jupyter-widgets/base",
      "_view_module_version": "1.2.0",
      "_view_name": "LayoutView",
      "align_content": null,
      "align_items": null,
      "align_self": null,
      "border": null,
      "bottom": null,
      "display": null,
      "flex": null,
      "flex_flow": null,
      "grid_area": null,
      "grid_auto_columns": null,
      "grid_auto_flow": null,
      "grid_auto_rows": null,
      "grid_column": null,
      "grid_gap": null,
      "grid_row": null,
      "grid_template_areas": null,
      "grid_template_columns": null,
      "grid_template_rows": null,
      "height": null,
      "justify_content": null,
      "justify_items": null,
      "left": null,
      "margin": null,
      "max_height": null,
      "max_width": null,
      "min_height": null,
      "min_width": null,
      "object_fit": null,
      "object_position": null,
      "order": null,
      "overflow": null,
      "overflow_x": null,
      "overflow_y": null,
      "padding": null,
      "right": null,
      "top": null,
      "visibility": null,
      "width": null
     }
    },
    "89c5c44dc46c41d284c56c0476b3ffd6": {
     "model_module": "@jupyter-widgets/base",
     "model_module_version": "1.2.0",
     "model_name": "LayoutModel",
     "state": {
      "_model_module": "@jupyter-widgets/base",
      "_model_module_version": "1.2.0",
      "_model_name": "LayoutModel",
      "_view_count": null,
      "_view_module": "@jupyter-widgets/base",
      "_view_module_version": "1.2.0",
      "_view_name": "LayoutView",
      "align_content": null,
      "align_items": null,
      "align_self": null,
      "border": null,
      "bottom": null,
      "display": null,
      "flex": null,
      "flex_flow": null,
      "grid_area": null,
      "grid_auto_columns": null,
      "grid_auto_flow": null,
      "grid_auto_rows": null,
      "grid_column": null,
      "grid_gap": null,
      "grid_row": null,
      "grid_template_areas": null,
      "grid_template_columns": null,
      "grid_template_rows": null,
      "height": null,
      "justify_content": null,
      "justify_items": null,
      "left": null,
      "margin": null,
      "max_height": null,
      "max_width": null,
      "min_height": null,
      "min_width": null,
      "object_fit": null,
      "object_position": null,
      "order": null,
      "overflow": null,
      "overflow_x": null,
      "overflow_y": null,
      "padding": null,
      "right": null,
      "top": null,
      "visibility": null,
      "width": null
     }
    },
    "8d77d2c503c54a3c8486b6ed5d3d40ce": {
     "model_module": "@jupyter-widgets/controls",
     "model_module_version": "1.5.0",
     "model_name": "HBoxModel",
     "state": {
      "_dom_classes": [],
      "_model_module": "@jupyter-widgets/controls",
      "_model_module_version": "1.5.0",
      "_model_name": "HBoxModel",
      "_view_count": null,
      "_view_module": "@jupyter-widgets/controls",
      "_view_module_version": "1.5.0",
      "_view_name": "HBoxView",
      "box_style": "",
      "children": [
       "IPY_MODEL_5ac8bdb0938e4ae2b9dd1790b3f2c26f",
       "IPY_MODEL_ab1c24afdd8849f8a9c1ed5c026cfce5",
       "IPY_MODEL_6f52c9b25b0f459588d8569721d044a6"
      ],
      "layout": "IPY_MODEL_90887224021947dfa09ea5de9d76822f"
     }
    },
    "8e4a33e030ea49d386c3739d337e93ef": {
     "model_module": "@jupyter-widgets/controls",
     "model_module_version": "1.5.0",
     "model_name": "HTMLModel",
     "state": {
      "_dom_classes": [],
      "_model_module": "@jupyter-widgets/controls",
      "_model_module_version": "1.5.0",
      "_model_name": "HTMLModel",
      "_view_count": null,
      "_view_module": "@jupyter-widgets/controls",
      "_view_module_version": "1.5.0",
      "_view_name": "HTMLView",
      "description": "",
      "description_tooltip": null,
      "layout": "IPY_MODEL_25e32ffacaa94c1fbffd5a5a655ab5bd",
      "placeholder": "​",
      "style": "IPY_MODEL_2f371b5b3e294c7b97e2ca5bed64af69",
      "value": " 21/21 [00:02&lt;00:00, 11.72it/s]"
     }
    },
    "8ea3b859c3dd4a60b0c464b0686cdd28": {
     "model_module": "@jupyter-widgets/controls",
     "model_module_version": "1.5.0",
     "model_name": "HTMLModel",
     "state": {
      "_dom_classes": [],
      "_model_module": "@jupyter-widgets/controls",
      "_model_module_version": "1.5.0",
      "_model_name": "HTMLModel",
      "_view_count": null,
      "_view_module": "@jupyter-widgets/controls",
      "_view_module_version": "1.5.0",
      "_view_name": "HTMLView",
      "description": "",
      "description_tooltip": null,
      "layout": "IPY_MODEL_094dfeabed62460f84a57a0c21620dbc",
      "placeholder": "​",
      "style": "IPY_MODEL_ebaedec294bc471fb36a1af79b926683",
      "value": " 82/82 [00:04&lt;00:00, 18.46it/s]"
     }
    },
    "8f74df524b13404987fb05f3781bea68": {
     "model_module": "@jupyter-widgets/controls",
     "model_module_version": "1.5.0",
     "model_name": "HTMLModel",
     "state": {
      "_dom_classes": [],
      "_model_module": "@jupyter-widgets/controls",
      "_model_module_version": "1.5.0",
      "_model_name": "HTMLModel",
      "_view_count": null,
      "_view_module": "@jupyter-widgets/controls",
      "_view_module_version": "1.5.0",
      "_view_name": "HTMLView",
      "description": "",
      "description_tooltip": null,
      "layout": "IPY_MODEL_aacddbc1e61847a086b569cbc47b3fd6",
      "placeholder": "​",
      "style": "IPY_MODEL_f7c3f1504c1e419290efcf9d21f1f6e8",
      "value": " 41/41 [00:27&lt;00:00,  1.73it/s]"
     }
    },
    "90887224021947dfa09ea5de9d76822f": {
     "model_module": "@jupyter-widgets/base",
     "model_module_version": "1.2.0",
     "model_name": "LayoutModel",
     "state": {
      "_model_module": "@jupyter-widgets/base",
      "_model_module_version": "1.2.0",
      "_model_name": "LayoutModel",
      "_view_count": null,
      "_view_module": "@jupyter-widgets/base",
      "_view_module_version": "1.2.0",
      "_view_name": "LayoutView",
      "align_content": null,
      "align_items": null,
      "align_self": null,
      "border": null,
      "bottom": null,
      "display": null,
      "flex": null,
      "flex_flow": null,
      "grid_area": null,
      "grid_auto_columns": null,
      "grid_auto_flow": null,
      "grid_auto_rows": null,
      "grid_column": null,
      "grid_gap": null,
      "grid_row": null,
      "grid_template_areas": null,
      "grid_template_columns": null,
      "grid_template_rows": null,
      "height": null,
      "justify_content": null,
      "justify_items": null,
      "left": null,
      "margin": null,
      "max_height": null,
      "max_width": null,
      "min_height": null,
      "min_width": null,
      "object_fit": null,
      "object_position": null,
      "order": null,
      "overflow": null,
      "overflow_x": null,
      "overflow_y": null,
      "padding": null,
      "right": null,
      "top": null,
      "visibility": null,
      "width": null
     }
    },
    "939f870d352a4e708c3ba97606e2919d": {
     "model_module": "@jupyter-widgets/controls",
     "model_module_version": "1.5.0",
     "model_name": "DescriptionStyleModel",
     "state": {
      "_model_module": "@jupyter-widgets/controls",
      "_model_module_version": "1.5.0",
      "_model_name": "DescriptionStyleModel",
      "_view_count": null,
      "_view_module": "@jupyter-widgets/base",
      "_view_module_version": "1.2.0",
      "_view_name": "StyleView",
      "description_width": ""
     }
    },
    "93efc0804c5e4f5cbcfc8df0ec1462bd": {
     "model_module": "@jupyter-widgets/controls",
     "model_module_version": "1.5.0",
     "model_name": "ProgressStyleModel",
     "state": {
      "_model_module": "@jupyter-widgets/controls",
      "_model_module_version": "1.5.0",
      "_model_name": "ProgressStyleModel",
      "_view_count": null,
      "_view_module": "@jupyter-widgets/base",
      "_view_module_version": "1.2.0",
      "_view_name": "StyleView",
      "bar_color": null,
      "description_width": ""
     }
    },
    "94896ce46bae4c4199b0d1417520587e": {
     "model_module": "@jupyter-widgets/controls",
     "model_module_version": "1.5.0",
     "model_name": "HTMLModel",
     "state": {
      "_dom_classes": [],
      "_model_module": "@jupyter-widgets/controls",
      "_model_module_version": "1.5.0",
      "_model_name": "HTMLModel",
      "_view_count": null,
      "_view_module": "@jupyter-widgets/controls",
      "_view_module_version": "1.5.0",
      "_view_name": "HTMLView",
      "description": "",
      "description_tooltip": null,
      "layout": "IPY_MODEL_15aa37a40e0b4af1bda7fb577e662219",
      "placeholder": "​",
      "style": "IPY_MODEL_bed5567aae93490ba31ea93fa23e7833",
      "value": " 82/82 [00:28&lt;00:00,  3.48it/s]"
     }
    },
    "983a0430afc44f489ca6a694faf4e304": {
     "model_module": "@jupyter-widgets/base",
     "model_module_version": "1.2.0",
     "model_name": "LayoutModel",
     "state": {
      "_model_module": "@jupyter-widgets/base",
      "_model_module_version": "1.2.0",
      "_model_name": "LayoutModel",
      "_view_count": null,
      "_view_module": "@jupyter-widgets/base",
      "_view_module_version": "1.2.0",
      "_view_name": "LayoutView",
      "align_content": null,
      "align_items": null,
      "align_self": null,
      "border": null,
      "bottom": null,
      "display": null,
      "flex": null,
      "flex_flow": null,
      "grid_area": null,
      "grid_auto_columns": null,
      "grid_auto_flow": null,
      "grid_auto_rows": null,
      "grid_column": null,
      "grid_gap": null,
      "grid_row": null,
      "grid_template_areas": null,
      "grid_template_columns": null,
      "grid_template_rows": null,
      "height": null,
      "justify_content": null,
      "justify_items": null,
      "left": null,
      "margin": null,
      "max_height": null,
      "max_width": null,
      "min_height": null,
      "min_width": null,
      "object_fit": null,
      "object_position": null,
      "order": null,
      "overflow": null,
      "overflow_x": null,
      "overflow_y": null,
      "padding": null,
      "right": null,
      "top": null,
      "visibility": null,
      "width": null
     }
    },
    "994eb100d21c4fdb867e7c2628ed794b": {
     "model_module": "@jupyter-widgets/controls",
     "model_module_version": "1.5.0",
     "model_name": "HTMLModel",
     "state": {
      "_dom_classes": [],
      "_model_module": "@jupyter-widgets/controls",
      "_model_module_version": "1.5.0",
      "_model_name": "HTMLModel",
      "_view_count": null,
      "_view_module": "@jupyter-widgets/controls",
      "_view_module_version": "1.5.0",
      "_view_name": "HTMLView",
      "description": "",
      "description_tooltip": null,
      "layout": "IPY_MODEL_87f818ef9c52425ba72763285283759f",
      "placeholder": "​",
      "style": "IPY_MODEL_a878b828b68142c28bdc8c286746f7e6",
      "value": "Batches: 100%"
     }
    },
    "9d1150ca64d4486bb139b2a3479a1244": {
     "model_module": "@jupyter-widgets/controls",
     "model_module_version": "1.5.0",
     "model_name": "HTMLModel",
     "state": {
      "_dom_classes": [],
      "_model_module": "@jupyter-widgets/controls",
      "_model_module_version": "1.5.0",
      "_model_name": "HTMLModel",
      "_view_count": null,
      "_view_module": "@jupyter-widgets/controls",
      "_view_module_version": "1.5.0",
      "_view_name": "HTMLView",
      "description": "",
      "description_tooltip": null,
      "layout": "IPY_MODEL_a3e9b6da5ae0475fb6e41021ffca67e8",
      "placeholder": "​",
      "style": "IPY_MODEL_687e86b0be2c4f8f85e16edd92354930",
      "value": "Batches: 100%"
     }
    },
    "a37819606a9940d6993d755579769d28": {
     "model_module": "@jupyter-widgets/controls",
     "model_module_version": "1.5.0",
     "model_name": "DescriptionStyleModel",
     "state": {
      "_model_module": "@jupyter-widgets/controls",
      "_model_module_version": "1.5.0",
      "_model_name": "DescriptionStyleModel",
      "_view_count": null,
      "_view_module": "@jupyter-widgets/base",
      "_view_module_version": "1.2.0",
      "_view_name": "StyleView",
      "description_width": ""
     }
    },
    "a3e9b6da5ae0475fb6e41021ffca67e8": {
     "model_module": "@jupyter-widgets/base",
     "model_module_version": "1.2.0",
     "model_name": "LayoutModel",
     "state": {
      "_model_module": "@jupyter-widgets/base",
      "_model_module_version": "1.2.0",
      "_model_name": "LayoutModel",
      "_view_count": null,
      "_view_module": "@jupyter-widgets/base",
      "_view_module_version": "1.2.0",
      "_view_name": "LayoutView",
      "align_content": null,
      "align_items": null,
      "align_self": null,
      "border": null,
      "bottom": null,
      "display": null,
      "flex": null,
      "flex_flow": null,
      "grid_area": null,
      "grid_auto_columns": null,
      "grid_auto_flow": null,
      "grid_auto_rows": null,
      "grid_column": null,
      "grid_gap": null,
      "grid_row": null,
      "grid_template_areas": null,
      "grid_template_columns": null,
      "grid_template_rows": null,
      "height": null,
      "justify_content": null,
      "justify_items": null,
      "left": null,
      "margin": null,
      "max_height": null,
      "max_width": null,
      "min_height": null,
      "min_width": null,
      "object_fit": null,
      "object_position": null,
      "order": null,
      "overflow": null,
      "overflow_x": null,
      "overflow_y": null,
      "padding": null,
      "right": null,
      "top": null,
      "visibility": null,
      "width": null
     }
    },
    "a4c9114ba4f840a8b544c1202029256e": {
     "model_module": "@jupyter-widgets/base",
     "model_module_version": "1.2.0",
     "model_name": "LayoutModel",
     "state": {
      "_model_module": "@jupyter-widgets/base",
      "_model_module_version": "1.2.0",
      "_model_name": "LayoutModel",
      "_view_count": null,
      "_view_module": "@jupyter-widgets/base",
      "_view_module_version": "1.2.0",
      "_view_name": "LayoutView",
      "align_content": null,
      "align_items": null,
      "align_self": null,
      "border": null,
      "bottom": null,
      "display": null,
      "flex": null,
      "flex_flow": null,
      "grid_area": null,
      "grid_auto_columns": null,
      "grid_auto_flow": null,
      "grid_auto_rows": null,
      "grid_column": null,
      "grid_gap": null,
      "grid_row": null,
      "grid_template_areas": null,
      "grid_template_columns": null,
      "grid_template_rows": null,
      "height": null,
      "justify_content": null,
      "justify_items": null,
      "left": null,
      "margin": null,
      "max_height": null,
      "max_width": null,
      "min_height": null,
      "min_width": null,
      "object_fit": null,
      "object_position": null,
      "order": null,
      "overflow": null,
      "overflow_x": null,
      "overflow_y": null,
      "padding": null,
      "right": null,
      "top": null,
      "visibility": null,
      "width": null
     }
    },
    "a4ffe598e1e14ed5bdb4a75cccdd7aa0": {
     "model_module": "@jupyter-widgets/controls",
     "model_module_version": "1.5.0",
     "model_name": "HTMLModel",
     "state": {
      "_dom_classes": [],
      "_model_module": "@jupyter-widgets/controls",
      "_model_module_version": "1.5.0",
      "_model_name": "HTMLModel",
      "_view_count": null,
      "_view_module": "@jupyter-widgets/controls",
      "_view_module_version": "1.5.0",
      "_view_name": "HTMLView",
      "description": "",
      "description_tooltip": null,
      "layout": "IPY_MODEL_4a752af52bba452b85c05f2a7725d3fd",
      "placeholder": "​",
      "style": "IPY_MODEL_3337e3d7eb2a4a56bf38b47ecd149589",
      "value": " 21/21 [00:15&lt;00:00,  1.52it/s]"
     }
    },
    "a52e125685db44e6b1a69002affa2cd5": {
     "model_module": "@jupyter-widgets/base",
     "model_module_version": "1.2.0",
     "model_name": "LayoutModel",
     "state": {
      "_model_module": "@jupyter-widgets/base",
      "_model_module_version": "1.2.0",
      "_model_name": "LayoutModel",
      "_view_count": null,
      "_view_module": "@jupyter-widgets/base",
      "_view_module_version": "1.2.0",
      "_view_name": "LayoutView",
      "align_content": null,
      "align_items": null,
      "align_self": null,
      "border": null,
      "bottom": null,
      "display": null,
      "flex": null,
      "flex_flow": null,
      "grid_area": null,
      "grid_auto_columns": null,
      "grid_auto_flow": null,
      "grid_auto_rows": null,
      "grid_column": null,
      "grid_gap": null,
      "grid_row": null,
      "grid_template_areas": null,
      "grid_template_columns": null,
      "grid_template_rows": null,
      "height": null,
      "justify_content": null,
      "justify_items": null,
      "left": null,
      "margin": null,
      "max_height": null,
      "max_width": null,
      "min_height": null,
      "min_width": null,
      "object_fit": null,
      "object_position": null,
      "order": null,
      "overflow": null,
      "overflow_x": null,
      "overflow_y": null,
      "padding": null,
      "right": null,
      "top": null,
      "visibility": null,
      "width": null
     }
    },
    "a6b0ac40a7e34e868857d2d5282b7a65": {
     "model_module": "@jupyter-widgets/controls",
     "model_module_version": "1.5.0",
     "model_name": "ProgressStyleModel",
     "state": {
      "_model_module": "@jupyter-widgets/controls",
      "_model_module_version": "1.5.0",
      "_model_name": "ProgressStyleModel",
      "_view_count": null,
      "_view_module": "@jupyter-widgets/base",
      "_view_module_version": "1.2.0",
      "_view_name": "StyleView",
      "bar_color": null,
      "description_width": ""
     }
    },
    "a878b828b68142c28bdc8c286746f7e6": {
     "model_module": "@jupyter-widgets/controls",
     "model_module_version": "1.5.0",
     "model_name": "DescriptionStyleModel",
     "state": {
      "_model_module": "@jupyter-widgets/controls",
      "_model_module_version": "1.5.0",
      "_model_name": "DescriptionStyleModel",
      "_view_count": null,
      "_view_module": "@jupyter-widgets/base",
      "_view_module_version": "1.2.0",
      "_view_name": "StyleView",
      "description_width": ""
     }
    },
    "a9a51730493d416a9969cc52334e21eb": {
     "model_module": "@jupyter-widgets/base",
     "model_module_version": "1.2.0",
     "model_name": "LayoutModel",
     "state": {
      "_model_module": "@jupyter-widgets/base",
      "_model_module_version": "1.2.0",
      "_model_name": "LayoutModel",
      "_view_count": null,
      "_view_module": "@jupyter-widgets/base",
      "_view_module_version": "1.2.0",
      "_view_name": "LayoutView",
      "align_content": null,
      "align_items": null,
      "align_self": null,
      "border": null,
      "bottom": null,
      "display": null,
      "flex": null,
      "flex_flow": null,
      "grid_area": null,
      "grid_auto_columns": null,
      "grid_auto_flow": null,
      "grid_auto_rows": null,
      "grid_column": null,
      "grid_gap": null,
      "grid_row": null,
      "grid_template_areas": null,
      "grid_template_columns": null,
      "grid_template_rows": null,
      "height": null,
      "justify_content": null,
      "justify_items": null,
      "left": null,
      "margin": null,
      "max_height": null,
      "max_width": null,
      "min_height": null,
      "min_width": null,
      "object_fit": null,
      "object_position": null,
      "order": null,
      "overflow": null,
      "overflow_x": null,
      "overflow_y": null,
      "padding": null,
      "right": null,
      "top": null,
      "visibility": null,
      "width": null
     }
    },
    "aa30e5755dde4fb8b03e0e17904b5170": {
     "model_module": "@jupyter-widgets/base",
     "model_module_version": "1.2.0",
     "model_name": "LayoutModel",
     "state": {
      "_model_module": "@jupyter-widgets/base",
      "_model_module_version": "1.2.0",
      "_model_name": "LayoutModel",
      "_view_count": null,
      "_view_module": "@jupyter-widgets/base",
      "_view_module_version": "1.2.0",
      "_view_name": "LayoutView",
      "align_content": null,
      "align_items": null,
      "align_self": null,
      "border": null,
      "bottom": null,
      "display": null,
      "flex": null,
      "flex_flow": null,
      "grid_area": null,
      "grid_auto_columns": null,
      "grid_auto_flow": null,
      "grid_auto_rows": null,
      "grid_column": null,
      "grid_gap": null,
      "grid_row": null,
      "grid_template_areas": null,
      "grid_template_columns": null,
      "grid_template_rows": null,
      "height": null,
      "justify_content": null,
      "justify_items": null,
      "left": null,
      "margin": null,
      "max_height": null,
      "max_width": null,
      "min_height": null,
      "min_width": null,
      "object_fit": null,
      "object_position": null,
      "order": null,
      "overflow": null,
      "overflow_x": null,
      "overflow_y": null,
      "padding": null,
      "right": null,
      "top": null,
      "visibility": null,
      "width": null
     }
    },
    "aa789ccaac1c4ae6b434d09aa9552d16": {
     "model_module": "@jupyter-widgets/controls",
     "model_module_version": "1.5.0",
     "model_name": "FloatProgressModel",
     "state": {
      "_dom_classes": [],
      "_model_module": "@jupyter-widgets/controls",
      "_model_module_version": "1.5.0",
      "_model_name": "FloatProgressModel",
      "_view_count": null,
      "_view_module": "@jupyter-widgets/controls",
      "_view_module_version": "1.5.0",
      "_view_name": "ProgressView",
      "bar_style": "success",
      "description": "",
      "description_tooltip": null,
      "layout": "IPY_MODEL_eafff1682e364444a2c858eeb8dc5ccd",
      "max": 82,
      "min": 0,
      "orientation": "horizontal",
      "style": "IPY_MODEL_7ccc57691d594790ae77044760faf724",
      "value": 82
     }
    },
    "aacddbc1e61847a086b569cbc47b3fd6": {
     "model_module": "@jupyter-widgets/base",
     "model_module_version": "1.2.0",
     "model_name": "LayoutModel",
     "state": {
      "_model_module": "@jupyter-widgets/base",
      "_model_module_version": "1.2.0",
      "_model_name": "LayoutModel",
      "_view_count": null,
      "_view_module": "@jupyter-widgets/base",
      "_view_module_version": "1.2.0",
      "_view_name": "LayoutView",
      "align_content": null,
      "align_items": null,
      "align_self": null,
      "border": null,
      "bottom": null,
      "display": null,
      "flex": null,
      "flex_flow": null,
      "grid_area": null,
      "grid_auto_columns": null,
      "grid_auto_flow": null,
      "grid_auto_rows": null,
      "grid_column": null,
      "grid_gap": null,
      "grid_row": null,
      "grid_template_areas": null,
      "grid_template_columns": null,
      "grid_template_rows": null,
      "height": null,
      "justify_content": null,
      "justify_items": null,
      "left": null,
      "margin": null,
      "max_height": null,
      "max_width": null,
      "min_height": null,
      "min_width": null,
      "object_fit": null,
      "object_position": null,
      "order": null,
      "overflow": null,
      "overflow_x": null,
      "overflow_y": null,
      "padding": null,
      "right": null,
      "top": null,
      "visibility": null,
      "width": null
     }
    },
    "ab1c24afdd8849f8a9c1ed5c026cfce5": {
     "model_module": "@jupyter-widgets/controls",
     "model_module_version": "1.5.0",
     "model_name": "FloatProgressModel",
     "state": {
      "_dom_classes": [],
      "_model_module": "@jupyter-widgets/controls",
      "_model_module_version": "1.5.0",
      "_model_name": "FloatProgressModel",
      "_view_count": null,
      "_view_module": "@jupyter-widgets/controls",
      "_view_module_version": "1.5.0",
      "_view_name": "ProgressView",
      "bar_style": "success",
      "description": "",
      "description_tooltip": null,
      "layout": "IPY_MODEL_01d6f1edd2f94707be9cc827e47405f0",
      "max": 82,
      "min": 0,
      "orientation": "horizontal",
      "style": "IPY_MODEL_93efc0804c5e4f5cbcfc8df0ec1462bd",
      "value": 82
     }
    },
    "ac072338d3b044f19d74511210729a25": {
     "model_module": "@jupyter-widgets/controls",
     "model_module_version": "1.5.0",
     "model_name": "DescriptionStyleModel",
     "state": {
      "_model_module": "@jupyter-widgets/controls",
      "_model_module_version": "1.5.0",
      "_model_name": "DescriptionStyleModel",
      "_view_count": null,
      "_view_module": "@jupyter-widgets/base",
      "_view_module_version": "1.2.0",
      "_view_name": "StyleView",
      "description_width": ""
     }
    },
    "ac12923fbfd54d16a7279869a147a224": {
     "model_module": "@jupyter-widgets/controls",
     "model_module_version": "1.5.0",
     "model_name": "FloatProgressModel",
     "state": {
      "_dom_classes": [],
      "_model_module": "@jupyter-widgets/controls",
      "_model_module_version": "1.5.0",
      "_model_name": "FloatProgressModel",
      "_view_count": null,
      "_view_module": "@jupyter-widgets/controls",
      "_view_module_version": "1.5.0",
      "_view_name": "ProgressView",
      "bar_style": "success",
      "description": "",
      "description_tooltip": null,
      "layout": "IPY_MODEL_a9a51730493d416a9969cc52334e21eb",
      "max": 41,
      "min": 0,
      "orientation": "horizontal",
      "style": "IPY_MODEL_f6eec8f8a9904491ae09fb6594214b12",
      "value": 41
     }
    },
    "acc48b3440c04b05b7a2af353229f84f": {
     "model_module": "@jupyter-widgets/base",
     "model_module_version": "1.2.0",
     "model_name": "LayoutModel",
     "state": {
      "_model_module": "@jupyter-widgets/base",
      "_model_module_version": "1.2.0",
      "_model_name": "LayoutModel",
      "_view_count": null,
      "_view_module": "@jupyter-widgets/base",
      "_view_module_version": "1.2.0",
      "_view_name": "LayoutView",
      "align_content": null,
      "align_items": null,
      "align_self": null,
      "border": null,
      "bottom": null,
      "display": null,
      "flex": null,
      "flex_flow": null,
      "grid_area": null,
      "grid_auto_columns": null,
      "grid_auto_flow": null,
      "grid_auto_rows": null,
      "grid_column": null,
      "grid_gap": null,
      "grid_row": null,
      "grid_template_areas": null,
      "grid_template_columns": null,
      "grid_template_rows": null,
      "height": null,
      "justify_content": null,
      "justify_items": null,
      "left": null,
      "margin": null,
      "max_height": null,
      "max_width": null,
      "min_height": null,
      "min_width": null,
      "object_fit": null,
      "object_position": null,
      "order": null,
      "overflow": null,
      "overflow_x": null,
      "overflow_y": null,
      "padding": null,
      "right": null,
      "top": null,
      "visibility": null,
      "width": null
     }
    },
    "acf7b7296c39460ebf7e4c48b836eab6": {
     "model_module": "@jupyter-widgets/controls",
     "model_module_version": "1.5.0",
     "model_name": "ProgressStyleModel",
     "state": {
      "_model_module": "@jupyter-widgets/controls",
      "_model_module_version": "1.5.0",
      "_model_name": "ProgressStyleModel",
      "_view_count": null,
      "_view_module": "@jupyter-widgets/base",
      "_view_module_version": "1.2.0",
      "_view_name": "StyleView",
      "bar_color": null,
      "description_width": ""
     }
    },
    "b9c7f3efa8bf421087423cac9ec0f0dd": {
     "model_module": "@jupyter-widgets/controls",
     "model_module_version": "1.5.0",
     "model_name": "DescriptionStyleModel",
     "state": {
      "_model_module": "@jupyter-widgets/controls",
      "_model_module_version": "1.5.0",
      "_model_name": "DescriptionStyleModel",
      "_view_count": null,
      "_view_module": "@jupyter-widgets/base",
      "_view_module_version": "1.2.0",
      "_view_name": "StyleView",
      "description_width": ""
     }
    },
    "baebe39257b14050bf3f71bcd78f24dc": {
     "model_module": "@jupyter-widgets/base",
     "model_module_version": "1.2.0",
     "model_name": "LayoutModel",
     "state": {
      "_model_module": "@jupyter-widgets/base",
      "_model_module_version": "1.2.0",
      "_model_name": "LayoutModel",
      "_view_count": null,
      "_view_module": "@jupyter-widgets/base",
      "_view_module_version": "1.2.0",
      "_view_name": "LayoutView",
      "align_content": null,
      "align_items": null,
      "align_self": null,
      "border": null,
      "bottom": null,
      "display": null,
      "flex": null,
      "flex_flow": null,
      "grid_area": null,
      "grid_auto_columns": null,
      "grid_auto_flow": null,
      "grid_auto_rows": null,
      "grid_column": null,
      "grid_gap": null,
      "grid_row": null,
      "grid_template_areas": null,
      "grid_template_columns": null,
      "grid_template_rows": null,
      "height": null,
      "justify_content": null,
      "justify_items": null,
      "left": null,
      "margin": null,
      "max_height": null,
      "max_width": null,
      "min_height": null,
      "min_width": null,
      "object_fit": null,
      "object_position": null,
      "order": null,
      "overflow": null,
      "overflow_x": null,
      "overflow_y": null,
      "padding": null,
      "right": null,
      "top": null,
      "visibility": null,
      "width": null
     }
    },
    "bed5567aae93490ba31ea93fa23e7833": {
     "model_module": "@jupyter-widgets/controls",
     "model_module_version": "1.5.0",
     "model_name": "DescriptionStyleModel",
     "state": {
      "_model_module": "@jupyter-widgets/controls",
      "_model_module_version": "1.5.0",
      "_model_name": "DescriptionStyleModel",
      "_view_count": null,
      "_view_module": "@jupyter-widgets/base",
      "_view_module_version": "1.2.0",
      "_view_name": "StyleView",
      "description_width": ""
     }
    },
    "c02482682b28491087a08a1f3e4d59c6": {
     "model_module": "@jupyter-widgets/controls",
     "model_module_version": "1.5.0",
     "model_name": "HTMLModel",
     "state": {
      "_dom_classes": [],
      "_model_module": "@jupyter-widgets/controls",
      "_model_module_version": "1.5.0",
      "_model_name": "HTMLModel",
      "_view_count": null,
      "_view_module": "@jupyter-widgets/controls",
      "_view_module_version": "1.5.0",
      "_view_name": "HTMLView",
      "description": "",
      "description_tooltip": null,
      "layout": "IPY_MODEL_41f93af555644e7e8e8e1bc731e50cfc",
      "placeholder": "​",
      "style": "IPY_MODEL_ac072338d3b044f19d74511210729a25",
      "value": " 21/21 [00:07&lt;00:00,  3.34it/s]"
     }
    },
    "c3f4037c35d549058b33218db616fc52": {
     "model_module": "@jupyter-widgets/base",
     "model_module_version": "1.2.0",
     "model_name": "LayoutModel",
     "state": {
      "_model_module": "@jupyter-widgets/base",
      "_model_module_version": "1.2.0",
      "_model_name": "LayoutModel",
      "_view_count": null,
      "_view_module": "@jupyter-widgets/base",
      "_view_module_version": "1.2.0",
      "_view_name": "LayoutView",
      "align_content": null,
      "align_items": null,
      "align_self": null,
      "border": null,
      "bottom": null,
      "display": null,
      "flex": null,
      "flex_flow": null,
      "grid_area": null,
      "grid_auto_columns": null,
      "grid_auto_flow": null,
      "grid_auto_rows": null,
      "grid_column": null,
      "grid_gap": null,
      "grid_row": null,
      "grid_template_areas": null,
      "grid_template_columns": null,
      "grid_template_rows": null,
      "height": null,
      "justify_content": null,
      "justify_items": null,
      "left": null,
      "margin": null,
      "max_height": null,
      "max_width": null,
      "min_height": null,
      "min_width": null,
      "object_fit": null,
      "object_position": null,
      "order": null,
      "overflow": null,
      "overflow_x": null,
      "overflow_y": null,
      "padding": null,
      "right": null,
      "top": null,
      "visibility": null,
      "width": null
     }
    },
    "c64a4d7a1cc045f7bd52faa71c62e877": {
     "model_module": "@jupyter-widgets/controls",
     "model_module_version": "1.5.0",
     "model_name": "HTMLModel",
     "state": {
      "_dom_classes": [],
      "_model_module": "@jupyter-widgets/controls",
      "_model_module_version": "1.5.0",
      "_model_name": "HTMLModel",
      "_view_count": null,
      "_view_module": "@jupyter-widgets/controls",
      "_view_module_version": "1.5.0",
      "_view_name": "HTMLView",
      "description": "",
      "description_tooltip": null,
      "layout": "IPY_MODEL_364c3dcef653431a9b93864908dfff93",
      "placeholder": "​",
      "style": "IPY_MODEL_1a0cc0f2101e4f3e93e652e9f85beaea",
      "value": "Batches: 100%"
     }
    },
    "ca9d236d2e104e0f84b0ea5c0d00fb27": {
     "model_module": "@jupyter-widgets/base",
     "model_module_version": "1.2.0",
     "model_name": "LayoutModel",
     "state": {
      "_model_module": "@jupyter-widgets/base",
      "_model_module_version": "1.2.0",
      "_model_name": "LayoutModel",
      "_view_count": null,
      "_view_module": "@jupyter-widgets/base",
      "_view_module_version": "1.2.0",
      "_view_name": "LayoutView",
      "align_content": null,
      "align_items": null,
      "align_self": null,
      "border": null,
      "bottom": null,
      "display": null,
      "flex": null,
      "flex_flow": null,
      "grid_area": null,
      "grid_auto_columns": null,
      "grid_auto_flow": null,
      "grid_auto_rows": null,
      "grid_column": null,
      "grid_gap": null,
      "grid_row": null,
      "grid_template_areas": null,
      "grid_template_columns": null,
      "grid_template_rows": null,
      "height": null,
      "justify_content": null,
      "justify_items": null,
      "left": null,
      "margin": null,
      "max_height": null,
      "max_width": null,
      "min_height": null,
      "min_width": null,
      "object_fit": null,
      "object_position": null,
      "order": null,
      "overflow": null,
      "overflow_x": null,
      "overflow_y": null,
      "padding": null,
      "right": null,
      "top": null,
      "visibility": null,
      "width": null
     }
    },
    "d3173dd939e748d2b833302a66ce0857": {
     "model_module": "@jupyter-widgets/base",
     "model_module_version": "1.2.0",
     "model_name": "LayoutModel",
     "state": {
      "_model_module": "@jupyter-widgets/base",
      "_model_module_version": "1.2.0",
      "_model_name": "LayoutModel",
      "_view_count": null,
      "_view_module": "@jupyter-widgets/base",
      "_view_module_version": "1.2.0",
      "_view_name": "LayoutView",
      "align_content": null,
      "align_items": null,
      "align_self": null,
      "border": null,
      "bottom": null,
      "display": null,
      "flex": null,
      "flex_flow": null,
      "grid_area": null,
      "grid_auto_columns": null,
      "grid_auto_flow": null,
      "grid_auto_rows": null,
      "grid_column": null,
      "grid_gap": null,
      "grid_row": null,
      "grid_template_areas": null,
      "grid_template_columns": null,
      "grid_template_rows": null,
      "height": null,
      "justify_content": null,
      "justify_items": null,
      "left": null,
      "margin": null,
      "max_height": null,
      "max_width": null,
      "min_height": null,
      "min_width": null,
      "object_fit": null,
      "object_position": null,
      "order": null,
      "overflow": null,
      "overflow_x": null,
      "overflow_y": null,
      "padding": null,
      "right": null,
      "top": null,
      "visibility": null,
      "width": null
     }
    },
    "d4507dc1dc394f49abc13dad17fb0df0": {
     "model_module": "@jupyter-widgets/controls",
     "model_module_version": "1.5.0",
     "model_name": "DescriptionStyleModel",
     "state": {
      "_model_module": "@jupyter-widgets/controls",
      "_model_module_version": "1.5.0",
      "_model_name": "DescriptionStyleModel",
      "_view_count": null,
      "_view_module": "@jupyter-widgets/base",
      "_view_module_version": "1.2.0",
      "_view_name": "StyleView",
      "description_width": ""
     }
    },
    "d4a03c53d0df4dc58549f33b47c80465": {
     "model_module": "@jupyter-widgets/controls",
     "model_module_version": "1.5.0",
     "model_name": "HTMLModel",
     "state": {
      "_dom_classes": [],
      "_model_module": "@jupyter-widgets/controls",
      "_model_module_version": "1.5.0",
      "_model_name": "HTMLModel",
      "_view_count": null,
      "_view_module": "@jupyter-widgets/controls",
      "_view_module_version": "1.5.0",
      "_view_name": "HTMLView",
      "description": "",
      "description_tooltip": null,
      "layout": "IPY_MODEL_66ca59a9be2c4b1c9c1ab0691c9d4868",
      "placeholder": "​",
      "style": "IPY_MODEL_87eff0f760cb409e9a685518177071f1",
      "value": " 41/41 [00:03&lt;00:00, 13.93it/s]"
     }
    },
    "d883b77c2ddf4882b81ebef5597f1175": {
     "model_module": "@jupyter-widgets/controls",
     "model_module_version": "1.5.0",
     "model_name": "FloatProgressModel",
     "state": {
      "_dom_classes": [],
      "_model_module": "@jupyter-widgets/controls",
      "_model_module_version": "1.5.0",
      "_model_name": "FloatProgressModel",
      "_view_count": null,
      "_view_module": "@jupyter-widgets/controls",
      "_view_module_version": "1.5.0",
      "_view_name": "ProgressView",
      "bar_style": "success",
      "description": "",
      "description_tooltip": null,
      "layout": "IPY_MODEL_aa30e5755dde4fb8b03e0e17904b5170",
      "max": 21,
      "min": 0,
      "orientation": "horizontal",
      "style": "IPY_MODEL_22224594bb8f4c2c81f863141935edbe",
      "value": 21
     }
    },
    "dc3f7e3f091c437f899a8218ce4f8005": {
     "model_module": "@jupyter-widgets/base",
     "model_module_version": "1.2.0",
     "model_name": "LayoutModel",
     "state": {
      "_model_module": "@jupyter-widgets/base",
      "_model_module_version": "1.2.0",
      "_model_name": "LayoutModel",
      "_view_count": null,
      "_view_module": "@jupyter-widgets/base",
      "_view_module_version": "1.2.0",
      "_view_name": "LayoutView",
      "align_content": null,
      "align_items": null,
      "align_self": null,
      "border": null,
      "bottom": null,
      "display": null,
      "flex": null,
      "flex_flow": null,
      "grid_area": null,
      "grid_auto_columns": null,
      "grid_auto_flow": null,
      "grid_auto_rows": null,
      "grid_column": null,
      "grid_gap": null,
      "grid_row": null,
      "grid_template_areas": null,
      "grid_template_columns": null,
      "grid_template_rows": null,
      "height": null,
      "justify_content": null,
      "justify_items": null,
      "left": null,
      "margin": null,
      "max_height": null,
      "max_width": null,
      "min_height": null,
      "min_width": null,
      "object_fit": null,
      "object_position": null,
      "order": null,
      "overflow": null,
      "overflow_x": null,
      "overflow_y": null,
      "padding": null,
      "right": null,
      "top": null,
      "visibility": null,
      "width": null
     }
    },
    "dd8590b1d3114d79bb8c5f593429391f": {
     "model_module": "@jupyter-widgets/controls",
     "model_module_version": "1.5.0",
     "model_name": "FloatProgressModel",
     "state": {
      "_dom_classes": [],
      "_model_module": "@jupyter-widgets/controls",
      "_model_module_version": "1.5.0",
      "_model_name": "FloatProgressModel",
      "_view_count": null,
      "_view_module": "@jupyter-widgets/controls",
      "_view_module_version": "1.5.0",
      "_view_name": "ProgressView",
      "bar_style": "success",
      "description": "",
      "description_tooltip": null,
      "layout": "IPY_MODEL_dc3f7e3f091c437f899a8218ce4f8005",
      "max": 41,
      "min": 0,
      "orientation": "horizontal",
      "style": "IPY_MODEL_10cf7bfcf3174e19a5c43c4bbbe33bdf",
      "value": 41
     }
    },
    "df0614acfbf948cb8eddf78d5013062d": {
     "model_module": "@jupyter-widgets/base",
     "model_module_version": "1.2.0",
     "model_name": "LayoutModel",
     "state": {
      "_model_module": "@jupyter-widgets/base",
      "_model_module_version": "1.2.0",
      "_model_name": "LayoutModel",
      "_view_count": null,
      "_view_module": "@jupyter-widgets/base",
      "_view_module_version": "1.2.0",
      "_view_name": "LayoutView",
      "align_content": null,
      "align_items": null,
      "align_self": null,
      "border": null,
      "bottom": null,
      "display": null,
      "flex": null,
      "flex_flow": null,
      "grid_area": null,
      "grid_auto_columns": null,
      "grid_auto_flow": null,
      "grid_auto_rows": null,
      "grid_column": null,
      "grid_gap": null,
      "grid_row": null,
      "grid_template_areas": null,
      "grid_template_columns": null,
      "grid_template_rows": null,
      "height": null,
      "justify_content": null,
      "justify_items": null,
      "left": null,
      "margin": null,
      "max_height": null,
      "max_width": null,
      "min_height": null,
      "min_width": null,
      "object_fit": null,
      "object_position": null,
      "order": null,
      "overflow": null,
      "overflow_x": null,
      "overflow_y": null,
      "padding": null,
      "right": null,
      "top": null,
      "visibility": null,
      "width": null
     }
    },
    "eafff1682e364444a2c858eeb8dc5ccd": {
     "model_module": "@jupyter-widgets/base",
     "model_module_version": "1.2.0",
     "model_name": "LayoutModel",
     "state": {
      "_model_module": "@jupyter-widgets/base",
      "_model_module_version": "1.2.0",
      "_model_name": "LayoutModel",
      "_view_count": null,
      "_view_module": "@jupyter-widgets/base",
      "_view_module_version": "1.2.0",
      "_view_name": "LayoutView",
      "align_content": null,
      "align_items": null,
      "align_self": null,
      "border": null,
      "bottom": null,
      "display": null,
      "flex": null,
      "flex_flow": null,
      "grid_area": null,
      "grid_auto_columns": null,
      "grid_auto_flow": null,
      "grid_auto_rows": null,
      "grid_column": null,
      "grid_gap": null,
      "grid_row": null,
      "grid_template_areas": null,
      "grid_template_columns": null,
      "grid_template_rows": null,
      "height": null,
      "justify_content": null,
      "justify_items": null,
      "left": null,
      "margin": null,
      "max_height": null,
      "max_width": null,
      "min_height": null,
      "min_width": null,
      "object_fit": null,
      "object_position": null,
      "order": null,
      "overflow": null,
      "overflow_x": null,
      "overflow_y": null,
      "padding": null,
      "right": null,
      "top": null,
      "visibility": null,
      "width": null
     }
    },
    "eb8a629b9d18417b91d626d71aa6576b": {
     "model_module": "@jupyter-widgets/base",
     "model_module_version": "1.2.0",
     "model_name": "LayoutModel",
     "state": {
      "_model_module": "@jupyter-widgets/base",
      "_model_module_version": "1.2.0",
      "_model_name": "LayoutModel",
      "_view_count": null,
      "_view_module": "@jupyter-widgets/base",
      "_view_module_version": "1.2.0",
      "_view_name": "LayoutView",
      "align_content": null,
      "align_items": null,
      "align_self": null,
      "border": null,
      "bottom": null,
      "display": null,
      "flex": null,
      "flex_flow": null,
      "grid_area": null,
      "grid_auto_columns": null,
      "grid_auto_flow": null,
      "grid_auto_rows": null,
      "grid_column": null,
      "grid_gap": null,
      "grid_row": null,
      "grid_template_areas": null,
      "grid_template_columns": null,
      "grid_template_rows": null,
      "height": null,
      "justify_content": null,
      "justify_items": null,
      "left": null,
      "margin": null,
      "max_height": null,
      "max_width": null,
      "min_height": null,
      "min_width": null,
      "object_fit": null,
      "object_position": null,
      "order": null,
      "overflow": null,
      "overflow_x": null,
      "overflow_y": null,
      "padding": null,
      "right": null,
      "top": null,
      "visibility": null,
      "width": null
     }
    },
    "ebaedec294bc471fb36a1af79b926683": {
     "model_module": "@jupyter-widgets/controls",
     "model_module_version": "1.5.0",
     "model_name": "DescriptionStyleModel",
     "state": {
      "_model_module": "@jupyter-widgets/controls",
      "_model_module_version": "1.5.0",
      "_model_name": "DescriptionStyleModel",
      "_view_count": null,
      "_view_module": "@jupyter-widgets/base",
      "_view_module_version": "1.2.0",
      "_view_name": "StyleView",
      "description_width": ""
     }
    },
    "ef3c66df23c040bd806ab0ae5a454a6f": {
     "model_module": "@jupyter-widgets/base",
     "model_module_version": "1.2.0",
     "model_name": "LayoutModel",
     "state": {
      "_model_module": "@jupyter-widgets/base",
      "_model_module_version": "1.2.0",
      "_model_name": "LayoutModel",
      "_view_count": null,
      "_view_module": "@jupyter-widgets/base",
      "_view_module_version": "1.2.0",
      "_view_name": "LayoutView",
      "align_content": null,
      "align_items": null,
      "align_self": null,
      "border": null,
      "bottom": null,
      "display": null,
      "flex": null,
      "flex_flow": null,
      "grid_area": null,
      "grid_auto_columns": null,
      "grid_auto_flow": null,
      "grid_auto_rows": null,
      "grid_column": null,
      "grid_gap": null,
      "grid_row": null,
      "grid_template_areas": null,
      "grid_template_columns": null,
      "grid_template_rows": null,
      "height": null,
      "justify_content": null,
      "justify_items": null,
      "left": null,
      "margin": null,
      "max_height": null,
      "max_width": null,
      "min_height": null,
      "min_width": null,
      "object_fit": null,
      "object_position": null,
      "order": null,
      "overflow": null,
      "overflow_x": null,
      "overflow_y": null,
      "padding": null,
      "right": null,
      "top": null,
      "visibility": null,
      "width": null
     }
    },
    "f03ed14988744135ab37d2cecf4b2b25": {
     "model_module": "@jupyter-widgets/base",
     "model_module_version": "1.2.0",
     "model_name": "LayoutModel",
     "state": {
      "_model_module": "@jupyter-widgets/base",
      "_model_module_version": "1.2.0",
      "_model_name": "LayoutModel",
      "_view_count": null,
      "_view_module": "@jupyter-widgets/base",
      "_view_module_version": "1.2.0",
      "_view_name": "LayoutView",
      "align_content": null,
      "align_items": null,
      "align_self": null,
      "border": null,
      "bottom": null,
      "display": null,
      "flex": null,
      "flex_flow": null,
      "grid_area": null,
      "grid_auto_columns": null,
      "grid_auto_flow": null,
      "grid_auto_rows": null,
      "grid_column": null,
      "grid_gap": null,
      "grid_row": null,
      "grid_template_areas": null,
      "grid_template_columns": null,
      "grid_template_rows": null,
      "height": null,
      "justify_content": null,
      "justify_items": null,
      "left": null,
      "margin": null,
      "max_height": null,
      "max_width": null,
      "min_height": null,
      "min_width": null,
      "object_fit": null,
      "object_position": null,
      "order": null,
      "overflow": null,
      "overflow_x": null,
      "overflow_y": null,
      "padding": null,
      "right": null,
      "top": null,
      "visibility": null,
      "width": null
     }
    },
    "f6eec8f8a9904491ae09fb6594214b12": {
     "model_module": "@jupyter-widgets/controls",
     "model_module_version": "1.5.0",
     "model_name": "ProgressStyleModel",
     "state": {
      "_model_module": "@jupyter-widgets/controls",
      "_model_module_version": "1.5.0",
      "_model_name": "ProgressStyleModel",
      "_view_count": null,
      "_view_module": "@jupyter-widgets/base",
      "_view_module_version": "1.2.0",
      "_view_name": "StyleView",
      "bar_color": null,
      "description_width": ""
     }
    },
    "f7c3f1504c1e419290efcf9d21f1f6e8": {
     "model_module": "@jupyter-widgets/controls",
     "model_module_version": "1.5.0",
     "model_name": "DescriptionStyleModel",
     "state": {
      "_model_module": "@jupyter-widgets/controls",
      "_model_module_version": "1.5.0",
      "_model_name": "DescriptionStyleModel",
      "_view_count": null,
      "_view_module": "@jupyter-widgets/base",
      "_view_module_version": "1.2.0",
      "_view_name": "StyleView",
      "description_width": ""
     }
    },
    "fb01c74fc2b14aba8bdbbf11776368ff": {
     "model_module": "@jupyter-widgets/base",
     "model_module_version": "1.2.0",
     "model_name": "LayoutModel",
     "state": {
      "_model_module": "@jupyter-widgets/base",
      "_model_module_version": "1.2.0",
      "_model_name": "LayoutModel",
      "_view_count": null,
      "_view_module": "@jupyter-widgets/base",
      "_view_module_version": "1.2.0",
      "_view_name": "LayoutView",
      "align_content": null,
      "align_items": null,
      "align_self": null,
      "border": null,
      "bottom": null,
      "display": null,
      "flex": null,
      "flex_flow": null,
      "grid_area": null,
      "grid_auto_columns": null,
      "grid_auto_flow": null,
      "grid_auto_rows": null,
      "grid_column": null,
      "grid_gap": null,
      "grid_row": null,
      "grid_template_areas": null,
      "grid_template_columns": null,
      "grid_template_rows": null,
      "height": null,
      "justify_content": null,
      "justify_items": null,
      "left": null,
      "margin": null,
      "max_height": null,
      "max_width": null,
      "min_height": null,
      "min_width": null,
      "object_fit": null,
      "object_position": null,
      "order": null,
      "overflow": null,
      "overflow_x": null,
      "overflow_y": null,
      "padding": null,
      "right": null,
      "top": null,
      "visibility": null,
      "width": null
     }
    },
    "fe85d7a35e9141d29cc1ae2b7b87bf56": {
     "model_module": "@jupyter-widgets/controls",
     "model_module_version": "1.5.0",
     "model_name": "HTMLModel",
     "state": {
      "_dom_classes": [],
      "_model_module": "@jupyter-widgets/controls",
      "_model_module_version": "1.5.0",
      "_model_name": "HTMLModel",
      "_view_count": null,
      "_view_module": "@jupyter-widgets/controls",
      "_view_module_version": "1.5.0",
      "_view_name": "HTMLView",
      "description": "",
      "description_tooltip": null,
      "layout": "IPY_MODEL_c3f4037c35d549058b33218db616fc52",
      "placeholder": "​",
      "style": "IPY_MODEL_2de3cb545d414e44b846ed7785d29437",
      "value": "Batches: 100%"
     }
    }
   }
  }
 },
 "nbformat": 4,
 "nbformat_minor": 5
}
